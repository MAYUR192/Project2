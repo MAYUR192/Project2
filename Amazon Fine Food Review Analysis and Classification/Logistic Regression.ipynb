{
 "cells": [
  {
   "cell_type": "code",
   "execution_count": 2,
   "metadata": {},
   "outputs": [],
   "source": [
    "import warnings\n",
    "warnings.filterwarnings(\"ignore\")"
   ]
  },
  {
   "cell_type": "code",
   "execution_count": 3,
   "metadata": {},
   "outputs": [],
   "source": [
    "import pandas as pd # Loading of Dataset i.e already Contain Cleaned text after removing Stop words,html,punctuation,Stemming\n",
    "final1= pd.read_csv('clenanedreview.csv',sep=',',encoding='utf-8')"
   ]
  },
  {
   "cell_type": "code",
   "execution_count": 4,
   "metadata": {},
   "outputs": [],
   "source": [
    "import numpy as np\n",
    "import pandas as pd\n",
    "import matplotlib.pyplot as plt\n",
    "from sklearn.metrics import accuracy_score\n",
    "from collections import Counter\n",
    "from sklearn.metrics import accuracy_score\n"
   ]
  },
  {
   "cell_type": "code",
   "execution_count": 5,
   "metadata": {},
   "outputs": [],
   "source": [
    "import string\n",
    "import matplotlib.pyplot as plt\n",
    "import seaborn as sns\n",
    "from sklearn.feature_extraction.text import TfidfTransformer\n",
    "from sklearn.feature_extraction.text import TfidfVectorizer\n",
    "from sklearn.feature_extraction.text import CountVectorizer\n",
    "from sklearn.metrics import confusion_matrix\n",
    "from sklearn import metrics\n",
    "from sklearn.metrics import roc_curve, auc\n"
   ]
  },
  {
   "cell_type": "code",
   "execution_count": 6,
   "metadata": {},
   "outputs": [],
   "source": [
    "final2=final1.sort_values('Time', ascending=True)"
   ]
  },
  {
   "cell_type": "code",
   "execution_count": 7,
   "metadata": {},
   "outputs": [],
   "source": [
    "def partition(x):\n",
    "    if x == 'positive':\n",
    "        return '1'\n",
    "    return '-1'\n",
    "actualScore = final2['Score']\n",
    "positiveNegative = actualScore.map(partition) \n",
    "final2['Score'] = positiveNegative"
   ]
  },
  {
   "cell_type": "code",
   "execution_count": 8,
   "metadata": {},
   "outputs": [],
   "source": [
    "y=final2['Score']"
   ]
  },
  {
   "cell_type": "markdown",
   "metadata": {},
   "source": [
    "# TF-IDF with L2 Regularisation"
   ]
  },
  {
   "cell_type": "code",
   "execution_count": 11,
   "metadata": {},
   "outputs": [],
   "source": [
    "from sklearn.model_selection import train_test_split\n",
    "X_train, X_test, y_train, y_test = train_test_split(final2['CleanedText'].values, y, test_size=0.3, random_state=42)\n",
    "\n"
   ]
  },
  {
   "cell_type": "code",
   "execution_count": 11,
   "metadata": {},
   "outputs": [
    {
     "data": {
      "text/plain": [
       "scipy.sparse.csr.csr_matrix"
      ]
     },
     "execution_count": 11,
     "metadata": {},
     "output_type": "execute_result"
    }
   ],
   "source": [
    "tf_idf_vect = TfidfVectorizer()\n",
    "final_tf_idf = tf_idf_vect.fit_transform(X_train)\n",
    "type(final_tf_idf)"
   ]
  },
  {
   "cell_type": "code",
   "execution_count": 12,
   "metadata": {},
   "outputs": [
    {
     "data": {
      "text/plain": [
       "(254919, 60049)"
      ]
     },
     "execution_count": 12,
     "metadata": {},
     "output_type": "execute_result"
    }
   ],
   "source": [
    "final_tf_idf.shape"
   ]
  },
  {
   "cell_type": "code",
   "execution_count": 13,
   "metadata": {},
   "outputs": [],
   "source": [
    "final_tf_idf1 = tf_idf_vect.transform(X_test)"
   ]
  },
  {
   "cell_type": "code",
   "execution_count": 15,
   "metadata": {},
   "outputs": [
    {
     "data": {
      "text/plain": [
       "(109252, 60049)"
      ]
     },
     "execution_count": 15,
     "metadata": {},
     "output_type": "execute_result"
    }
   ],
   "source": [
    "final_tf_idf1.shape"
   ]
  },
  {
   "cell_type": "code",
   "execution_count": 16,
   "metadata": {},
   "outputs": [],
   "source": [
    "from sklearn.preprocessing import StandardScaler\n",
    "Standard_data=StandardScaler(with_mean=False).fit_transform(final_tf_idf)\n",
    "Standard_data.shape\n",
    "X_train=Standard_data"
   ]
  },
  {
   "cell_type": "code",
   "execution_count": 17,
   "metadata": {},
   "outputs": [
    {
     "data": {
      "text/plain": [
       "(254919, 60049)"
      ]
     },
     "execution_count": 17,
     "metadata": {},
     "output_type": "execute_result"
    }
   ],
   "source": [
    "X_train.shape"
   ]
  },
  {
   "cell_type": "code",
   "execution_count": 27,
   "metadata": {},
   "outputs": [],
   "source": [
    "from sklearn.grid_search import GridSearchCV\n",
    "from sklearn.linear_model import LogisticRegression\n",
    "tuned_parameters = [{'C': [10**-1, 0.5*10**-1,10**0,5,10**1,15]}]\n"
   ]
  },
  {
   "cell_type": "code",
   "execution_count": 29,
   "metadata": {},
   "outputs": [],
   "source": [
    "X_test=final_tf_idf1"
   ]
  },
  {
   "cell_type": "code",
   "execution_count": 30,
   "metadata": {},
   "outputs": [
    {
     "data": {
      "text/plain": [
       "(109252, 60049)"
      ]
     },
     "execution_count": 30,
     "metadata": {},
     "output_type": "execute_result"
    }
   ],
   "source": [
    "X_test.shape"
   ]
  },
  {
   "cell_type": "code",
   "execution_count": 31,
   "metadata": {},
   "outputs": [],
   "source": [
    "from sklearn.preprocessing import StandardScaler\n",
    "Standard_data=StandardScaler(with_mean=False).fit_transform(X_test)\n",
    "X_test=Standard_data"
   ]
  },
  {
   "cell_type": "code",
   "execution_count": 32,
   "metadata": {},
   "outputs": [
    {
     "name": "stdout",
     "output_type": "stream",
     "text": [
      "LogisticRegression(C=0.1, class_weight=None, dual=False, fit_intercept=True,\n",
      "          intercept_scaling=1, max_iter=100, multi_class='ovr', n_jobs=2,\n",
      "          penalty='l2', random_state=None, solver='liblinear', tol=0.0001,\n",
      "          verbose=0, warm_start=False)\n",
      "0.906097828873\n"
     ]
    }
   ],
   "source": [
    "model = GridSearchCV(LogisticRegression(n_jobs=2), tuned_parameters, scoring = 'f1_micro', cv=5)\n",
    "model.fit(X_train, y_train)\n",
    "print(model.best_estimator_)\n",
    "print(model.score(X_test, y_test))"
   ]
  },
  {
   "cell_type": "code",
   "execution_count": 33,
   "metadata": {},
   "outputs": [
    {
     "name": "stdout",
     "output_type": "stream",
     "text": [
      "[[87826  4178]\n",
      " [ 6081 11167]]\n",
      "\n",
      "The accuracy of the logistic regression classifier for  lambda = 10 is 90.609783%\n"
     ]
    }
   ],
   "source": [
    "from sklearn.metrics import confusion_matrix\n",
    "from sklearn.metrics import accuracy_score\n",
    "labels=['1','-1']\n",
    "y_pred=model.predict(X_test)\n",
    "print(confusion_matrix(y_test, y_pred,labels))\n",
    "acc = accuracy_score(y_test, y_pred) * 100\n",
    "print('\\nThe accuracy of the logistic regression classifier for  lambda = %d is %f%%' % (1/0.1, acc))"
   ]
  },
  {
   "cell_type": "code",
   "execution_count": 27,
   "metadata": {},
   "outputs": [
    {
     "name": "stdout",
     "output_type": "stream",
     "text": [
      "LogisticRegression(C=3.3181857139794753, class_weight=None, dual=False,\n",
      "          fit_intercept=True, intercept_scaling=1, max_iter=100,\n",
      "          multi_class='ovr', n_jobs=1, penalty='l2', random_state=None,\n",
      "          solver='liblinear', tol=0.0001, verbose=0, warm_start=False)\n",
      "0.927598579431\n"
     ]
    }
   ],
   "source": [
    "from sklearn.model_selection import RandomizedSearchCV\n",
    "from scipy import stats\n",
    "rand_list = {\"C\": stats.uniform(2, 10)}\n",
    "l=stats.uniform(10**-4, 10**4)\n",
    "model=RandomizedSearchCV(LogisticRegression(), param_distributions=rand_list, scoring = 'f1_micro', cv=5)\n",
    "model.fit(X_train, y_train)\n",
    "print(model.best_estimator_)\n",
    "print(model.score(X_test, y_test))"
   ]
  },
  {
   "cell_type": "code",
   "execution_count": 28,
   "metadata": {},
   "outputs": [
    {
     "data": {
      "text/plain": [
       "array([[89624,  2525],\n",
       "       [ 5385, 11718]])"
      ]
     },
     "execution_count": 28,
     "metadata": {},
     "output_type": "execute_result"
    }
   ],
   "source": [
    "from sklearn.metrics import confusion_matrix\n",
    "y_pred=model.predict(X_test)\n",
    "labels=['1','-1']\n",
    "confusion_matrix(y_test, y_pred,labels)\n"
   ]
  },
  {
   "cell_type": "markdown",
   "metadata": {},
   "source": [
    "# Sparcity of TF-IDF"
   ]
  },
  {
   "cell_type": "code",
   "execution_count": 22,
   "metadata": {},
   "outputs": [
    {
     "name": "stdout",
     "output_type": "stream",
     "text": [
      "The no of Zeroes in w* for lambda=10000.0 is 71639\n",
      "The no of Zeroes in w* for lambda=100.0 is 71572\n",
      "The no of Zeroes in w* for lambda=1.0 is 68664\n",
      "The no of Zeroes in w* for lambda=0.01 is 41797\n",
      "The no of Zeroes in w* for lambda=0.0001 is 28205\n"
     ]
    }
   ],
   "source": [
    "C=[10**-4, 10**-2, 10**0, 10**2, 10**4]\n",
    "for i in range(len(C)):\n",
    "    i=C[i]\n",
    "    clf = LogisticRegression(C=i, penalty='l1');\n",
    "    clf.fit(X_train, y_train);\n",
    "    w = clf.coef_\n",
    "    print(\"The no of Zeroes in w* for lambda={0} is {1}\".format((1/i),71639-np.count_nonzero(w)))\n",
    "    "
   ]
  },
  {
   "cell_type": "markdown",
   "metadata": {},
   "source": [
    "# TF-IDF L1 REGULARISATION"
   ]
  },
  {
   "cell_type": "code",
   "execution_count": 29,
   "metadata": {},
   "outputs": [
    {
     "name": "stdout",
     "output_type": "stream",
     "text": [
      "LogisticRegression(C=1, class_weight=None, dual=False, fit_intercept=True,\n",
      "          intercept_scaling=1, max_iter=100, multi_class='ovr', n_jobs=2,\n",
      "          penalty='l1', random_state=None, solver='liblinear', tol=0.0001,\n",
      "          verbose=0, warm_start=False)\n",
      "0.927058543551\n"
     ]
    }
   ],
   "source": [
    "model = GridSearchCV(LogisticRegression(penalty='l1',n_jobs=2), tuned_parameters, scoring = 'f1_micro', cv=5)\n",
    "model.fit(X_train, y_train)\n",
    "print(model.best_estimator_)\n",
    "print(model.score(X_test, y_test))"
   ]
  },
  {
   "cell_type": "code",
   "execution_count": 30,
   "metadata": {},
   "outputs": [
    {
     "name": "stdout",
     "output_type": "stream",
     "text": [
      "[[89658  2491]\n",
      " [ 5478 11625]]\n",
      "\n",
      "The accuracy of the logistic regression classifier for  lambda = 1 is 92.705854%\n"
     ]
    }
   ],
   "source": [
    "from sklearn.metrics import confusion_matrix\n",
    "from sklearn.metrics import accuracy_score\n",
    "labels=['1','-1']\n",
    "y_pred=model.predict(X_test)\n",
    "print(confusion_matrix(y_test, y_pred,labels))\n",
    "acc = accuracy_score(y_test, y_pred) * 100\n",
    "print('\\nThe accuracy of the logistic regression classifier for  lambda = %d is %f%%' % (1, acc))"
   ]
  },
  {
   "cell_type": "code",
   "execution_count": 15,
   "metadata": {},
   "outputs": [
    {
     "name": "stdout",
     "output_type": "stream",
     "text": [
      "LogisticRegression(C=3.0844960491435272, class_weight=None, dual=False,\n",
      "          fit_intercept=True, intercept_scaling=1, max_iter=100,\n",
      "          multi_class='ovr', n_jobs=10, penalty='l1', random_state=None,\n",
      "          solver='liblinear', tol=0.0001, verbose=0, warm_start=False)\n",
      "0.925914399736\n"
     ]
    }
   ],
   "source": [
    "from sklearn.model_selection import RandomizedSearchCV\n",
    "from scipy import stats\n",
    "rand_list = {\"C\": stats.uniform(2, 10)}\n",
    "l=stats.uniform(10**-4, 10**4)\n",
    "model=RandomizedSearchCV(LogisticRegression(penalty='l1',n_jobs=10), param_distributions=rand_list, scoring = 'f1_micro', cv=5)\n",
    "model.fit(X_train, y_train)\n",
    "print(model.best_estimator_)\n",
    "print(model.score(X_test, y_test))"
   ]
  },
  {
   "cell_type": "code",
   "execution_count": 16,
   "metadata": {},
   "outputs": [
    {
     "name": "stdout",
     "output_type": "stream",
     "text": [
      "[[89339  2780]\n",
      " [ 5314 11819]]\n",
      "\n",
      "The accuracy of the logistic regression classifier for  lambda = 0 is 92.591440%\n"
     ]
    }
   ],
   "source": [
    "labels=['1','-1']\n",
    "y_pred=model.predict(X_test)\n",
    "print(confusion_matrix(y_test, y_pred,labels))\n",
    "acc = accuracy_score(y_test, y_pred) * 100\n",
    "print('\\nThe accuracy of the logistic regression classifier for  lambda = %d is %f%%' % (1/3.0844960491435272, acc))"
   ]
  },
  {
   "cell_type": "markdown",
   "metadata": {},
   "source": [
    "# BOW with L2 Regularisation"
   ]
  },
  {
   "cell_type": "code",
   "execution_count": 13,
   "metadata": {},
   "outputs": [],
   "source": [
    "from sklearn.model_selection import train_test_split\n",
    "X_train, X_test, y_train, y_test = train_test_split(final2['CleanedText'].values, y, test_size=0.3, random_state=42)"
   ]
  },
  {
   "cell_type": "code",
   "execution_count": 14,
   "metadata": {},
   "outputs": [
    {
     "data": {
      "text/plain": [
       "(254919, 60049)"
      ]
     },
     "execution_count": 14,
     "metadata": {},
     "output_type": "execute_result"
    }
   ],
   "source": [
    "count_vect = CountVectorizer() #in scikit-learn\n",
    "final_counts = count_vect.fit_transform(X_train)\n",
    "final_counts.shape"
   ]
  },
  {
   "cell_type": "code",
   "execution_count": 15,
   "metadata": {},
   "outputs": [
    {
     "data": {
      "text/plain": [
       "(109252, 60049)"
      ]
     },
     "execution_count": 15,
     "metadata": {},
     "output_type": "execute_result"
    }
   ],
   "source": [
    "final_counts1= count_vect.transform(X_test)\n",
    "final_counts1.shape"
   ]
  },
  {
   "cell_type": "code",
   "execution_count": 16,
   "metadata": {},
   "outputs": [],
   "source": [
    "from sklearn.preprocessing import StandardScaler\n",
    "Standard_data=StandardScaler(with_mean=False).fit_transform(final_counts)\n",
    "Standard_data.shape\n",
    "X_train=Standard_data"
   ]
  },
  {
   "cell_type": "code",
   "execution_count": 17,
   "metadata": {},
   "outputs": [],
   "source": [
    "from sklearn.preprocessing import StandardScaler\n",
    "Standard_data=StandardScaler(with_mean=False).fit_transform(final_counts1)\n",
    "Standard_data.shape\n",
    "X_test=Standard_data"
   ]
  },
  {
   "cell_type": "code",
   "execution_count": 12,
   "metadata": {},
   "outputs": [],
   "source": [
    "from sklearn.model_selection import train_test_split\n",
    "from sklearn.grid_search import GridSearchCV\n",
    "from sklearn.linear_model import LogisticRegression\n",
    "tuned_parameters = [{'C': [10**-2, 10**0, 10**2]}]\n"
   ]
  },
  {
   "cell_type": "code",
   "execution_count": 45,
   "metadata": {},
   "outputs": [
    {
     "name": "stdout",
     "output_type": "stream",
     "text": [
      "LogisticRegression(C=0.01, class_weight=None, dual=False, fit_intercept=True,\n",
      "          intercept_scaling=1, max_iter=100, multi_class='ovr', n_jobs=1,\n",
      "          penalty='l2', random_state=None, solver='liblinear', tol=0.0001,\n",
      "          verbose=0, warm_start=False)\n",
      "0.909209900048\n"
     ]
    }
   ],
   "source": [
    "model = GridSearchCV(LogisticRegression(), tuned_parameters, scoring = 'f1_micro', cv=5)\n",
    "model.fit(X_train, y_train)\n",
    "print(model.best_estimator_)\n",
    "print(model.score(X_test, y_test))"
   ]
  },
  {
   "cell_type": "code",
   "execution_count": 46,
   "metadata": {},
   "outputs": [],
   "source": [
    "labels=['1','-1']\n",
    "y_pred=model.predict(X_test)"
   ]
  },
  {
   "cell_type": "code",
   "execution_count": 51,
   "metadata": {},
   "outputs": [
    {
     "name": "stdout",
     "output_type": "stream",
     "text": [
      "[[87893  4111]\n",
      " [ 5808 11440]]\n",
      "\n",
      "The accuracy of the logistic regression classifier for  lambda = 100 is 90.920990%\n"
     ]
    }
   ],
   "source": [
    "labels=['1','-1']\n",
    "y_pred=model.predict(X_test)\n",
    "print(confusion_matrix(y_test, y_pred,labels))\n",
    "acc = accuracy_score(y_test, y_pred) * 100\n",
    "print('\\nThe accuracy of the logistic regression classifier for  lambda = %d is %f%%' % (1/0.01, acc))"
   ]
  },
  {
   "cell_type": "code",
   "execution_count": 26,
   "metadata": {},
   "outputs": [
    {
     "data": {
      "image/png": "[encoded data removed]",
      "text/plain": [
       "<matplotlib.figure.Figure at 0x3fff05d93860>"
      ]
     },
     "metadata": {},
     "output_type": "display_data"
    }
   ],
   "source": [
    "def plot_confusion_matrix(cm, title='Confusion matrix', cmap=plt.cm.Blues, labels=[\"1\", \"-1\"]):\n",
    "    plt.imshow(cm, interpolation='nearest', cmap=cmap)\n",
    "    plt.title(title)\n",
    "    plt.colorbar()\n",
    "    tick_marks = np.arange(len(labels))\n",
    "    plt.xticks(tick_marks, labels, rotation=45)\n",
    "    plt.yticks(tick_marks, labels)\n",
    "    plt.tight_layout()\n",
    "    plt.ylabel('True label')\n",
    "    plt.xlabel('Predicted label')\n",
    "    \n",
    "# Compute confusion matrix\n",
    "cm = confusion_matrix(y_test, y_pred,labels)\n",
    "np.set_printoptions(precision=2)\n",
    "plt.figure()\n",
    "plot_confusion_matrix(cm)    \n",
    "\n"
   ]
  },
  {
   "cell_type": "code",
   "execution_count": 30,
   "metadata": {},
   "outputs": [
    {
     "name": "stdout",
     "output_type": "stream",
     "text": [
      "LogisticRegression(C=3.8144926467639824, class_weight=None, dual=False,\n",
      "          fit_intercept=True, intercept_scaling=1, max_iter=100,\n",
      "          multi_class='ovr', n_jobs=10, penalty='l2', random_state=None,\n",
      "          solver='liblinear', tol=0.0001, verbose=0, warm_start=False)\n",
      "0.926600886025\n"
     ]
    }
   ],
   "source": [
    "from sklearn.model_selection import RandomizedSearchCV\n",
    "from scipy import stats\n",
    "rand_list = {\"C\": stats.uniform(0.01, 10)}\n",
    "model=RandomizedSearchCV(LogisticRegression(penalty='l2',n_jobs=10), param_distributions=rand_list, scoring = 'f1_micro', cv=5)\n",
    "model.fit(X_train, y_train)\n",
    "print(model.best_estimator_)\n",
    "print(model.score(X_test, y_test))"
   ]
  },
  {
   "cell_type": "code",
   "execution_count": 31,
   "metadata": {},
   "outputs": [
    {
     "name": "stdout",
     "output_type": "stream",
     "text": [
      "[[89519  2600]\n",
      " [ 5419 11714]]\n",
      "\n",
      "The accuracy of the logistic regression classifier for  lambda = 0.262158 is 92.660089%\n"
     ]
    }
   ],
   "source": [
    "y_pred=model.predict(X_test)\n",
    "labels=['1','-1']\n",
    "print(confusion_matrix(y_test, y_pred,labels))\n",
    "acc = accuracy_score(y_test, y_pred) * 100\n",
    "print('\\nThe accuracy of the logistic regression classifier for  lambda = %f is %f%%' % (1/3.8144926467639824, acc))"
   ]
  },
  {
   "cell_type": "markdown",
   "metadata": {},
   "source": [
    "# BOW with L1 Regularisation"
   ]
  },
  {
   "cell_type": "code",
   "execution_count": 18,
   "metadata": {},
   "outputs": [
    {
     "name": "stdout",
     "output_type": "stream",
     "text": [
      "LogisticRegression(C=0.01, class_weight=None, dual=False, fit_intercept=True,\n",
      "          intercept_scaling=1, max_iter=100, multi_class='ovr', n_jobs=10,\n",
      "          penalty='l1', random_state=None, solver='liblinear', tol=0.0001,\n",
      "          verbose=0, warm_start=False)\n",
      "0.921044923663\n"
     ]
    }
   ],
   "source": [
    "model = GridSearchCV(LogisticRegression(penalty='l1',n_jobs=10), tuned_parameters, scoring = 'f1_micro', cv=5)\n",
    "model.fit(X_train, y_train)\n",
    "print(model.best_estimator_)\n",
    "print(model.score(X_test, y_test))"
   ]
  },
  {
   "cell_type": "code",
   "execution_count": 19,
   "metadata": {},
   "outputs": [
    {
     "name": "stdout",
     "output_type": "stream",
     "text": [
      "[[89562  2442]\n",
      " [ 6184 11064]]\n",
      "\n",
      "The accuracy of the logistic regression classifier for  lambda = 100 is 92.104492%\n"
     ]
    }
   ],
   "source": [
    "labels=['1','-1']\n",
    "y_pred=model.predict(X_test)\n",
    "print(confusion_matrix(y_test, y_pred,labels))\n",
    "acc = accuracy_score(y_test, y_pred) * 100\n",
    "print('\\nThe accuracy of the logistic regression classifier for  lambda = %d is %f%%' % (1/0.01, acc))"
   ]
  },
  {
   "cell_type": "code",
   "execution_count": 28,
   "metadata": {},
   "outputs": [],
   "source": [
    "def plot_confusion_matrix(cm, title='Confusion matrix', cmap=plt.cm.Blues, labels=[\"1\", \"-1\"]):\n",
    "    plt.imshow(cm, interpolation='nearest', cmap=cmap)\n",
    "    plt.title(title)\n",
    "    plt.colorbar()\n",
    "    tick_marks = np.arange(len(labels))\n",
    "    plt.xticks(tick_marks, labels, rotation=45)\n",
    "    plt.yticks(tick_marks, labels)\n",
    "    plt.tight_layout()\n",
    "    plt.ylabel('True label')\n",
    "    plt.xlabel('Predicted label')"
   ]
  },
  {
   "cell_type": "code",
   "execution_count": 21,
   "metadata": {},
   "outputs": [
    {
     "data": {
      "image/png": "[encoded data removed]",
      "text/plain": [
       "<matplotlib.figure.Figure at 0x3fff20dc9e80>"
      ]
     },
     "metadata": {},
     "output_type": "display_data"
    }
   ],
   "source": [
    "cm = confusion_matrix(y_test, y_pred,labels)\n",
    "np.set_printoptions(precision=2)\n",
    "plt.figure()\n",
    "plot_confusion_matrix(cm)   "
   ]
  },
  {
   "cell_type": "code",
   "execution_count": 35,
   "metadata": {},
   "outputs": [
    {
     "name": "stdout",
     "output_type": "stream",
     "text": [
      "Training Error for BOW with L1 regularisation is 5.41034603148\n"
     ]
    }
   ],
   "source": [
    "y_pred=model.predict(X_train)\n",
    "acc = accuracy_score(y_train, y_pred) * 100\n",
    "error=100-acc\n",
    "print(\"Training Error for BOW with L1 regularisation is\",error)"
   ]
  },
  {
   "cell_type": "code",
   "execution_count": 14,
   "metadata": {},
   "outputs": [
    {
     "data": {
      "image/png": "[encoded data removed]",
      "text/plain": [
       "<matplotlib.figure.Figure at 0x3fff220faac8>"
      ]
     },
     "metadata": {},
     "output_type": "display_data"
    }
   ],
   "source": [
    "label=['Train Error','Test Error']\n",
    "acc=[5.41,7.90]\n",
    "index = np.arange(len(label))\n",
    "barWidth=0.5\n",
    "\n",
    "plt.bar(index, acc)\n",
    "plt.xlabel('ERROR', fontsize=10)\n",
    "plt.ylabel('percentage ERRORS', fontsize=10)\n",
    "plt.xticks(index, label, fontsize=10, rotation=30)\n",
    "for i in range(len(label)):\n",
    "    plt.text(x=i,y=acc[i],s=acc[i],size=10)\n",
    "plt.title('train and Test Errors of BOW using Logistic Regression').set_fontsize(20)\n",
    "plt.show()\n",
    "    "
   ]
  },
  {
   "cell_type": "code",
   "execution_count": 24,
   "metadata": {},
   "outputs": [
    {
     "name": "stdout",
     "output_type": "stream",
     "text": [
      "LogisticRegression(C=2.15630895223069, class_weight=None, dual=False,\n",
      "          fit_intercept=True, intercept_scaling=1, max_iter=100,\n",
      "          multi_class='ovr', n_jobs=10, penalty='l1', random_state=None,\n",
      "          solver='liblinear', tol=0.0001, verbose=0, warm_start=False)\n",
      "0.926353750961\n"
     ]
    }
   ],
   "source": [
    "from sklearn.model_selection import RandomizedSearchCV\n",
    "from scipy import stats\n",
    "rand_list = {\"C\": stats.uniform(0.01, 10)}\n",
    "model=RandomizedSearchCV(LogisticRegression(penalty='l1',n_jobs=10), param_distributions=rand_list, scoring = 'f1_micro', cv=5)\n",
    "model.fit(X_train, y_train)\n",
    "print(model.best_estimator_)\n",
    "print(model.score(X_test, y_test))"
   ]
  },
  {
   "cell_type": "code",
   "execution_count": 25,
   "metadata": {},
   "outputs": [
    {
     "name": "stdout",
     "output_type": "stream",
     "text": [
      "[[89433  2686]\n",
      " [ 5360 11773]]\n",
      "\n",
      "The accuracy of the logistic regression classifier for  lambda = 0.345179 is 92.635375%\n"
     ]
    }
   ],
   "source": [
    "labels=['1','-1']\n",
    "y_pred=model.predict(X_test)\n",
    "print(confusion_matrix(y_test, y_pred,labels))\n",
    "acc = accuracy_score(y_test, y_pred) * 100\n",
    "print('\\nThe accuracy of the logistic regression classifier for  lambda = %f is %f%%' % (1/2.8970491346317351, acc))"
   ]
  },
  {
   "cell_type": "markdown",
   "metadata": {},
   "source": [
    "# Sparsity for BOW"
   ]
  },
  {
   "cell_type": "code",
   "execution_count": 26,
   "metadata": {},
   "outputs": [
    {
     "name": "stdout",
     "output_type": "stream",
     "text": [
      "The no of Zeroes in w* for lambda=10000.0 is 71639\n",
      "The no of Zeroes in w* for lambda=100.0 is 71572\n",
      "The no of Zeroes in w* for lambda=1.0 is 68595\n",
      "The no of Zeroes in w* for lambda=0.01 is 41741\n",
      "The no of Zeroes in w* for lambda=0.0001 is 28065\n"
     ]
    }
   ],
   "source": [
    "C=[10**-4, 10**-2, 10**0, 10**2, 10**4]\n",
    "for i in range(len(C)):\n",
    "    i=C[i]\n",
    "    clf = LogisticRegression(C=i, penalty='l1');\n",
    "    clf.fit(X_train, y_train);\n",
    "    w = clf.coef_\n",
    "    print(\"The no of Zeroes in w* for lambda={0} is {1}\".format((1/i),71639-np.count_nonzero(w)))\n",
    "    "
   ]
  },
  {
   "cell_type": "markdown",
   "metadata": {},
   "source": [
    "# W2v with L2 regularisation"
   ]
  },
  {
   "cell_type": "code",
   "execution_count": 9,
   "metadata": {},
   "outputs": [],
   "source": [
    "import gensim\n",
    "from gensim.models import Word2Vec\n",
    "from gensim.models import KeyedVectors\n",
    "import pickle"
   ]
  },
  {
   "cell_type": "code",
   "execution_count": 10,
   "metadata": {},
   "outputs": [
    {
     "name": "stdout",
     "output_type": "stream",
     "text": [
      "[nltk_data] Error loading stopwords: <urlopen error [Errno 11001]\n",
      "[nltk_data]     getaddrinfo failed>\n",
      "************************************\n",
      "tasti\n"
     ]
    }
   ],
   "source": [
    "import re\n",
    "# Tutorial about Python regular expressions: https://pymotw.com/2/re/\n",
    "import string\n",
    "import nltk\n",
    "nltk.download('stopwords')\n",
    "from nltk.corpus import stopwords\n",
    "from nltk.stem import PorterStemmer\n",
    "from nltk.stem.wordnet import WordNetLemmatizer\n",
    "\n",
    "#stop = set(stopwords.words('english')) #set of stopwords\n",
    "sno = nltk.stem.SnowballStemmer('english') #initialising the snowball stemmer\n",
    "\n",
    "def cleanhtml(sentence): #function to clean the word of any html-tags\n",
    "    cleanr = re.compile('<.*?>')\n",
    "    cleantext = re.sub(cleanr, ' ', sentence)\n",
    "    return cleantext\n",
    "def cleanpunc(sentence): #function to clean the word of any punctuation or special characters\n",
    "    cleaned = re.sub(r'[?|!|\\'|\"|#]',r'',sentence)\n",
    "    cleaned = re.sub(r'[.|,|)|(|\\|/]',r' ',cleaned)\n",
    "    return  cleaned\n",
    "#print(stop)\n",
    "print('************************************')\n",
    "print(sno.stem('tasty'))"
   ]
  },
  {
   "cell_type": "code",
   "execution_count": 11,
   "metadata": {},
   "outputs": [],
   "source": [
    "i=0\n",
    "list_of_sent=[]\n",
    "for sent in final2['Text'].values:\n",
    "    filtered_sentence=[]\n",
    "    sent=cleanhtml(sent)\n",
    "    for w in sent.split():\n",
    "        for cleaned_words in cleanpunc(w).split():\n",
    "            if(cleaned_words.isalpha()):    \n",
    "                filtered_sentence.append(sno.stem(cleaned_words.lower()))\n",
    "            else:\n",
    "                continue \n",
    "    list_of_sent.append(filtered_sentence)"
   ]
  },
  {
   "cell_type": "code",
   "execution_count": 12,
   "metadata": {},
   "outputs": [
    {
     "data": {
      "text/plain": [
       "364171"
      ]
     },
     "execution_count": 12,
     "metadata": {},
     "output_type": "execute_result"
    }
   ],
   "source": [
    "len(list_of_sent)"
   ]
  },
  {
   "cell_type": "code",
   "execution_count": 13,
   "metadata": {},
   "outputs": [],
   "source": [
    "from sklearn.model_selection import train_test_split\n",
    "X_train, X_test, y_train, y_test = train_test_split(list_of_sent, y, test_size=0.3, random_state=42)\n"
   ]
  },
  {
   "cell_type": "code",
   "execution_count": 14,
   "metadata": {},
   "outputs": [],
   "source": [
    "\n",
    "w2v_model=gensim.models.Word2Vec(X_train,min_count=5,size=300, workers=4) "
   ]
  },
  {
   "cell_type": "code",
   "execution_count": 15,
   "metadata": {},
   "outputs": [
    {
     "name": "stdout",
     "output_type": "stream",
     "text": [
      "254919\n",
      "300\n"
     ]
    }
   ],
   "source": [
    "sent_vectors = []; # the avg-w2v for each sentence/review is stored in this list\n",
    "for sent in X_train: # for each review/sentence\n",
    "    sent_vec = np.zeros(300) # as word vectors are of zero length\n",
    "    cnt_words =0; # num of words with a valid vector in the sentence/review\n",
    "    for word in sent: # for each word in a review/sentence\n",
    "        try:\n",
    "            vec = w2v_model.wv[word]\n",
    "            sent_vec += vec\n",
    "            cnt_words += 1\n",
    "        except:\n",
    "            pass\n",
    "    sent_vec /= cnt_words\n",
    "    sent_vectors.append(sent_vec)\n",
    "print(len(sent_vectors))\n",
    "print(len(sent_vectors[0]))"
   ]
  },
  {
   "cell_type": "code",
   "execution_count": 16,
   "metadata": {},
   "outputs": [],
   "source": [
    "import numpy as np\n",
    "myarray = np.asarray(sent_vectors)\n",
    "X_train=myarray"
   ]
  },
  {
   "cell_type": "code",
   "execution_count": 17,
   "metadata": {},
   "outputs": [
    {
     "name": "stdout",
     "output_type": "stream",
     "text": [
      "109252\n",
      "300\n"
     ]
    }
   ],
   "source": [
    "sent_vectors = []; # the avg-w2v for each sentence/review is stored in this list\n",
    "for sent in X_test: # for each review/sentence\n",
    "    sent_vec = np.zeros(300) # as word vectors are of zero length\n",
    "    cnt_words =0; # num of words with a valid vector in the sentence/review\n",
    "    for word in sent: # for each word in a review/sentence\n",
    "        try:\n",
    "            vec = w2v_model.wv[word]\n",
    "            sent_vec += vec\n",
    "            cnt_words += 1\n",
    "        except:\n",
    "            pass\n",
    "    sent_vec /= cnt_words\n",
    "    sent_vectors.append(sent_vec)\n",
    "print(len(sent_vectors))\n",
    "print(len(sent_vectors[0]))"
   ]
  },
  {
   "cell_type": "code",
   "execution_count": 18,
   "metadata": {},
   "outputs": [],
   "source": [
    "import numpy as np\n",
    "myarray1= np.asarray(sent_vectors)\n",
    "X_test=myarray1"
   ]
  },
  {
   "cell_type": "code",
   "execution_count": 19,
   "metadata": {},
   "outputs": [],
   "source": [
    "from sklearn.preprocessing import Imputer\n",
    "impute=Imputer(strategy='mean')\n",
    "impute.fit(X_train)\n",
    "w2v=impute.transform(X_train)\n",
    "type(w2v)\n",
    "w2v=pd.DataFrame(w2v)"
   ]
  },
  {
   "cell_type": "code",
   "execution_count": 20,
   "metadata": {},
   "outputs": [],
   "source": [
    "from sklearn.preprocessing import StandardScaler\n",
    "Scaler=StandardScaler()\n",
    "Scaler.fit(w2v)\n",
    "sample_data=Scaler.transform(w2v)\n",
    "X_test_data=Scaler.transform(X_test)"
   ]
  },
  {
   "cell_type": "code",
   "execution_count": 21,
   "metadata": {},
   "outputs": [
    {
     "data": {
      "text/plain": [
       "(254919, 300)"
      ]
     },
     "execution_count": 21,
     "metadata": {},
     "output_type": "execute_result"
    }
   ],
   "source": [
    "sample_data.shape"
   ]
  },
  {
   "cell_type": "code",
   "execution_count": 22,
   "metadata": {},
   "outputs": [
    {
     "data": {
      "text/plain": [
       "(109252, 300)"
      ]
     },
     "execution_count": 22,
     "metadata": {},
     "output_type": "execute_result"
    }
   ],
   "source": [
    "X_test_data.shape"
   ]
  },
  {
   "cell_type": "code",
   "execution_count": 31,
   "metadata": {},
   "outputs": [],
   "source": [
    "from sklearn.model_selection import train_test_split\n",
    "from sklearn.grid_search import GridSearchCV\n",
    "from sklearn.linear_model import LogisticRegression\n",
    "tuned_parameters = [{'C': [10**-3,10**-2]}]\n"
   ]
  },
  {
   "cell_type": "code",
   "execution_count": 23,
   "metadata": {},
   "outputs": [
    {
     "name": "stdout",
     "output_type": "stream",
     "text": [
      "LogisticRegression(C=0.01, class_weight=None, dual=False, fit_intercept=True,\n",
      "          intercept_scaling=1, max_iter=100, multi_class='ovr', n_jobs=1,\n",
      "          penalty='l2', random_state=None, solver='liblinear', tol=0.0001,\n",
      "          verbose=0, warm_start=False)\n",
      "0.9113883498700254\n"
     ]
    }
   ],
   "source": [
    "model = GridSearchCV(LogisticRegression(), tuned_parameters, scoring = 'f1_micro', cv=3)\n",
    "model.fit(sample_data, y_train)\n",
    "print(model.best_estimator_)\n",
    "print(model.score(X_test_data, y_test))"
   ]
  },
  {
   "cell_type": "code",
   "execution_count": 25,
   "metadata": {},
   "outputs": [
    {
     "name": "stdout",
     "output_type": "stream",
     "text": [
      "[[89201  2803]\n",
      " [ 6878 10370]]\n",
      "\n",
      "The accuracy of the logistic regression classifier for  lambda = 0.010000 is 91.138835%\n"
     ]
    }
   ],
   "source": [
    "labels=['1','-1']\n",
    "y_pred=model.predict(X_test_data)\n",
    "print(confusion_matrix(y_test, y_pred,labels))\n",
    "acc = accuracy_score(y_test, y_pred) * 100\n",
    "print('\\nThe accuracy of the logistic regression classifier for  lambda = %f is %f%%' % (1/100, acc))"
   ]
  },
  {
   "cell_type": "code",
   "execution_count": 27,
   "metadata": {},
   "outputs": [
    {
     "data": {
      "image/png": "[encoded data removed]",
      "text/plain": [
       "<matplotlib.figure.Figure at 0x2172d61ffd0>"
      ]
     },
     "metadata": {},
     "output_type": "display_data"
    }
   ],
   "source": [
    "cm = confusion_matrix(y_test, y_pred,labels)\n",
    "np.set_printoptions(precision=2)\n",
    "plt.figure()\n",
    "plot_confusion_matrix(cm)   "
   ]
  },
  {
   "cell_type": "code",
   "execution_count": 28,
   "metadata": {},
   "outputs": [
    {
     "name": "stdout",
     "output_type": "stream",
     "text": [
      "Training Error for BOW with L1 regularisation is 8.594887003322626\n"
     ]
    }
   ],
   "source": [
    "y_pred=model.predict(sample_data)\n",
    "acc = accuracy_score(y_train, y_pred) * 100\n",
    "error=100-acc\n",
    "print(\"Training Error for BOW with L1 regularisation is\",error)"
   ]
  },
  {
   "cell_type": "code",
   "execution_count": 29,
   "metadata": {},
   "outputs": [
    {
     "data": {
      "image/png": "[encoded data removed]",
      "text/plain": [
       "<matplotlib.figure.Figure at 0x2172e6cf4e0>"
      ]
     },
     "metadata": {},
     "output_type": "display_data"
    }
   ],
   "source": [
    "label=['Train Error','Test Error']\n",
    "acc=[8.59,9.87]\n",
    "index = np.arange(len(label))\n",
    "barWidth=0.5\n",
    "\n",
    "plt.bar(index, acc)\n",
    "plt.xlabel('ERROR', fontsize=10)\n",
    "plt.ylabel('percentage ERRORS', fontsize=10)\n",
    "plt.xticks(index, label, fontsize=10, rotation=30)\n",
    "for i in range(len(label)):\n",
    "    plt.text(x=i,y=acc[i],s=acc[i],size=10)\n",
    "plt.title('train and Test Errors of w2v using Logistic Regression').set_fontsize(20)\n",
    "plt.show()"
   ]
  },
  {
   "cell_type": "code",
   "execution_count": 37,
   "metadata": {},
   "outputs": [
    {
     "name": "stdout",
     "output_type": "stream",
     "text": [
      "LogisticRegression(C=21.14499981623247, class_weight=None, dual=False,\n",
      "          fit_intercept=True, intercept_scaling=1, max_iter=100,\n",
      "          multi_class='ovr', n_jobs=1, penalty='l2', random_state=None,\n",
      "          solver='liblinear', tol=0.0001, verbose=0, warm_start=False)\n",
      "0.914207520228\n"
     ]
    }
   ],
   "source": [
    "from sklearn.model_selection import RandomizedSearchCV\n",
    "from scipy import stats\n",
    "rand_list = {\"C\": stats.uniform(10,100)}\n",
    "model=RandomizedSearchCV(LogisticRegression(), param_distributions=rand_list, scoring = 'f1_micro', cv=5)\n",
    "model.fit(X_train, y_train)\n",
    "print(model.best_estimator_)\n",
    "print(model.score(X_test, y_test))"
   ]
  },
  {
   "cell_type": "code",
   "execution_count": 38,
   "metadata": {},
   "outputs": [
    {
     "name": "stdout",
     "output_type": "stream",
     "text": [
      "[[89315  2764]\n",
      " [ 6609 10564]]\n",
      "\n",
      "The accuracy of the logistic regression classifier for  lambda = 0.047293 is 91.420752%\n"
     ]
    }
   ],
   "source": [
    "labels=['1','-1']\n",
    "y_pred=model.predict(X_test)\n",
    "print(confusion_matrix(y_test, y_pred, labels))\n",
    "acc = accuracy_score(y_test, y_pred) * 100\n",
    "print('\\nThe accuracy of the logistic regression classifier for  lambda = %f is %f%%' % ((1/21.14499981623247), acc))"
   ]
  },
  {
   "cell_type": "code",
   "execution_count": 44,
   "metadata": {},
   "outputs": [
    {
     "name": "stdout",
     "output_type": "stream",
     "text": [
      "The no of Zeroes in w* for lambda=10000.0 is 71630\n",
      "The no of Zeroes in w* for lambda=100.0 is 71591\n",
      "The no of Zeroes in w* for lambda=1.0 is 71589\n",
      "The no of Zeroes in w* for lambda=0.01 is 71589\n",
      "The no of Zeroes in w* for lambda=0.0001 is 71589\n"
     ]
    }
   ],
   "source": [
    "C=[10**-4, 10**-2, 10**0, 10**2, 10**4]\n",
    "for i in range(len(C)):\n",
    "    i=C[i]\n",
    "    clf = LogisticRegression(C=i, penalty='l1');\n",
    "    clf.fit(X_train, y_train);\n",
    "    w = clf.coef_\n",
    "    print(\"The no of Zeroes in w* for lambda={0} is {1}\".format((1/i),71639-np.count_nonzero(w)))"
   ]
  },
  {
   "cell_type": "markdown",
   "metadata": {},
   "source": [
    "# w2v with L1 Regularisation"
   ]
  },
  {
   "cell_type": "code",
   "execution_count": 25,
   "metadata": {},
   "outputs": [],
   "source": [
    "tuned_parameters=[{'C': [10**-1,10]}]"
   ]
  },
  {
   "cell_type": "code",
   "execution_count": 26,
   "metadata": {},
   "outputs": [
    {
     "name": "stdout",
     "output_type": "stream",
     "text": [
      "LogisticRegression(C=10, class_weight=None, dual=False, fit_intercept=True,\n",
      "          intercept_scaling=1, max_iter=100, multi_class='ovr', n_jobs=1,\n",
      "          penalty='l1', random_state=None, solver='liblinear', tol=0.0001,\n",
      "          verbose=0, warm_start=False)\n",
      "0.9115073408267126\n"
     ]
    }
   ],
   "source": [
    "model = GridSearchCV(LogisticRegression(penalty='l1'), tuned_parameters, scoring = 'f1_micro', cv=3)\n",
    "model.fit(sample_data, y_train)\n",
    "print(model.best_estimator_)\n",
    "print(model.score(X_test_data, y_test))"
   ]
  },
  {
   "cell_type": "code",
   "execution_count": 27,
   "metadata": {},
   "outputs": [
    {
     "name": "stdout",
     "output_type": "stream",
     "text": [
      "[[89149  2855]\n",
      " [ 6813 10435]]\n",
      "\n",
      "The accuracy of the logistic regression classifier for  lambda = 0.100000 is 91.150734%\n"
     ]
    }
   ],
   "source": [
    "labels=['1','-1']\n",
    "y_pred=model.predict(X_test_data)\n",
    "print(confusion_matrix(y_test, y_pred, labels))\n",
    "acc = accuracy_score(y_test, y_pred) * 100\n",
    "print('\\nThe accuracy of the logistic regression classifier for  lambda = %f is %f%%' % ((1/10), acc))"
   ]
  },
  {
   "cell_type": "code",
   "execution_count": 29,
   "metadata": {},
   "outputs": [
    {
     "data": {
      "image/png": "[encoded data removed]",
      "text/plain": [
       "<matplotlib.figure.Figure at 0x12f3277efd0>"
      ]
     },
     "metadata": {},
     "output_type": "display_data"
    }
   ],
   "source": [
    "cm = confusion_matrix(y_test, y_pred,labels)\n",
    "np.set_printoptions(precision=2)\n",
    "plt.figure()\n",
    "plot_confusion_matrix(cm)  "
   ]
  },
  {
   "cell_type": "code",
   "execution_count": 30,
   "metadata": {},
   "outputs": [
    {
     "name": "stdout",
     "output_type": "stream",
     "text": [
      "Training Error for BOW with L1 regularisation is 8.598809818020626\n"
     ]
    }
   ],
   "source": [
    "y_pred=model.predict(sample_data)\n",
    "acc = accuracy_score(y_train, y_pred) * 100\n",
    "error=100-acc\n",
    "print(\"Training Error for BOW with L1 regularisation is\",error)"
   ]
  },
  {
   "cell_type": "code",
   "execution_count": 31,
   "metadata": {},
   "outputs": [
    {
     "data": {
      "image/png": "[encoded data removed]",
      "text/plain": [
       "<matplotlib.figure.Figure at 0x12f3277eb70>"
      ]
     },
     "metadata": {},
     "output_type": "display_data"
    }
   ],
   "source": [
    "label=['Train Error','Test Error']\n",
    "acc=[8.59,9.85]\n",
    "index = np.arange(len(label))\n",
    "barWidth=0.5\n",
    "\n",
    "plt.bar(index, acc)\n",
    "plt.xlabel('ERROR', fontsize=10)\n",
    "plt.ylabel('percentage ERRORS', fontsize=10)\n",
    "plt.xticks(index, label, fontsize=10, rotation=30)\n",
    "for i in range(len(label)):\n",
    "    plt.text(x=i,y=acc[i],s=acc[i],size=10)\n",
    "plt.title('train and Test Errors of w2v using Logistic Regression').set_fontsize(20)"
   ]
  },
  {
   "cell_type": "code",
   "execution_count": 43,
   "metadata": {},
   "outputs": [
    {
     "name": "stdout",
     "output_type": "stream",
     "text": [
      "LogisticRegression(C=22.730179705066419, class_weight=None, dual=False,\n",
      "          fit_intercept=True, intercept_scaling=1, max_iter=100,\n",
      "          multi_class='ovr', n_jobs=4, penalty='l1', random_state=None,\n",
      "          solver='liblinear', tol=0.0001, verbose=0, warm_start=False)\n",
      "0.913932925713\n"
     ]
    }
   ],
   "source": [
    "from sklearn.model_selection import RandomizedSearchCV\n",
    "from scipy import stats\n",
    "rand_list = {\"C\": stats.uniform(20,22)}\n",
    "model=RandomizedSearchCV(LogisticRegression(penalty='l1',n_jobs=4), param_distributions=rand_list, scoring = 'f1_micro', cv=3)\n",
    "model.fit(X_train, y_train)\n",
    "print(model.best_estimator_)\n",
    "print(model.score(X_test, y_test)) "
   ]
  },
  {
   "cell_type": "code",
   "execution_count": 45,
   "metadata": {},
   "outputs": [
    {
     "data": {
      "text/plain": [
       "LogisticRegression(C=22.73017970506642, class_weight=None, dual=False,\n",
       "          fit_intercept=True, intercept_scaling=1, max_iter=100,\n",
       "          multi_class='ovr', n_jobs=1, penalty='l1', random_state=None,\n",
       "          solver='liblinear', tol=0.0001, verbose=0, warm_start=False)"
      ]
     },
     "execution_count": 45,
     "metadata": {},
     "output_type": "execute_result"
    }
   ],
   "source": [
    "model=LogisticRegression(penalty='l1',C=22.730179705066419)\n",
    "model.fit(X_train,y_train)"
   ]
  },
  {
   "cell_type": "code",
   "execution_count": 46,
   "metadata": {},
   "outputs": [
    {
     "name": "stdout",
     "output_type": "stream",
     "text": [
      "[[89521  2803]\n",
      " [ 6367 10561]]\n",
      "\n",
      "The accuracy of the logistic regression classifier for  lambda = 0.043994 is 91.606561%\n"
     ]
    }
   ],
   "source": [
    "labels=['1','-1']\n",
    "y_pred=model.predict(X_test)\n",
    "print(confusion_matrix(y_test, y_pred, labels))\n",
    "acc = accuracy_score(y_test, y_pred) * 100\n",
    "print('\\nThe accuracy of the logistic regression classifier for  lambda = %f is %f%%' % ((1/22.730179705066419), acc))"
   ]
  },
  {
   "cell_type": "markdown",
   "metadata": {},
   "source": [
    "# Tf-IDF-W2V with L2 Regularisation"
   ]
  },
  {
   "cell_type": "code",
   "execution_count": 17,
   "metadata": {},
   "outputs": [
    {
     "data": {
      "text/plain": [
       "scipy.sparse.csr.csr_matrix"
      ]
     },
     "execution_count": 17,
     "metadata": {},
     "output_type": "execute_result"
    }
   ],
   "source": [
    "tf_idf_vect = TfidfVectorizer()\n",
    "final_tf_idf = tf_idf_vect.fit_transform(final2['CleanedText'].values)\n",
    "type(final_tf_idf)"
   ]
  },
  {
   "cell_type": "code",
   "execution_count": 18,
   "metadata": {},
   "outputs": [
    {
     "name": "stdout",
     "output_type": "stream",
     "text": [
      "364171\n"
     ]
    }
   ],
   "source": [
    "tfidf_feat = tf_idf_vect.get_feature_names()\n",
    "tfidf_sent_vectors = []; # the tfidf-w2v for each sentence/review is stored in this list\n",
    "row=0;\n",
    "for sent in list_of_sent: # for each review/sentence\n",
    "    sent_vec = np.zeros(50) # as word vectors are of zero length\n",
    "    weight_sum =0; # num of words with a valid vector in the sentence/review\n",
    "    for word in sent: # for each word in a review/sentence\n",
    "        try:\n",
    "            vec = w2v_model.wv[word]\n",
    "            # obtain the tf_idfidf of a word in a sentence/review\n",
    "            tfidf = final_tf_idf[row,tfidf_feat.index(word)]\n",
    "            sent_vec += (vec * tfidf)\n",
    "            weight_sum += tfidf\n",
    "        except:\n",
    "            pass\n",
    "    #print(weight_sum)\n",
    "    sent_vec /= (weight_sum)\n",
    "    tfidf_sent_vectors.append(sent_vec)\n",
    "    row += 1\n",
    "print(row)"
   ]
  },
  {
   "cell_type": "code",
   "execution_count": 19,
   "metadata": {},
   "outputs": [
    {
     "data": {
      "text/plain": [
       "(364171, 50)"
      ]
     },
     "execution_count": 19,
     "metadata": {},
     "output_type": "execute_result"
    }
   ],
   "source": [
    "myarray=np.asarray(tfidf_sent_vectors)\n",
    "myarray.shape"
   ]
  },
  {
   "cell_type": "code",
   "execution_count": 20,
   "metadata": {},
   "outputs": [
    {
     "data": {
      "text/plain": [
       "(364171, 50)"
      ]
     },
     "execution_count": 20,
     "metadata": {},
     "output_type": "execute_result"
    }
   ],
   "source": [
    "\n",
    "df=pd.DataFrame(myarray)\n",
    "df.shape"
   ]
  },
  {
   "cell_type": "code",
   "execution_count": 10,
   "metadata": {},
   "outputs": [],
   "source": [
    "myarray= pd.read_csv('Book123.csv',sep='\\t',encoding='utf-8',header=0,index_col=False)"
   ]
  },
  {
   "cell_type": "code",
   "execution_count": 11,
   "metadata": {},
   "outputs": [
    {
     "data": {
      "text/html": [
       "<div>\n",
       "<style>\n",
       "    .dataframe thead tr:only-child th {\n",
       "        text-align: right;\n",
       "    }\n",
       "\n",
       "    .dataframe thead th {\n",
       "        text-align: left;\n",
       "    }\n",
       "\n",
       "    .dataframe tbody tr th {\n",
       "        vertical-align: top;\n",
       "    }\n",
       "</style>\n",
       "<table border=\"1\" class=\"dataframe\">\n",
       "  <thead>\n",
       "    <tr style=\"text-align: right;\">\n",
       "      <th></th>\n",
       "      <th>Unnamed: 0</th>\n",
       "      <th>0</th>\n",
       "      <th>1</th>\n",
       "      <th>2</th>\n",
       "      <th>3</th>\n",
       "      <th>4</th>\n",
       "      <th>5</th>\n",
       "      <th>6</th>\n",
       "      <th>7</th>\n",
       "      <th>8</th>\n",
       "      <th>...</th>\n",
       "      <th>40</th>\n",
       "      <th>41</th>\n",
       "      <th>42</th>\n",
       "      <th>43</th>\n",
       "      <th>44</th>\n",
       "      <th>45</th>\n",
       "      <th>46</th>\n",
       "      <th>47</th>\n",
       "      <th>48</th>\n",
       "      <th>49</th>\n",
       "    </tr>\n",
       "  </thead>\n",
       "  <tbody>\n",
       "    <tr>\n",
       "      <th>0</th>\n",
       "      <td>0</td>\n",
       "      <td>-1.002751</td>\n",
       "      <td>-1.856489</td>\n",
       "      <td>1.558805</td>\n",
       "      <td>-1.046987</td>\n",
       "      <td>-0.252264</td>\n",
       "      <td>0.764208</td>\n",
       "      <td>0.408269</td>\n",
       "      <td>1.255589</td>\n",
       "      <td>-0.887479</td>\n",
       "      <td>...</td>\n",
       "      <td>1.322412</td>\n",
       "      <td>0.149808</td>\n",
       "      <td>0.162798</td>\n",
       "      <td>-1.122607</td>\n",
       "      <td>0.023139</td>\n",
       "      <td>1.982921</td>\n",
       "      <td>-0.285209</td>\n",
       "      <td>-0.207310</td>\n",
       "      <td>0.302313</td>\n",
       "      <td>-0.850332</td>\n",
       "    </tr>\n",
       "    <tr>\n",
       "      <th>1</th>\n",
       "      <td>1</td>\n",
       "      <td>-1.803089</td>\n",
       "      <td>-2.240502</td>\n",
       "      <td>1.937356</td>\n",
       "      <td>0.860750</td>\n",
       "      <td>0.254682</td>\n",
       "      <td>1.509309</td>\n",
       "      <td>-0.089127</td>\n",
       "      <td>0.298482</td>\n",
       "      <td>-1.267994</td>\n",
       "      <td>...</td>\n",
       "      <td>1.427386</td>\n",
       "      <td>-0.631182</td>\n",
       "      <td>2.517825</td>\n",
       "      <td>-0.257393</td>\n",
       "      <td>0.365986</td>\n",
       "      <td>1.700910</td>\n",
       "      <td>0.817472</td>\n",
       "      <td>1.032603</td>\n",
       "      <td>0.197019</td>\n",
       "      <td>0.415100</td>\n",
       "    </tr>\n",
       "    <tr>\n",
       "      <th>2</th>\n",
       "      <td>2</td>\n",
       "      <td>1.131263</td>\n",
       "      <td>0.611377</td>\n",
       "      <td>-0.151169</td>\n",
       "      <td>-0.028978</td>\n",
       "      <td>-1.303543</td>\n",
       "      <td>-0.566932</td>\n",
       "      <td>-0.020546</td>\n",
       "      <td>-0.212846</td>\n",
       "      <td>-0.699795</td>\n",
       "      <td>...</td>\n",
       "      <td>0.191438</td>\n",
       "      <td>-1.205179</td>\n",
       "      <td>1.370901</td>\n",
       "      <td>-0.494649</td>\n",
       "      <td>-0.551398</td>\n",
       "      <td>0.867865</td>\n",
       "      <td>1.332148</td>\n",
       "      <td>0.340293</td>\n",
       "      <td>-0.852751</td>\n",
       "      <td>-1.027356</td>\n",
       "    </tr>\n",
       "    <tr>\n",
       "      <th>3</th>\n",
       "      <td>3</td>\n",
       "      <td>-0.229762</td>\n",
       "      <td>-0.174818</td>\n",
       "      <td>1.594513</td>\n",
       "      <td>-0.021799</td>\n",
       "      <td>1.146202</td>\n",
       "      <td>0.406590</td>\n",
       "      <td>-0.033467</td>\n",
       "      <td>-0.616603</td>\n",
       "      <td>-1.104269</td>\n",
       "      <td>...</td>\n",
       "      <td>0.536970</td>\n",
       "      <td>1.028458</td>\n",
       "      <td>0.412118</td>\n",
       "      <td>-0.361166</td>\n",
       "      <td>-0.586512</td>\n",
       "      <td>0.143318</td>\n",
       "      <td>-0.069084</td>\n",
       "      <td>-0.122670</td>\n",
       "      <td>-0.507982</td>\n",
       "      <td>-0.118554</td>\n",
       "    </tr>\n",
       "    <tr>\n",
       "      <th>4</th>\n",
       "      <td>4</td>\n",
       "      <td>0.737988</td>\n",
       "      <td>0.341494</td>\n",
       "      <td>0.080386</td>\n",
       "      <td>-1.078148</td>\n",
       "      <td>-1.389222</td>\n",
       "      <td>-0.772315</td>\n",
       "      <td>-0.338071</td>\n",
       "      <td>-0.835424</td>\n",
       "      <td>-0.686391</td>\n",
       "      <td>...</td>\n",
       "      <td>0.236565</td>\n",
       "      <td>-0.413408</td>\n",
       "      <td>0.682867</td>\n",
       "      <td>-0.586566</td>\n",
       "      <td>-0.132611</td>\n",
       "      <td>-0.346890</td>\n",
       "      <td>-0.367440</td>\n",
       "      <td>1.314041</td>\n",
       "      <td>-0.626573</td>\n",
       "      <td>0.704684</td>\n",
       "    </tr>\n",
       "  </tbody>\n",
       "</table>\n",
       "<p>5 rows × 51 columns</p>\n",
       "</div>"
      ],
      "text/plain": [
       "   Unnamed: 0         0         1         2         3         4         5  \\\n",
       "0           0 -1.002751 -1.856489  1.558805 -1.046987 -0.252264  0.764208   \n",
       "1           1 -1.803089 -2.240502  1.937356  0.860750  0.254682  1.509309   \n",
       "2           2  1.131263  0.611377 -0.151169 -0.028978 -1.303543 -0.566932   \n",
       "3           3 -0.229762 -0.174818  1.594513 -0.021799  1.146202  0.406590   \n",
       "4           4  0.737988  0.341494  0.080386 -1.078148 -1.389222 -0.772315   \n",
       "\n",
       "          6         7         8    ...           40        41        42  \\\n",
       "0  0.408269  1.255589 -0.887479    ...     1.322412  0.149808  0.162798   \n",
       "1 -0.089127  0.298482 -1.267994    ...     1.427386 -0.631182  2.517825   \n",
       "2 -0.020546 -0.212846 -0.699795    ...     0.191438 -1.205179  1.370901   \n",
       "3 -0.033467 -0.616603 -1.104269    ...     0.536970  1.028458  0.412118   \n",
       "4 -0.338071 -0.835424 -0.686391    ...     0.236565 -0.413408  0.682867   \n",
       "\n",
       "         43        44        45        46        47        48        49  \n",
       "0 -1.122607  0.023139  1.982921 -0.285209 -0.207310  0.302313 -0.850332  \n",
       "1 -0.257393  0.365986  1.700910  0.817472  1.032603  0.197019  0.415100  \n",
       "2 -0.494649 -0.551398  0.867865  1.332148  0.340293 -0.852751 -1.027356  \n",
       "3 -0.361166 -0.586512  0.143318 -0.069084 -0.122670 -0.507982 -0.118554  \n",
       "4 -0.586566 -0.132611 -0.346890 -0.367440  1.314041 -0.626573  0.704684  \n",
       "\n",
       "[5 rows x 51 columns]"
      ]
     },
     "execution_count": 11,
     "metadata": {},
     "output_type": "execute_result"
    }
   ],
   "source": [
    "myarray.head(5)"
   ]
  },
  {
   "cell_type": "code",
   "execution_count": 12,
   "metadata": {},
   "outputs": [],
   "source": [
    "myarray1=myarray.iloc[0:364171,1:51]"
   ]
  },
  {
   "cell_type": "code",
   "execution_count": 50,
   "metadata": {},
   "outputs": [
    {
     "data": {
      "text/html": [
       "<div>\n",
       "<style>\n",
       "    .dataframe thead tr:only-child th {\n",
       "        text-align: right;\n",
       "    }\n",
       "\n",
       "    .dataframe thead th {\n",
       "        text-align: left;\n",
       "    }\n",
       "\n",
       "    .dataframe tbody tr th {\n",
       "        vertical-align: top;\n",
       "    }\n",
       "</style>\n",
       "<table border=\"1\" class=\"dataframe\">\n",
       "  <thead>\n",
       "    <tr style=\"text-align: right;\">\n",
       "      <th></th>\n",
       "      <th>0</th>\n",
       "      <th>1</th>\n",
       "      <th>2</th>\n",
       "      <th>3</th>\n",
       "      <th>4</th>\n",
       "      <th>5</th>\n",
       "      <th>6</th>\n",
       "      <th>7</th>\n",
       "      <th>8</th>\n",
       "      <th>9</th>\n",
       "      <th>...</th>\n",
       "      <th>40</th>\n",
       "      <th>41</th>\n",
       "      <th>42</th>\n",
       "      <th>43</th>\n",
       "      <th>44</th>\n",
       "      <th>45</th>\n",
       "      <th>46</th>\n",
       "      <th>47</th>\n",
       "      <th>48</th>\n",
       "      <th>49</th>\n",
       "    </tr>\n",
       "  </thead>\n",
       "  <tbody>\n",
       "    <tr>\n",
       "      <th>0</th>\n",
       "      <td>-1.002751</td>\n",
       "      <td>-1.856489</td>\n",
       "      <td>1.558805</td>\n",
       "      <td>-1.046987</td>\n",
       "      <td>-0.252264</td>\n",
       "      <td>0.764208</td>\n",
       "      <td>0.408269</td>\n",
       "      <td>1.255589</td>\n",
       "      <td>-0.887479</td>\n",
       "      <td>-0.006568</td>\n",
       "      <td>...</td>\n",
       "      <td>1.322412</td>\n",
       "      <td>0.149808</td>\n",
       "      <td>0.162798</td>\n",
       "      <td>-1.122607</td>\n",
       "      <td>0.023139</td>\n",
       "      <td>1.982921</td>\n",
       "      <td>-0.285209</td>\n",
       "      <td>-0.207310</td>\n",
       "      <td>0.302313</td>\n",
       "      <td>-0.850332</td>\n",
       "    </tr>\n",
       "    <tr>\n",
       "      <th>1</th>\n",
       "      <td>-1.803089</td>\n",
       "      <td>-2.240502</td>\n",
       "      <td>1.937356</td>\n",
       "      <td>0.860750</td>\n",
       "      <td>0.254682</td>\n",
       "      <td>1.509309</td>\n",
       "      <td>-0.089127</td>\n",
       "      <td>0.298482</td>\n",
       "      <td>-1.267994</td>\n",
       "      <td>0.322630</td>\n",
       "      <td>...</td>\n",
       "      <td>1.427386</td>\n",
       "      <td>-0.631182</td>\n",
       "      <td>2.517825</td>\n",
       "      <td>-0.257393</td>\n",
       "      <td>0.365986</td>\n",
       "      <td>1.700910</td>\n",
       "      <td>0.817472</td>\n",
       "      <td>1.032603</td>\n",
       "      <td>0.197019</td>\n",
       "      <td>0.415100</td>\n",
       "    </tr>\n",
       "    <tr>\n",
       "      <th>2</th>\n",
       "      <td>1.131263</td>\n",
       "      <td>0.611377</td>\n",
       "      <td>-0.151169</td>\n",
       "      <td>-0.028978</td>\n",
       "      <td>-1.303543</td>\n",
       "      <td>-0.566932</td>\n",
       "      <td>-0.020546</td>\n",
       "      <td>-0.212846</td>\n",
       "      <td>-0.699795</td>\n",
       "      <td>0.069120</td>\n",
       "      <td>...</td>\n",
       "      <td>0.191438</td>\n",
       "      <td>-1.205179</td>\n",
       "      <td>1.370901</td>\n",
       "      <td>-0.494649</td>\n",
       "      <td>-0.551398</td>\n",
       "      <td>0.867865</td>\n",
       "      <td>1.332148</td>\n",
       "      <td>0.340293</td>\n",
       "      <td>-0.852751</td>\n",
       "      <td>-1.027356</td>\n",
       "    </tr>\n",
       "    <tr>\n",
       "      <th>3</th>\n",
       "      <td>-0.229762</td>\n",
       "      <td>-0.174818</td>\n",
       "      <td>1.594513</td>\n",
       "      <td>-0.021799</td>\n",
       "      <td>1.146202</td>\n",
       "      <td>0.406590</td>\n",
       "      <td>-0.033467</td>\n",
       "      <td>-0.616603</td>\n",
       "      <td>-1.104269</td>\n",
       "      <td>0.361149</td>\n",
       "      <td>...</td>\n",
       "      <td>0.536970</td>\n",
       "      <td>1.028458</td>\n",
       "      <td>0.412118</td>\n",
       "      <td>-0.361166</td>\n",
       "      <td>-0.586512</td>\n",
       "      <td>0.143318</td>\n",
       "      <td>-0.069084</td>\n",
       "      <td>-0.122670</td>\n",
       "      <td>-0.507982</td>\n",
       "      <td>-0.118554</td>\n",
       "    </tr>\n",
       "    <tr>\n",
       "      <th>4</th>\n",
       "      <td>0.737988</td>\n",
       "      <td>0.341494</td>\n",
       "      <td>0.080386</td>\n",
       "      <td>-1.078148</td>\n",
       "      <td>-1.389222</td>\n",
       "      <td>-0.772315</td>\n",
       "      <td>-0.338071</td>\n",
       "      <td>-0.835424</td>\n",
       "      <td>-0.686391</td>\n",
       "      <td>0.100213</td>\n",
       "      <td>...</td>\n",
       "      <td>0.236565</td>\n",
       "      <td>-0.413408</td>\n",
       "      <td>0.682867</td>\n",
       "      <td>-0.586566</td>\n",
       "      <td>-0.132611</td>\n",
       "      <td>-0.346890</td>\n",
       "      <td>-0.367440</td>\n",
       "      <td>1.314041</td>\n",
       "      <td>-0.626573</td>\n",
       "      <td>0.704684</td>\n",
       "    </tr>\n",
       "  </tbody>\n",
       "</table>\n",
       "<p>5 rows × 50 columns</p>\n",
       "</div>"
      ],
      "text/plain": [
       "          0         1         2         3         4         5         6  \\\n",
       "0 -1.002751 -1.856489  1.558805 -1.046987 -0.252264  0.764208  0.408269   \n",
       "1 -1.803089 -2.240502  1.937356  0.860750  0.254682  1.509309 -0.089127   \n",
       "2  1.131263  0.611377 -0.151169 -0.028978 -1.303543 -0.566932 -0.020546   \n",
       "3 -0.229762 -0.174818  1.594513 -0.021799  1.146202  0.406590 -0.033467   \n",
       "4  0.737988  0.341494  0.080386 -1.078148 -1.389222 -0.772315 -0.338071   \n",
       "\n",
       "          7         8         9    ...           40        41        42  \\\n",
       "0  1.255589 -0.887479 -0.006568    ...     1.322412  0.149808  0.162798   \n",
       "1  0.298482 -1.267994  0.322630    ...     1.427386 -0.631182  2.517825   \n",
       "2 -0.212846 -0.699795  0.069120    ...     0.191438 -1.205179  1.370901   \n",
       "3 -0.616603 -1.104269  0.361149    ...     0.536970  1.028458  0.412118   \n",
       "4 -0.835424 -0.686391  0.100213    ...     0.236565 -0.413408  0.682867   \n",
       "\n",
       "         43        44        45        46        47        48        49  \n",
       "0 -1.122607  0.023139  1.982921 -0.285209 -0.207310  0.302313 -0.850332  \n",
       "1 -0.257393  0.365986  1.700910  0.817472  1.032603  0.197019  0.415100  \n",
       "2 -0.494649 -0.551398  0.867865  1.332148  0.340293 -0.852751 -1.027356  \n",
       "3 -0.361166 -0.586512  0.143318 -0.069084 -0.122670 -0.507982 -0.118554  \n",
       "4 -0.586566 -0.132611 -0.346890 -0.367440  1.314041 -0.626573  0.704684  \n",
       "\n",
       "[5 rows x 50 columns]"
      ]
     },
     "execution_count": 50,
     "metadata": {},
     "output_type": "execute_result"
    }
   ],
   "source": [
    "myarray1.head(5)"
   ]
  },
  {
   "cell_type": "code",
   "execution_count": 13,
   "metadata": {},
   "outputs": [
    {
     "data": {
      "text/plain": [
       "(364171, 50)"
      ]
     },
     "execution_count": 13,
     "metadata": {},
     "output_type": "execute_result"
    }
   ],
   "source": [
    "myarray2=np.asarray(myarray1)\n",
    "myarray2.shape"
   ]
  },
  {
   "cell_type": "code",
   "execution_count": 14,
   "metadata": {},
   "outputs": [
    {
     "data": {
      "text/plain": [
       "array([[  1698,      0],\n",
       "       [  1698,      1],\n",
       "       [  1698,      2],\n",
       "       ..., \n",
       "       [362742,     47],\n",
       "       [362742,     48],\n",
       "       [362742,     49]])"
      ]
     },
     "execution_count": 14,
     "metadata": {},
     "output_type": "execute_result"
    }
   ],
   "source": [
    "np.argwhere(np.isnan(myarray2))"
   ]
  },
  {
   "cell_type": "code",
   "execution_count": 15,
   "metadata": {},
   "outputs": [],
   "source": [
    "from sklearn.preprocessing import Imputer\n",
    "impute=Imputer(strategy='median')\n",
    "impute.fit(myarray2)\n",
    "tfidf_w2v=impute.transform(myarray2)\n",
    "\n"
   ]
  },
  {
   "cell_type": "code",
   "execution_count": 16,
   "metadata": {},
   "outputs": [
    {
     "data": {
      "text/plain": [
       "(364171, 50)"
      ]
     },
     "execution_count": 16,
     "metadata": {},
     "output_type": "execute_result"
    }
   ],
   "source": [
    "tfidf_w2v.shape"
   ]
  },
  {
   "cell_type": "code",
   "execution_count": 17,
   "metadata": {},
   "outputs": [
    {
     "data": {
      "text/plain": [
       "numpy.ndarray"
      ]
     },
     "execution_count": 17,
     "metadata": {},
     "output_type": "execute_result"
    }
   ],
   "source": [
    "type(tfidf_w2v)"
   ]
  },
  {
   "cell_type": "code",
   "execution_count": 18,
   "metadata": {},
   "outputs": [],
   "source": [
    "from sklearn.preprocessing import StandardScaler\n",
    "Standard_data=StandardScaler().fit_transform(tfidf_w2v)\n",
    "Standard_data.shape\n",
    "sample_data=Standard_data"
   ]
  },
  {
   "cell_type": "code",
   "execution_count": 21,
   "metadata": {},
   "outputs": [],
   "source": [
    "from sklearn.model_selection import train_test_split\n",
    "from sklearn.grid_search import GridSearchCV\n",
    "from sklearn.linear_model import LogisticRegression\n",
    "tuned_parameters = [{'C': [10,11]}]\n",
    "X_train, X_test, y_train, y_test = train_test_split(sample_data, y, train_size=0.7)"
   ]
  },
  {
   "cell_type": "code",
   "execution_count": 146,
   "metadata": {},
   "outputs": [
    {
     "name": "stdout",
     "output_type": "stream",
     "text": [
      "LogisticRegression(C=10, class_weight=None, dual=False, fit_intercept=True,\n",
      "          intercept_scaling=1, max_iter=100, multi_class='ovr', n_jobs=1,\n",
      "          penalty='l2', random_state=None, solver='liblinear', tol=0.0001,\n",
      "          verbose=0, warm_start=False)\n",
      "0.863727895142\n"
     ]
    }
   ],
   "source": [
    "model = GridSearchCV(LogisticRegression(), tuned_parameters, scoring = 'f1_micro', cv=3)\n",
    "model.fit(X_train, y_train)\n",
    "print(model.best_estimator_)\n",
    "print(model.score(X_test, y_test))"
   ]
  },
  {
   "cell_type": "code",
   "execution_count": 149,
   "metadata": {},
   "outputs": [
    {
     "name": "stdout",
     "output_type": "stream",
     "text": [
      "[[89719  2638]\n",
      " [12250  4645]]\n",
      "\n",
      "The accuracy of the logistic regression classifier for  lambda = 0.100000 is 86.372790%\n"
     ]
    }
   ],
   "source": [
    "from sklearn.metrics import confusion_matrix\n",
    "from sklearn.metrics import accuracy_score\n",
    "labels=['1','-1']\n",
    "y_pred=model.predict(X_test)\n",
    "print(confusion_matrix(y_test, y_pred,labels))\n",
    "acc = accuracy_score(y_test, y_pred) * 100\n",
    "print('\\nThe accuracy of the logistic regression classifier for  lambda = %f is %f%%' % (1/10, acc))"
   ]
  },
  {
   "cell_type": "code",
   "execution_count": 140,
   "metadata": {},
   "outputs": [
    {
     "name": "stdout",
     "output_type": "stream",
     "text": [
      "LogisticRegression(C=10.902807818144794, class_weight=None, dual=False,\n",
      "          fit_intercept=True, intercept_scaling=1, max_iter=100,\n",
      "          multi_class='ovr', n_jobs=1, penalty='l2', random_state=None,\n",
      "          solver='liblinear', tol=0.0001, verbose=0, warm_start=False)\n",
      "0.862501372973\n"
     ]
    }
   ],
   "source": [
    "from sklearn.model_selection import RandomizedSearchCV\n",
    "from scipy import stats\n",
    "rand_list = {\"C\": stats.uniform(10, 3)}\n",
    "l=stats.uniform(10**0, 3)\n",
    "model=RandomizedSearchCV(LogisticRegression(), param_distributions=rand_list, scoring = 'f1_micro', cv=5)\n",
    "model.fit(X_train, y_train)\n",
    "print(model.best_estimator_)\n",
    "print(model.score(X_test, y_test))"
   ]
  },
  {
   "cell_type": "code",
   "execution_count": 141,
   "metadata": {},
   "outputs": [
    {
     "data": {
      "text/plain": [
       "array([[89436,  2648],\n",
       "       [12374,  4794]])"
      ]
     },
     "execution_count": 141,
     "metadata": {},
     "output_type": "execute_result"
    }
   ],
   "source": [
    "from sklearn.metrics import confusion_matrix\n",
    "y_pred=model.predict(X_test)\n",
    "labels = ['1', '-1']\n",
    "\n",
    "confusion_matrix(y_test, y_pred,labels)"
   ]
  },
  {
   "cell_type": "markdown",
   "metadata": {},
   "source": [
    "# tf-idf-w2v with L1 regularisation"
   ]
  },
  {
   "cell_type": "code",
   "execution_count": 142,
   "metadata": {},
   "outputs": [
    {
     "name": "stdout",
     "output_type": "stream",
     "text": [
      "LogisticRegression(C=10.463659251816843, class_weight=None, dual=False,\n",
      "          fit_intercept=True, intercept_scaling=1, max_iter=100,\n",
      "          multi_class='ovr', n_jobs=1, penalty='l1', random_state=None,\n",
      "          solver='liblinear', tol=0.0001, verbose=0, warm_start=False)\n",
      "0.862492219822\n"
     ]
    }
   ],
   "source": [
    "from sklearn.model_selection import RandomizedSearchCV\n",
    "from scipy import stats\n",
    "rand_list = {\"C\": stats.uniform(10, 10)}\n",
    "l=stats.uniform(10**-4, 10**4)\n",
    "model=RandomizedSearchCV(LogisticRegression(penalty='l1'), param_distributions=rand_list, scoring = 'f1_micro', cv=5)\n",
    "model.fit(X_train, y_train)\n",
    "print(model.best_estimator_)\n",
    "print(model.score(X_test, y_test))"
   ]
  },
  {
   "cell_type": "code",
   "execution_count": 143,
   "metadata": {},
   "outputs": [
    {
     "data": {
      "text/plain": [
       "array([[89433,  2651],\n",
       "       [12372,  4796]])"
      ]
     },
     "execution_count": 143,
     "metadata": {},
     "output_type": "execute_result"
    }
   ],
   "source": [
    "from sklearn.metrics import confusion_matrix\n",
    "y_pred=model.predict(X_test)\n",
    "labels = ['1', '-1']\n",
    "\n",
    "confusion_matrix(y_test, y_pred,labels)"
   ]
  },
  {
   "cell_type": "code",
   "execution_count": 150,
   "metadata": {},
   "outputs": [],
   "source": [
    "from sklearn.model_selection import train_test_split\n",
    "from sklearn.grid_search import GridSearchCV\n",
    "from sklearn.linear_model import LogisticRegression\n",
    "tuned_parameters = [{'C': [10,11,14,17,22,36]}]\n",
    "X_train, X_test, y_train, y_test = train_test_split(sample_data, y, train_size=0.7)"
   ]
  },
  {
   "cell_type": "code",
   "execution_count": 151,
   "metadata": {},
   "outputs": [
    {
     "name": "stdout",
     "output_type": "stream",
     "text": [
      "LogisticRegression(C=14, class_weight=None, dual=False, fit_intercept=True,\n",
      "          intercept_scaling=1, max_iter=100, multi_class='ovr', n_jobs=1,\n",
      "          penalty='l2', random_state=None, solver='liblinear', tol=0.0001,\n",
      "          verbose=0, warm_start=False)\n",
      "0.864341156226\n"
     ]
    }
   ],
   "source": [
    "model = GridSearchCV(LogisticRegression(), tuned_parameters, scoring = 'f1_micro', cv=3)\n",
    "model.fit(X_train, y_train)\n",
    "print(model.best_estimator_)\n",
    "print(model.score(X_test, y_test))"
   ]
  },
  {
   "cell_type": "code",
   "execution_count": 152,
   "metadata": {},
   "outputs": [
    {
     "data": {
      "text/plain": [
       "array([[89594,  2705],\n",
       "       [12116,  4837]])"
      ]
     },
     "execution_count": 152,
     "metadata": {},
     "output_type": "execute_result"
    }
   ],
   "source": [
    "from sklearn.metrics import confusion_matrix\n",
    "y_pred=model.predict(X_test)\n",
    "labels = ['1', '-1']\n",
    "\n",
    "confusion_matrix(y_test, y_pred,labels)"
   ]
  },
  {
   "cell_type": "markdown",
   "metadata": {},
   "source": [
    " # Multicollinearity for TF-IDf W2v"
   ]
  },
  {
   "cell_type": "code",
   "execution_count": 76,
   "metadata": {},
   "outputs": [
    {
     "data": {
      "text/plain": [
       "array([[ 1.03784876,  0.23485335, -0.23001442,  0.03113373,  1.27883866],\n",
       "       [ 0.82355269, -0.24872519, -0.766691  ,  0.47461812, -0.34297633],\n",
       "       [ 0.00975828, -1.23932668,  0.65001357, -0.10870648, -0.15156756],\n",
       "       [ 0.72522459, -0.4875141 , -0.11152925,  0.30621014, -0.46601603],\n",
       "       [-1.36215376, -1.4306974 ,  0.24878143,  1.1093151 , -0.24056757]])"
      ]
     },
     "execution_count": 76,
     "metadata": {},
     "output_type": "execute_result"
    }
   ],
   "source": [
    "X_train[0:5,0:5]"
   ]
  },
  {
   "cell_type": "code",
   "execution_count": 77,
   "metadata": {},
   "outputs": [],
   "source": [
    "X_train1=X_train + np.random.normal(0,0.1)"
   ]
  },
  {
   "cell_type": "code",
   "execution_count": 78,
   "metadata": {},
   "outputs": [
    {
     "data": {
      "text/plain": [
       "array([[ 1.06756108,  0.26456567, -0.2003021 ,  0.06084606,  1.30855098],\n",
       "       [ 0.85326501, -0.21901287, -0.73697868,  0.50433044, -0.31326401],\n",
       "       [ 0.0394706 , -1.20961435,  0.67972589, -0.07899416, -0.12185524],\n",
       "       [ 0.75493691, -0.45780178, -0.08181693,  0.33592246, -0.43630371],\n",
       "       [-1.33244144, -1.40098507,  0.27849375,  1.13902742, -0.21085525]])"
      ]
     },
     "execution_count": 78,
     "metadata": {},
     "output_type": "execute_result"
    }
   ],
   "source": [
    "X_train1[0:5,0:5]"
   ]
  },
  {
   "cell_type": "code",
   "execution_count": 64,
   "metadata": {},
   "outputs": [
    {
     "data": {
      "text/plain": [
       "array([[-0.45539416, -0.82765551,  0.02378499,  0.46557903, -0.43031396,\n",
       "        -0.35805086, -0.31320237,  0.38916981,  0.23002178, -0.1292722 ,\n",
       "        -0.24491695, -0.68129539, -0.24699676,  0.47138956, -0.70382249,\n",
       "         0.12051888, -0.063591  , -0.3976858 ,  0.23273825,  0.41619535,\n",
       "        -0.57098162,  0.05882388, -0.3538807 , -0.77798868, -0.6099614 ,\n",
       "        -0.6453896 , -0.03853955, -0.0970825 , -0.9529097 ,  0.20328936,\n",
       "         0.72866374, -0.31024688,  0.38633828, -0.74052264,  0.08391152,\n",
       "         0.09001924, -0.16800774,  0.36466157,  1.04782162,  0.81774671,\n",
       "        -0.12799586,  0.051324  ,  0.33600575, -0.08495288,  0.11810296,\n",
       "        -0.04086393, -0.1278358 ,  0.48696193, -0.68950818,  0.63106316]])"
      ]
     },
     "execution_count": 64,
     "metadata": {},
     "output_type": "execute_result"
    }
   ],
   "source": [
    "w"
   ]
  },
  {
   "cell_type": "code",
   "execution_count": 65,
   "metadata": {},
   "outputs": [
    {
     "data": {
      "text/plain": [
       "array([[-0.45539416, -0.82765551,  0.02378499,  0.46557903, -0.43031396,\n",
       "        -0.35805086, -0.31320237,  0.38916981,  0.23002178, -0.1292722 ,\n",
       "        -0.24491695, -0.68129539, -0.24699676,  0.47138956, -0.70382249,\n",
       "         0.12051888, -0.063591  , -0.3976858 ,  0.23273825,  0.41619535,\n",
       "        -0.57098162,  0.05882388, -0.3538807 , -0.77798868, -0.6099614 ,\n",
       "        -0.6453896 , -0.03853955, -0.0970825 , -0.9529097 ,  0.20328936,\n",
       "         0.72866374, -0.31024688,  0.38633828, -0.74052264,  0.08391152,\n",
       "         0.09001924, -0.16800774,  0.36466157,  1.04782162,  0.81774671,\n",
       "        -0.12799586,  0.051324  ,  0.33600575, -0.08495288,  0.11810296,\n",
       "        -0.04086393, -0.1278358 ,  0.48696193, -0.68950818,  0.63106316]])"
      ]
     },
     "execution_count": 65,
     "metadata": {},
     "output_type": "execute_result"
    }
   ],
   "source": [
    "w[0:1,0:50]"
   ]
  },
  {
   "cell_type": "code",
   "execution_count": 37,
   "metadata": {},
   "outputs": [
    {
     "data": {
      "text/plain": [
       "LogisticRegression(C=10, class_weight=None, dual=False, fit_intercept=True,\n",
       "          intercept_scaling=1, max_iter=100, multi_class='ovr', n_jobs=1,\n",
       "          penalty='l1', random_state=None, solver='liblinear', tol=0.0001,\n",
       "          verbose=0, warm_start=False)"
      ]
     },
     "execution_count": 37,
     "metadata": {},
     "output_type": "execute_result"
    }
   ],
   "source": [
    "clf1 = LogisticRegression(C=10, penalty='l1')\n",
    "clf1.fit(X_train1, y_train)\n"
   ]
  },
  {
   "cell_type": "code",
   "execution_count": 38,
   "metadata": {},
   "outputs": [],
   "source": [
    "w1=clf1.coef_\n"
   ]
  },
  {
   "cell_type": "code",
   "execution_count": 39,
   "metadata": {},
   "outputs": [
    {
     "data": {
      "text/plain": [
       "array([[-0.45532498, -0.82753654,  0.02383088,  0.46549351, -0.43028584,\n",
       "        -0.35799254, -0.31316547,  0.38909051,  0.23003437, -0.12923281,\n",
       "        -0.24488452, -0.68119191, -0.2469566 ,  0.47135327, -0.70372743,\n",
       "         0.12050194, -0.06359873, -0.39764933,  0.23270205,  0.41608366,\n",
       "        -0.57089288,  0.05882972, -0.35378906, -0.77785037, -0.60984472,\n",
       "        -0.64531189, -0.0385396 , -0.09712575, -0.95281542,  0.20328962,\n",
       "         0.72856265, -0.3102167 ,  0.38629942, -0.74044272,  0.08390433,\n",
       "         0.09002999, -0.16800712,  0.36462441,  1.04767584,  0.81763662,\n",
       "        -0.12789215,  0.05125016,  0.33591111, -0.08494791,  0.11806133,\n",
       "        -0.04080408, -0.12789375,  0.48688553, -0.68940046,  0.63101844]])"
      ]
     },
     "execution_count": 39,
     "metadata": {},
     "output_type": "execute_result"
    }
   ],
   "source": [
    "w1"
   ]
  },
  {
   "cell_type": "code",
   "execution_count": 66,
   "metadata": {},
   "outputs": [],
   "source": [
    "a=np.arange(1,51,1)"
   ]
  },
  {
   "cell_type": "code",
   "execution_count": 68,
   "metadata": {},
   "outputs": [
    {
     "data": {
      "text/plain": [
       "array([-0.45539416, -0.82765551,  0.02378499,  0.46557903, -0.43031396,\n",
       "       -0.35805086, -0.31320237,  0.38916981,  0.23002178, -0.1292722 ,\n",
       "       -0.24491695, -0.68129539, -0.24699676,  0.47138956, -0.70382249,\n",
       "        0.12051888, -0.063591  , -0.3976858 ,  0.23273825,  0.41619535,\n",
       "       -0.57098162,  0.05882388, -0.3538807 , -0.77798868, -0.6099614 ,\n",
       "       -0.6453896 , -0.03853955, -0.0970825 , -0.9529097 ,  0.20328936,\n",
       "        0.72866374, -0.31024688,  0.38633828, -0.74052264,  0.08391152,\n",
       "        0.09001924, -0.16800774,  0.36466157,  1.04782162,  0.81774671,\n",
       "       -0.12799586,  0.051324  ,  0.33600575, -0.08495288,  0.11810296,\n",
       "       -0.04086393, -0.1278358 ,  0.48696193, -0.68950818,  0.63106316])"
      ]
     },
     "execution_count": 68,
     "metadata": {},
     "output_type": "execute_result"
    }
   ],
   "source": [
    "w.ravel()"
   ]
  },
  {
   "cell_type": "code",
   "execution_count": 74,
   "metadata": {},
   "outputs": [
    {
     "data": {
      "text/html": [
       "<div>\n",
       "<style>\n",
       "    .dataframe thead tr:only-child th {\n",
       "        text-align: right;\n",
       "    }\n",
       "\n",
       "    .dataframe thead th {\n",
       "        text-align: left;\n",
       "    }\n",
       "\n",
       "    .dataframe tbody tr th {\n",
       "        vertical-align: top;\n",
       "    }\n",
       "</style>\n",
       "<table border=\"1\" class=\"dataframe\">\n",
       "  <thead>\n",
       "    <tr style=\"text-align: right;\">\n",
       "      <th></th>\n",
       "      <th>features</th>\n",
       "      <th>weight</th>\n",
       "    </tr>\n",
       "  </thead>\n",
       "  <tbody>\n",
       "    <tr>\n",
       "      <th>38</th>\n",
       "      <td>39</td>\n",
       "      <td>1.047822</td>\n",
       "    </tr>\n",
       "    <tr>\n",
       "      <th>28</th>\n",
       "      <td>29</td>\n",
       "      <td>0.952910</td>\n",
       "    </tr>\n",
       "    <tr>\n",
       "      <th>1</th>\n",
       "      <td>2</td>\n",
       "      <td>0.827656</td>\n",
       "    </tr>\n",
       "    <tr>\n",
       "      <th>39</th>\n",
       "      <td>40</td>\n",
       "      <td>0.817747</td>\n",
       "    </tr>\n",
       "    <tr>\n",
       "      <th>23</th>\n",
       "      <td>24</td>\n",
       "      <td>0.777989</td>\n",
       "    </tr>\n",
       "  </tbody>\n",
       "</table>\n",
       "</div>"
      ],
      "text/plain": [
       "    features    weight\n",
       "38        39  1.047822\n",
       "28        29  0.952910\n",
       "1          2  0.827656\n",
       "39        40  0.817747\n",
       "23        24  0.777989"
      ]
     },
     "execution_count": 74,
     "metadata": {},
     "output_type": "execute_result"
    }
   ],
   "source": [
    "d={'features':a,'weight':np.absolute(w.ravel())}\n",
    "x1=pd.DataFrame(data=d)\n",
    "final2=x1.sort_values('weight',ascending=False)\n",
    "final2.head(5)"
   ]
  },
  {
   "cell_type": "markdown",
   "metadata": {},
   "source": [
    "# Conclusion from multicollinearity\n",
    "1. so from w and w1 from above program, the values are not differ much so we can say features are non collinear\n",
    "2. so from weights of w we can say which features are important.\n",
    "3. so in above top 5 important features also shown(39,29,2,40,24) are most imortant features in tfidf-w2v method."
   ]
  },
  {
   "cell_type": "markdown",
   "metadata": {},
   "source": [
    "# Conclusion Of Assignment:\n",
    "1. BOW, Tf-idf and w2v Gives good accuracy and positive and negative classes classifies properly.\n",
    "2. w2v is computed for 300 dimension \n",
    "3. tfidf-w2v is computed for 50 dimension because of this it gives least TNR\n",
    "4. Optimal lambda value , Accuracy and Negative label classification  accuracy shown below:-"
   ]
  },
  {
   "cell_type": "code",
   "execution_count": 162,
   "metadata": {},
   "outputs": [
    {
     "name": "stdout",
     "output_type": "stream",
     "text": [
      "For Grid Search results:-\n"
     ]
    },
    {
     "data": {
      "text/html": [
       "<table class=\"toyplot-data-Table\" style=\"border-collapse:collapse; border:none; color: #292724\"><tr style=\"border:none;border-bottom:1px solid #292724\"><th style=\"text-align:left;border:none;padding-right:1em;\">Negative label classification rate for l1</th><th style=\"text-align:left;border:none;padding-right:1em;\">Negative label classification rate for l2</th><th style=\"text-align:left;border:none;padding-right:1em;\">Parameter</th><th style=\"text-align:left;border:none;padding-right:1em;\">accuracy using l1 Regulariser</th><th style=\"text-align:left;border:none;padding-right:1em;\">accuracy using l2 Regulariser</th></tr><tr style=\"border:none\"><td style=\"border:none;padding-right:1em;\">67.97</td><td style=\"border:none;padding-right:1em;\">68.57</td><td style=\"border:none;padding-right:1em;\">BOW</td><td style=\"border:none;padding-right:1em;\">92.57</td><td style=\"border:none;padding-right:1em;\">92.65</td></tr><tr style=\"border:none\"><td style=\"border:none;padding-right:1em;\">67.48</td><td style=\"border:none;padding-right:1em;\">69.05</td><td style=\"border:none;padding-right:1em;\">TF-IDF</td><td style=\"border:none;padding-right:1em;\">92.7</td><td style=\"border:none;padding-right:1em;\">92.785</td></tr><tr style=\"border:none\"><td style=\"border:none;padding-right:1em;\">62.09</td><td style=\"border:none;padding-right:1em;\">61.51</td><td style=\"border:none;padding-right:1em;\">W2V</td><td style=\"border:none;padding-right:1em;\">91.51</td><td style=\"border:none;padding-right:1em;\">91.42</td></tr><tr style=\"border:none\"><td style=\"border:none;padding-right:1em;\">27.935</td><td style=\"border:none;padding-right:1em;\">27.49</td><td style=\"border:none;padding-right:1em;\">W2V-TF-IDF</td><td style=\"border:none;padding-right:1em;\">86.434</td><td style=\"border:none;padding-right:1em;\">86.37</td></tr></table>"
      ],
      "text/plain": [
       "<toyplot.data.Table at 0x3ffc2a691f60>"
      ]
     },
     "execution_count": 162,
     "metadata": {},
     "output_type": "execute_result"
    }
   ],
   "source": [
    "\n",
    "import toyplot\n",
    "data = dict()\n",
    "data[\"Parameter\"] = [\"BOW\", \"TF-IDF\", \"W2V\",\"W2V-TF-IDF\"]\n",
    "data[\"accuracy using l1 Regulariser\"] = [92.57,92.70,91.51,86.434]\n",
    "data[\"Negative label classification rate for l1\"]=[67.97,67.48,62.09,27.935]\n",
    "data[\"accuracy using l2 Regulariser\"] = [92.65,92.785,91.42,86.37]\n",
    "data[\"Negative label classification rate for l2\"]=[68.57,69.05,61.51,27.49]\n",
    "print(\"For Grid Search results:-\")\n",
    "toyplot.data.Table(data)"
   ]
  },
  {
   "cell_type": "code",
   "execution_count": 163,
   "metadata": {},
   "outputs": [
    {
     "name": "stdout",
     "output_type": "stream",
     "text": [
      "For Random Search results:-\n"
     ]
    },
    {
     "data": {
      "text/html": [
       "<table class=\"toyplot-data-Table\" style=\"border-collapse:collapse; border:none; color: #292724\"><tr style=\"border:none;border-bottom:1px solid #292724\"><th style=\"text-align:left;border:none;padding-right:1em;\">Negative label classification rate for l1</th><th style=\"text-align:left;border:none;padding-right:1em;\">Negative label classification rate for l2</th><th style=\"text-align:left;border:none;padding-right:1em;\">Parameter</th><th style=\"text-align:left;border:none;padding-right:1em;\">accuracy using l1 Regulariser</th><th style=\"text-align:left;border:none;padding-right:1em;\">accuracy using l2 Regulariser</th></tr><tr style=\"border:none\"><td style=\"border:none;padding-right:1em;\">68.98</td><td style=\"border:none;padding-right:1em;\">68.51</td><td style=\"border:none;padding-right:1em;\">BOW</td><td style=\"border:none;padding-right:1em;\">92.63</td><td style=\"border:none;padding-right:1em;\">92.66</td></tr><tr style=\"border:none\"><td style=\"border:none;padding-right:1em;\">68.71</td><td style=\"border:none;padding-right:1em;\">68.37</td><td style=\"border:none;padding-right:1em;\">TF-IDF</td><td style=\"border:none;padding-right:1em;\">92.59</td><td style=\"border:none;padding-right:1em;\">92.759</td></tr><tr style=\"border:none\"><td style=\"border:none;padding-right:1em;\">62.387</td><td style=\"border:none;padding-right:1em;\">61.51</td><td style=\"border:none;padding-right:1em;\">W2V</td><td style=\"border:none;padding-right:1em;\">91.39</td><td style=\"border:none;padding-right:1em;\">91.42</td></tr><tr style=\"border:none\"><td style=\"border:none;padding-right:1em;\">27.93</td><td style=\"border:none;padding-right:1em;\">27.92</td><td style=\"border:none;padding-right:1em;\">W2V-TF-IDF</td><td style=\"border:none;padding-right:1em;\">86.24</td><td style=\"border:none;padding-right:1em;\">86.25</td></tr></table>"
      ],
      "text/plain": [
       "<toyplot.data.Table at 0x3ffc2a6dd9e8>"
      ]
     },
     "execution_count": 163,
     "metadata": {},
     "output_type": "execute_result"
    }
   ],
   "source": [
    "import toyplot\n",
    "data = dict()\n",
    "data[\"Parameter\"] = [\"BOW\", \"TF-IDF\", \"W2V\",\"W2V-TF-IDF\"]\n",
    "data[\"accuracy using l1 Regulariser\"] = [92.63,92.59,91.39,86.24]\n",
    "data[\"Negative label classification rate for l1\"]=[68.98,68.71,62.387,27.93]\n",
    "data[\"accuracy using l2 Regulariser\"] = [92.66,92.759,91.42,86.25]\n",
    "data[\"Negative label classification rate for l2\"]=[68.51,68.37,61.51,27.92]\n",
    "print(\"For Random Search results:-\")\n",
    "toyplot.data.Table(data)"
   ]
  },
  {
   "cell_type": "code",
   "execution_count": 34,
   "metadata": {},
   "outputs": [
    {
     "name": "stdout",
     "output_type": "stream",
     "text": [
      " Optimal Lambda Value For Grid Search results:-\n"
     ]
    },
    {
     "data": {
      "text/html": [
       "<table class=\"toyplot-data-Table\" style=\"border-collapse:collapse; border:none; color: #292724\"><tr style=\"border:none;border-bottom:1px solid #292724\"><th style=\"text-align:left;border:none;padding-right:1em;\">Parameter</th><th style=\"text-align:left;border:none;padding-right:1em;\">lambda value for L1</th><th style=\"text-align:left;border:none;padding-right:1em;\">lambda value for L2</th></tr><tr style=\"border:none\"><td style=\"border:none;padding-right:1em;\">BOW</td><td style=\"border:none;padding-right:1em;\">1.0</td><td style=\"border:none;padding-right:1em;\">10.0</td></tr><tr style=\"border:none\"><td style=\"border:none;padding-right:1em;\">TF-IDF</td><td style=\"border:none;padding-right:1em;\">100.0</td><td style=\"border:none;padding-right:1em;\">100.0</td></tr><tr style=\"border:none\"><td style=\"border:none;padding-right:1em;\">W2V</td><td style=\"border:none;padding-right:1em;\">0.1</td><td style=\"border:none;padding-right:1em;\">100.0</td></tr><tr style=\"border:none\"><td style=\"border:none;padding-right:1em;\">W2V-TF-IDF</td><td style=\"border:none;padding-right:1em;\">0.091</td><td style=\"border:none;padding-right:1em;\">0.1</td></tr></table>"
      ],
      "text/plain": [
       "<toyplot.data.Table at 0x12f34871240>"
      ]
     },
     "execution_count": 34,
     "metadata": {},
     "output_type": "execute_result"
    }
   ],
   "source": [
    "import toyplot\n",
    "data = dict()\n",
    "data[\"Parameter\"] = [\"BOW\", \"TF-IDF\", \"W2V\",\"W2V-TF-IDF\"]\n",
    "data[\"lambda value for L1\"]=[1,100,0.1,0.091]\n",
    "data[\"lambda value for L2\"]=[10,100,100,0.1]\n",
    "print(\" Optimal Lambda Value For Grid Search results:-\")\n",
    "toyplot.data.Table(data)"
   ]
  },
  {
   "cell_type": "code",
   "execution_count": 166,
   "metadata": {
    "scrolled": true
   },
   "outputs": [
    {
     "name": "stdout",
     "output_type": "stream",
     "text": [
      " Optimal Lambda Value For Random Search results:-\n"
     ]
    },
    {
     "data": {
      "text/html": [
       "<table class=\"toyplot-data-Table\" style=\"border-collapse:collapse; border:none; color: #292724\"><tr style=\"border:none;border-bottom:1px solid #292724\"><th style=\"text-align:left;border:none;padding-right:1em;\">Parameter</th><th style=\"text-align:left;border:none;padding-right:1em;\">lambda value for L1</th><th style=\"text-align:left;border:none;padding-right:1em;\">lambda value for L2</th></tr><tr style=\"border:none\"><td style=\"border:none;padding-right:1em;\">BOW</td><td style=\"border:none;padding-right:1em;\">0.4651</td><td style=\"border:none;padding-right:1em;\">1.0</td></tr><tr style=\"border:none\"><td style=\"border:none;padding-right:1em;\">TF-IDF</td><td style=\"border:none;padding-right:1em;\">0.3246</td><td style=\"border:none;padding-right:1em;\">1.0</td></tr><tr style=\"border:none\"><td style=\"border:none;padding-right:1em;\">W2V</td><td style=\"border:none;padding-right:1em;\">0.045</td><td style=\"border:none;padding-right:1em;\">1.0</td></tr><tr style=\"border:none\"><td style=\"border:none;padding-right:1em;\">W2V-TF-IDF</td><td style=\"border:none;padding-right:1em;\">0.095</td><td style=\"border:none;padding-right:1em;\">0.1</td></tr></table>"
      ],
      "text/plain": [
       "<toyplot.data.Table at 0x3ffc2a691c50>"
      ]
     },
     "execution_count": 166,
     "metadata": {},
     "output_type": "execute_result"
    }
   ],
   "source": [
    "import toyplot\n",
    "data = dict()\n",
    "data[\"Parameter\"] = [\"BOW\", \"TF-IDF\", \"W2V\",\"W2V-TF-IDF\"]\n",
    "data[\"lambda value for L1\"]=[0.4651,0.3246,0.045,0.095]\n",
    "data[\"lambda value for L2\"]=[1,1,1,0.1]\n",
    "print(\" Optimal Lambda Value For Random Search results:-\")\n",
    "toyplot.data.Table(data)"
   ]
  },
  {
   "cell_type": "markdown",
   "metadata": {},
   "source": [
    "# Program Flow\n",
    "1. Data is first Pre-Processed i.e removing stopwords,html,Punctuation marks,Duplicate Reviews\n",
    "2. arranged data in ascending order of time.\n",
    "3. Apply Methods of Text to Vector Conversion\n",
    "4. For Tf-idf-w2v and avg w2v NAN Value occurs ,So Imputer is used.\n",
    "4. For Each Method, Data is Standardised then to find optimal value of hyperparameter, RandomSearch  and Grid Search algorithm are implemented.\n"
   ]
  },
  {
   "cell_type": "code",
   "execution_count": null,
   "metadata": {},
   "outputs": [],
   "source": []
  }
 ],
 "metadata": {
  "kernelspec": {
   "display_name": "Python 3",
   "language": "python",
   "name": "python3"
  },
  "language_info": {
   "codemirror_mode": {
    "name": "ipython",
    "version": 3
   },
   "file_extension": ".py",
   "mimetype": "text/x-python",
   "name": "python",
   "nbconvert_exporter": "python",
   "pygments_lexer": "ipython3",
   "version": "3.6.4"
  }
 },
 "nbformat": 4,
 "nbformat_minor": 2
}
