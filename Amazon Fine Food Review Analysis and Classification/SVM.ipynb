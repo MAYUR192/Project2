{
 "cells": [
  {
   "cell_type": "code",
   "execution_count": 35,
   "metadata": {},
   "outputs": [],
   "source": [
    "import warnings\n",
    "warnings.filterwarnings(\"ignore\")"
   ]
  },
  {
   "cell_type": "code",
   "execution_count": 2,
   "metadata": {},
   "outputs": [],
   "source": [
    "import pandas as pd # Loading of Dataset i.e already Contain Cleaned text after removing Stop words,html,punctuation,Stemming\n",
    "final1= pd.read_csv('clenanedreview.csv',sep=',',encoding='utf-8')"
   ]
  },
  {
   "cell_type": "code",
   "execution_count": 3,
   "metadata": {},
   "outputs": [
    {
     "data": {
      "text/plain": [
       "(364171, 12)"
      ]
     },
     "execution_count": 3,
     "metadata": {},
     "output_type": "execute_result"
    }
   ],
   "source": [
    "final1.shape"
   ]
  },
  {
   "cell_type": "code",
   "execution_count": 4,
   "metadata": {},
   "outputs": [],
   "source": [
    "import numpy as np\n",
    "import pandas as pd\n",
    "import matplotlib.pyplot as plt\n",
    "from sklearn.metrics import accuracy_score\n",
    "from collections import Counter\n",
    "from sklearn.metrics import accuracy_score\n"
   ]
  },
  {
   "cell_type": "code",
   "execution_count": 5,
   "metadata": {},
   "outputs": [],
   "source": [
    "import string\n",
    "import matplotlib.pyplot as plt\n",
    "import seaborn as sns\n",
    "from sklearn.feature_extraction.text import TfidfTransformer\n",
    "from sklearn.feature_extraction.text import TfidfVectorizer\n",
    "from sklearn.feature_extraction.text import CountVectorizer\n",
    "from sklearn.metrics import confusion_matrix\n",
    "from sklearn import metrics\n",
    "from sklearn.metrics import roc_curve, auc\n",
    "from sklearn.metrics import roc_auc_score\n"
   ]
  },
  {
   "cell_type": "code",
   "execution_count": 6,
   "metadata": {},
   "outputs": [],
   "source": [
    "final2=final1.sort_values('Time', ascending=True)"
   ]
  },
  {
   "cell_type": "code",
   "execution_count": 7,
   "metadata": {},
   "outputs": [],
   "source": [
    "def partition(x):\n",
    "    if x == 'positive':\n",
    "        return 1\n",
    "    return -1\n",
    "actualScore = final2['Score']\n",
    "positiveNegative = actualScore.map(partition) \n",
    "final2['Score'] = positiveNegative"
   ]
  },
  {
   "cell_type": "code",
   "execution_count": 8,
   "metadata": {},
   "outputs": [],
   "source": [
    "y=final2['Score']"
   ]
  },
  {
   "cell_type": "code",
   "execution_count": 9,
   "metadata": {},
   "outputs": [],
   "source": [
    "final3=final2.tail(40000)\n",
    "y=y.tail(40000)"
   ]
  },
  {
   "cell_type": "code",
   "execution_count": 10,
   "metadata": {},
   "outputs": [
    {
     "data": {
      "text/plain": [
       "(40000, 12)"
      ]
     },
     "execution_count": 10,
     "metadata": {},
     "output_type": "execute_result"
    }
   ],
   "source": [
    "final3.shape"
   ]
  },
  {
   "cell_type": "code",
   "execution_count": 11,
   "metadata": {},
   "outputs": [
    {
     "data": {
      "text/plain": [
       "(40000,)"
      ]
     },
     "execution_count": 11,
     "metadata": {},
     "output_type": "execute_result"
    }
   ],
   "source": [
    "y.shape"
   ]
  },
  {
   "cell_type": "markdown",
   "metadata": {},
   "source": [
    "# TF-IDF "
   ]
  },
  {
   "cell_type": "code",
   "execution_count": 17,
   "metadata": {},
   "outputs": [],
   "source": [
    "from sklearn.model_selection import train_test_split\n",
    "X_train, X_test, y_train, y_test = train_test_split(final3['CleanedText'].values, y, test_size=0.25, shuffle=True)\n",
    "\n"
   ]
  },
  {
   "cell_type": "code",
   "execution_count": 19,
   "metadata": {},
   "outputs": [],
   "source": [
    "tf_idf_vect = TfidfVectorizer()\n",
    "final_tf_idf = tf_idf_vect.fit_transform(X_train)\n"
   ]
  },
  {
   "cell_type": "code",
   "execution_count": 20,
   "metadata": {},
   "outputs": [],
   "source": [
    "final_tf_idf1 = tf_idf_vect.transform(X_test)"
   ]
  },
  {
   "cell_type": "code",
   "execution_count": 21,
   "metadata": {},
   "outputs": [],
   "source": [
    "X_train=final_tf_idf\n",
    "X_test=final_tf_idf1"
   ]
  },
  {
   "cell_type": "markdown",
   "metadata": {},
   "source": [
    "# Gridsearch Cv on TF-IDF"
   ]
  },
  {
   "cell_type": "code",
   "execution_count": 24,
   "metadata": {},
   "outputs": [],
   "source": [
    "from sklearn.grid_search import GridSearchCV\n",
    "from sklearn import svm\n",
    "tuned_parameters = [{'C': [100,10,0.1],'gamma':[0.1,0.01,0.001]}]"
   ]
  },
  {
   "cell_type": "code",
   "execution_count": 25,
   "metadata": {},
   "outputs": [
    {
     "name": "stdout",
     "output_type": "stream",
     "text": [
      "SVC(C=10, cache_size=200, class_weight=None, coef0=0.0,\n",
      "  decision_function_shape='ovr', degree=3, gamma=0.1, kernel='rbf',\n",
      "  max_iter=-1, probability=False, random_state=None, shrinking=True,\n",
      "  tol=0.001, verbose=False)\n"
     ]
    }
   ],
   "source": [
    "model = GridSearchCV(svm.SVC(), tuned_parameters, scoring ='f1_micro', cv=3)\n",
    "model.fit(X_train, y_train)\n",
    "print(model.best_estimator_)"
   ]
  },
  {
   "cell_type": "code",
   "execution_count": 34,
   "metadata": {},
   "outputs": [
    {
     "name": "stdout",
     "output_type": "stream",
     "text": [
      "The Testing accuracy=91.350000\n"
     ]
    }
   ],
   "source": [
    "acc=accuracy_score(y_test,y_pred)*100\n",
    "print('The Testing accuracy=%f'%(acc))"
   ]
  },
  {
   "cell_type": "code",
   "execution_count": 35,
   "metadata": {},
   "outputs": [
    {
     "name": "stdout",
     "output_type": "stream",
     "text": [
      "The Training accuracy=96.846667\n"
     ]
    }
   ],
   "source": [
    "y_pred1=model.predict(X_train)\n",
    "acc=accuracy_score(y_train,y_pred1)*100\n",
    "print('The Training accuracy=%f'%(acc))"
   ]
  },
  {
   "cell_type": "code",
   "execution_count": 27,
   "metadata": {},
   "outputs": [
    {
     "name": "stdout",
     "output_type": "stream",
     "text": [
      "[[8002  279]\n",
      " [ 586 1133]]\n"
     ]
    }
   ],
   "source": [
    "\n",
    "labels=[1,-1]\n",
    "y_pred=model.predict(X_test)\n",
    "print(confusion_matrix(y_test, y_pred,labels))\n"
   ]
  },
  {
   "cell_type": "code",
   "execution_count": 28,
   "metadata": {},
   "outputs": [
    {
     "data": {
      "image/png": "[encoded data removed]",
      "text/plain": [
       "<matplotlib.figure.Figure at 0x1c3a28c3f98>"
      ]
     },
     "metadata": {},
     "output_type": "display_data"
    }
   ],
   "source": [
    "cm = confusion_matrix(y_test, y_pred,labels) \n",
    "\n",
    "# Transform to df for easier plotting\n",
    "cm_df = pd.DataFrame(cm,\n",
    "                     index = ['1','-1'], \n",
    "                     columns = ['1','-1'])\n",
    "\n",
    "plt.figure(figsize=(5.5,4))\n",
    "sns.heatmap(cm_df, annot=True,fmt='d',cmap=plt.cm.Blues)\n",
    "plt.title('SVM RBF Kernel \\nAccuracy:{0:.3f}'.format(accuracy_score(y_test, y_pred)))\n",
    "plt.ylabel('True label')\n",
    "plt.xlabel('Predicted label')\n",
    "plt.show()"
   ]
  },
  {
   "cell_type": "markdown",
   "metadata": {},
   "source": [
    "# Random Search cv For Tf-IDF"
   ]
  },
  {
   "cell_type": "code",
   "execution_count": 37,
   "metadata": {},
   "outputs": [
    {
     "name": "stdout",
     "output_type": "stream",
     "text": [
      "SVC(C=5.564747809813142, cache_size=200, class_weight=None, coef0=0.0,\n",
      "  decision_function_shape='ovr', degree=3, gamma=0.1626603465290195,\n",
      "  kernel='rbf', max_iter=-1, probability=False, random_state=None,\n",
      "  shrinking=True, tol=0.001, verbose=False)\n",
      "0.9138\n"
     ]
    }
   ],
   "source": [
    "from sklearn.model_selection import RandomizedSearchCV\n",
    "from scipy import stats\n",
    "rand_list = {\"C\": stats.uniform(5, 15),\"gamma\": stats.uniform(0.08,0.15)}\n",
    "model=RandomizedSearchCV(svm.SVC(), param_distributions=rand_list, scoring = 'f1_micro', cv=3)\n",
    "model.fit(X_train, y_train)\n",
    "print(model.best_estimator_)\n",
    "print(model.score(X_test, y_test))"
   ]
  },
  {
   "cell_type": "code",
   "execution_count": 38,
   "metadata": {},
   "outputs": [
    {
     "data": {
      "text/plain": [
       "array([[8022,  259],\n",
       "       [ 603, 1116]], dtype=int64)"
      ]
     },
     "execution_count": 38,
     "metadata": {},
     "output_type": "execute_result"
    }
   ],
   "source": [
    "from sklearn.metrics import confusion_matrix\n",
    "y_pred=model.predict(X_test)\n",
    "labels=[1,-1]\n",
    "confusion_matrix(y_test, y_pred,labels)\n"
   ]
  },
  {
   "cell_type": "code",
   "execution_count": 39,
   "metadata": {},
   "outputs": [
    {
     "data": {
      "image/png": "[encoded data removed]",
      "text/plain": [
       "<matplotlib.figure.Figure at 0x1c3a1aa0320>"
      ]
     },
     "metadata": {},
     "output_type": "display_data"
    }
   ],
   "source": [
    "cm = confusion_matrix(y_test, y_pred,labels) \n",
    "\n",
    "# Transform to df for easier plotting\n",
    "cm_df = pd.DataFrame(cm,\n",
    "                     index = ['1','-1'], \n",
    "                     columns = ['1','-1'])\n",
    "\n",
    "plt.figure(figsize=(5.5,4))\n",
    "sns.heatmap(cm_df, annot=True,fmt='d',cmap=plt.cm.Blues)\n",
    "plt.title('SVM RBF Kernel \\nAccuracy:{0:.3f}'.format(accuracy_score(y_test, y_pred)))\n",
    "plt.ylabel('True label')\n",
    "plt.xlabel('Predicted label')\n",
    "plt.show()"
   ]
  },
  {
   "cell_type": "code",
   "execution_count": 40,
   "metadata": {},
   "outputs": [
    {
     "name": "stdout",
     "output_type": "stream",
     "text": [
      "Training accuracy=96.993333\n"
     ]
    }
   ],
   "source": [
    "y_pred1=model.predict(X_train)\n",
    "acc = accuracy_score(y_train, y_pred1) * 100\n",
    "print('Training accuracy=%f' %(acc))"
   ]
  },
  {
   "cell_type": "code",
   "execution_count": 41,
   "metadata": {},
   "outputs": [
    {
     "data": {
      "image/png": "[encoded data removed]",
      "text/plain": [
       "<matplotlib.figure.Figure at 0x1c3a29012b0>"
      ]
     },
     "metadata": {},
     "output_type": "display_data"
    }
   ],
   "source": [
    "label=['Train accuracy','Test accuracy']\n",
    "acc=[91.4,96.99]\n",
    "index = np.arange(len(label))\n",
    "barWidth=0.2\n",
    "\n",
    "plt.bar(index, acc)\n",
    "plt.xlabel('ERROR', fontsize=10)\n",
    "plt.ylabel('percentage ERRORS', fontsize=10)\n",
    "plt.xticks(index, label, fontsize=10, rotation=30)\n",
    "for i in range(len(label)):\n",
    "    plt.text(x=i,y=acc[i],s=acc[i],size=10)\n",
    "plt.title('train and Test Accuracies of TF-IDF using SVM').set_fontsize(20)\n",
    "plt.show()\n",
    "    "
   ]
  },
  {
   "cell_type": "markdown",
   "metadata": {},
   "source": [
    "# BOW"
   ]
  },
  {
   "cell_type": "code",
   "execution_count": 12,
   "metadata": {},
   "outputs": [],
   "source": [
    "from sklearn.model_selection import train_test_split\n",
    "X_train, X_test, y_train, y_test = train_test_split(final3['CleanedText'].values, y, test_size=0.25)"
   ]
  },
  {
   "cell_type": "code",
   "execution_count": 13,
   "metadata": {},
   "outputs": [],
   "source": [
    "count_vect = CountVectorizer() #in scikit-learn\n",
    "final_counts = count_vect.fit_transform(X_train)\n",
    "final_counts1=count_vect.transform(X_test)"
   ]
  },
  {
   "cell_type": "code",
   "execution_count": 14,
   "metadata": {},
   "outputs": [],
   "source": [
    "X_train=final_counts\n",
    "X_test=final_counts1"
   ]
  },
  {
   "cell_type": "markdown",
   "metadata": {},
   "source": [
    "# Gridsearch cv on BOW"
   ]
  },
  {
   "cell_type": "code",
   "execution_count": 49,
   "metadata": {},
   "outputs": [],
   "source": [
    "from sklearn.model_selection import train_test_split\n",
    "from sklearn.grid_search import GridSearchCV\n",
    "from sklearn import svm\n",
    "tuned_parameters = [{'C': [100,10,0.1],'gamma':[0.1,0.01,0.001]}]\n"
   ]
  },
  {
   "cell_type": "code",
   "execution_count": 50,
   "metadata": {},
   "outputs": [
    {
     "name": "stdout",
     "output_type": "stream",
     "text": [
      "SVC(C=10, cache_size=200, class_weight=None, coef0=0.0,\n",
      "  decision_function_shape='ovr', degree=3, gamma=0.01, kernel='rbf',\n",
      "  max_iter=-1, probability=False, random_state=None, shrinking=True,\n",
      "  tol=0.001, verbose=False)\n"
     ]
    }
   ],
   "source": [
    "model = GridSearchCV(svm.SVC(), tuned_parameters, scoring = 'f1_micro', cv=3)\n",
    "model.fit(X_train, y_train)\n",
    "print(model.best_estimator_)\n"
   ]
  },
  {
   "cell_type": "code",
   "execution_count": 51,
   "metadata": {},
   "outputs": [
    {
     "data": {
      "text/plain": [
       "array([[7953,  262],\n",
       "       [ 654, 1131]], dtype=int64)"
      ]
     },
     "execution_count": 51,
     "metadata": {},
     "output_type": "execute_result"
    }
   ],
   "source": [
    "from sklearn.metrics import confusion_matrix\n",
    "y_pred=model.predict(X_test)\n",
    "labels=[1,-1]\n",
    "confusion_matrix(y_test, y_pred,labels)"
   ]
  },
  {
   "cell_type": "code",
   "execution_count": 53,
   "metadata": {},
   "outputs": [
    {
     "name": "stdout",
     "output_type": "stream",
     "text": [
      "The Training accuracy=99.253333\n"
     ]
    }
   ],
   "source": [
    "y_pred1=model.predict(X_train)\n",
    "acc=accuracy_score(y_train,y_pred1)*100\n",
    "print('The Training accuracy=%f'%(acc))"
   ]
  },
  {
   "cell_type": "code",
   "execution_count": 52,
   "metadata": {},
   "outputs": [
    {
     "data": {
      "image/png": "[encoded data removed]",
      "text/plain": [
       "<matplotlib.figure.Figure at 0x1c3a1aa3dd8>"
      ]
     },
     "metadata": {},
     "output_type": "display_data"
    }
   ],
   "source": [
    "cm = confusion_matrix(y_test, y_pred,labels) \n",
    "\n",
    "# Transform to df for easier plotting\n",
    "cm_df = pd.DataFrame(cm,\n",
    "                     index = ['1','-1'], \n",
    "                     columns = ['1','-1'])\n",
    "\n",
    "plt.figure(figsize=(5.5,4))\n",
    "sns.heatmap(cm_df, annot=True,fmt='d',cmap=plt.cm.Blues)\n",
    "plt.title('SVM Linear Kernel \\nAccuracy:{0:.3f}'.format(accuracy_score(y_test, y_pred)))\n",
    "plt.ylabel('True label')\n",
    "plt.xlabel('Predicted label')\n",
    "plt.show()"
   ]
  },
  {
   "cell_type": "code",
   "execution_count": 5,
   "metadata": {},
   "outputs": [
    {
     "data": {
      "image/png": "[encoded data removed]",
      "text/plain": [
       "<matplotlib.figure.Figure at 0x1ebe953f860>"
      ]
     },
     "metadata": {},
     "output_type": "display_data"
    }
   ],
   "source": [
    "label=['Train accuracy','Test accuracy']\n",
    "acc=[99.253,90.8]\n",
    "index = np.arange(len(label))\n",
    "barWidth=0.2\n",
    "\n",
    "plt.bar(index, acc)\n",
    "plt.xlabel('ERROR', fontsize=10)\n",
    "plt.ylabel('percentage ERRORS', fontsize=10)\n",
    "plt.xticks(index, label, fontsize=10, rotation=30)\n",
    "for i in range(len(label)):\n",
    "    plt.text(x=i,y=acc[i],s=acc[i],size=10)\n",
    "plt.title('train and Test Accuracies of BOW using SVM').set_fontsize(20)\n",
    "plt.show()"
   ]
  },
  {
   "cell_type": "markdown",
   "metadata": {},
   "source": [
    "# Random  Search Cv on BOW"
   ]
  },
  {
   "cell_type": "code",
   "execution_count": 15,
   "metadata": {},
   "outputs": [
    {
     "name": "stdout",
     "output_type": "stream",
     "text": [
      "SVC(C=17.529109653013705, cache_size=200, class_weight=None, coef0=0.0,\n",
      "  decision_function_shape='ovr', degree=3, gamma=0.004984440518443675,\n",
      "  kernel='rbf', max_iter=-1, probability=False, random_state=None,\n",
      "  shrinking=True, tol=0.001, verbose=False)\n"
     ]
    }
   ],
   "source": [
    "from sklearn.model_selection import RandomizedSearchCV\n",
    "from scipy import stats\n",
    "from sklearn import svm\n",
    "rand_list = {\"C\": stats.uniform(8,10),\"gamma\": stats.uniform(0.001,0.07)}\n",
    "model=RandomizedSearchCV(svm.SVC(), param_distributions=rand_list, scoring = 'f1_micro', cv=3,n_jobs=-1)\n",
    "model.fit(X_train, y_train)\n",
    "print(model.best_estimator_)\n"
   ]
  },
  {
   "cell_type": "code",
   "execution_count": 21,
   "metadata": {},
   "outputs": [
    {
     "name": "stdout",
     "output_type": "stream",
     "text": [
      "[[7939  334]\n",
      " [ 521 1206]]\n",
      "\n",
      "The Testing accuracy of the SVM classifier= 91.450000 \n"
     ]
    }
   ],
   "source": [
    "y_pred=model.predict(X_test)\n",
    "labels=[1,-1]\n",
    "print(confusion_matrix(y_test, y_pred,labels))\n",
    "acc = accuracy_score(y_test, y_pred) * 100\n",
    "print('\\nThe Testing accuracy of the SVM classifier= %f ' % (acc))"
   ]
  },
  {
   "cell_type": "code",
   "execution_count": 18,
   "metadata": {},
   "outputs": [
    {
     "name": "stdout",
     "output_type": "stream",
     "text": [
      "Training accuracy=0.985733\n"
     ]
    }
   ],
   "source": [
    "y_pred1=model.predict(X_train)\n",
    "acc=accuracy_score(y_train,y_pred1)\n",
    "print('Training accuracy=%f'%(acc))"
   ]
  },
  {
   "cell_type": "code",
   "execution_count": 19,
   "metadata": {},
   "outputs": [
    {
     "data": {
      "image/png": "[encoded data removed]",
      "text/plain": [
       "<matplotlib.figure.Figure at 0x2640b7af630>"
      ]
     },
     "metadata": {},
     "output_type": "display_data"
    }
   ],
   "source": [
    "cm = confusion_matrix(y_test, y_pred,labels) \n",
    "\n",
    "# Transform to df for easier plotting\n",
    "cm_df = pd.DataFrame(cm,\n",
    "                     index = ['1','-1'], \n",
    "                     columns = ['1','-1'])\n",
    "\n",
    "plt.figure(figsize=(5.5,4))\n",
    "sns.heatmap(cm_df, annot=True,fmt='d',cmap=plt.cm.Blues)\n",
    "plt.title('SVM RBF Kernel \\nAccuracy:{0:.3f}'.format(accuracy_score(y_test, y_pred)))\n",
    "plt.ylabel('True label')\n",
    "plt.xlabel('Predicted label')\n",
    "plt.show()"
   ]
  },
  {
   "cell_type": "code",
   "execution_count": 20,
   "metadata": {},
   "outputs": [
    {
     "data": {
      "image/png": "[encoded data removed]",
      "text/plain": [
       "<matplotlib.figure.Figure at 0x26412725be0>"
      ]
     },
     "metadata": {},
     "output_type": "display_data"
    }
   ],
   "source": [
    "label=['Train accuracy','Test accuracy']\n",
    "acc=[98.57,91.4]\n",
    "index = np.arange(len(label))\n",
    "barWidth=0.2\n",
    "\n",
    "plt.bar(index, acc)\n",
    "plt.xlabel('Accuracy', fontsize=10)\n",
    "plt.ylabel('percentage Accuracy', fontsize=10)\n",
    "plt.xticks(index, label, fontsize=10, rotation=30)\n",
    "for i in range(len(label)):\n",
    "    plt.text(x=i,y=acc[i],s=acc[i],size=10)\n",
    "plt.title('train and Test Accuracies of BOW using SVM').set_fontsize(20)\n",
    "plt.show()"
   ]
  },
  {
   "cell_type": "markdown",
   "metadata": {},
   "source": [
    "# W2V"
   ]
  },
  {
   "cell_type": "code",
   "execution_count": 12,
   "metadata": {},
   "outputs": [],
   "source": [
    "import gensim\n",
    "from gensim.models import Word2Vec\n",
    "from gensim.models import KeyedVectors\n",
    "import pickle"
   ]
  },
  {
   "cell_type": "code",
   "execution_count": 13,
   "metadata": {},
   "outputs": [
    {
     "name": "stdout",
     "output_type": "stream",
     "text": [
      "[nltk_data] Downloading package stopwords to\n",
      "[nltk_data]     C:\\Users\\Mayur\\AppData\\Roaming\\nltk_data...\n",
      "[nltk_data]   Package stopwords is already up-to-date!\n",
      "************************************\n",
      "tasti\n"
     ]
    }
   ],
   "source": [
    "import re\n",
    "# Tutorial about Python regular expressions: https://pymotw.com/2/re/\n",
    "import string\n",
    "import nltk\n",
    "nltk.download('stopwords')\n",
    "from nltk.corpus import stopwords\n",
    "from nltk.stem import PorterStemmer\n",
    "from nltk.stem.wordnet import WordNetLemmatizer\n",
    "\n",
    "#stop = set(stopwords.words('english')) #set of stopwords\n",
    "sno = nltk.stem.SnowballStemmer('english') #initialising the snowball stemmer\n",
    "\n",
    "def cleanhtml(sentence): #function to clean the word of any html-tags\n",
    "    cleanr = re.compile('<.*?>')\n",
    "    cleantext = re.sub(cleanr, ' ', sentence)\n",
    "    return cleantext\n",
    "def cleanpunc(sentence): #function to clean the word of any punctuation or special characters\n",
    "    cleaned = re.sub(r'[?|!|\\'|\"|#]',r'',sentence)\n",
    "    cleaned = re.sub(r'[.|,|)|(|\\|/]',r' ',cleaned)\n",
    "    return  cleaned\n",
    "#print(stop)\n",
    "print('************************************')\n",
    "print(sno.stem('tasty'))"
   ]
  },
  {
   "cell_type": "code",
   "execution_count": 14,
   "metadata": {},
   "outputs": [],
   "source": [
    "i=0\n",
    "list_of_sent=[]\n",
    "for sent in final3['Text'].values:\n",
    "    filtered_sentence=[]\n",
    "    sent=cleanhtml(sent)\n",
    "    for w in sent.split():\n",
    "        for cleaned_words in cleanpunc(w).split():\n",
    "            if(cleaned_words.isalpha()):    \n",
    "                filtered_sentence.append(sno.stem(cleaned_words.lower()))\n",
    "            else:\n",
    "                continue \n",
    "    list_of_sent.append(filtered_sentence)"
   ]
  },
  {
   "cell_type": "code",
   "execution_count": 15,
   "metadata": {},
   "outputs": [
    {
     "data": {
      "text/plain": [
       "40000"
      ]
     },
     "execution_count": 15,
     "metadata": {},
     "output_type": "execute_result"
    }
   ],
   "source": [
    "len(list_of_sent)"
   ]
  },
  {
   "cell_type": "code",
   "execution_count": 16,
   "metadata": {},
   "outputs": [],
   "source": [
    "from sklearn.model_selection import train_test_split\n",
    "X_train, X_test, y_train, y_test = train_test_split(list_of_sent, y, test_size=0.25, random_state=42)\n"
   ]
  },
  {
   "cell_type": "code",
   "execution_count": 17,
   "metadata": {},
   "outputs": [],
   "source": [
    "w2v_model=gensim.models.Word2Vec(X_train,min_count=5,size=300, workers=4) "
   ]
  },
  {
   "cell_type": "code",
   "execution_count": 18,
   "metadata": {},
   "outputs": [
    {
     "name": "stdout",
     "output_type": "stream",
     "text": [
      "30000\n",
      "300\n"
     ]
    }
   ],
   "source": [
    "sent_vectors = []; # the avg-w2v for each sentence/review is stored in this list\n",
    "for sent in X_train: # for each review/sentence\n",
    "    sent_vec = np.zeros(300) # as word vectors are of zero length\n",
    "    cnt_words =0; # num of words with a valid vector in the sentence/review\n",
    "    for word in sent: # for each word in a review/sentence\n",
    "        try:\n",
    "            vec = w2v_model.wv[word]\n",
    "            sent_vec += vec\n",
    "            cnt_words += 1\n",
    "        except:\n",
    "            pass\n",
    "    sent_vec /= cnt_words\n",
    "    sent_vectors.append(sent_vec)\n",
    "print(len(sent_vectors))\n",
    "print(len(sent_vectors[0]))"
   ]
  },
  {
   "cell_type": "code",
   "execution_count": 19,
   "metadata": {},
   "outputs": [],
   "source": [
    "import numpy as np\n",
    "myarray = np.asarray(sent_vectors)\n",
    "X_train=myarray"
   ]
  },
  {
   "cell_type": "code",
   "execution_count": 20,
   "metadata": {},
   "outputs": [
    {
     "name": "stdout",
     "output_type": "stream",
     "text": [
      "10000\n",
      "300\n"
     ]
    }
   ],
   "source": [
    "sent_vectors = []; # the avg-w2v for each sentence/review is stored in this list\n",
    "for sent in X_test: # for each review/sentence\n",
    "    sent_vec = np.zeros(300) # as word vectors are of zero length\n",
    "    cnt_words =0; # num of words with a valid vector in the sentence/review\n",
    "    for word in sent: # for each word in a review/sentence\n",
    "        try:\n",
    "            vec = w2v_model.wv[word]\n",
    "            sent_vec += vec\n",
    "            cnt_words += 1\n",
    "        except:\n",
    "            pass\n",
    "    sent_vec /= cnt_words\n",
    "    sent_vectors.append(sent_vec)\n",
    "print(len(sent_vectors))\n",
    "print(len(sent_vectors[0]))"
   ]
  },
  {
   "cell_type": "code",
   "execution_count": 21,
   "metadata": {},
   "outputs": [],
   "source": [
    "import numpy as np\n",
    "myarray1= np.asarray(sent_vectors)\n",
    "X_test=myarray1"
   ]
  },
  {
   "cell_type": "code",
   "execution_count": 24,
   "metadata": {},
   "outputs": [
    {
     "data": {
      "text/plain": [
       "numpy.ndarray"
      ]
     },
     "execution_count": 24,
     "metadata": {},
     "output_type": "execute_result"
    }
   ],
   "source": [
    "from sklearn.preprocessing import Imputer\n",
    "impute=Imputer(strategy='mean')\n",
    "impute.fit(X_train)\n",
    "w2v=impute.transform(X_train)\n",
    "type(w2v)\n"
   ]
  },
  {
   "cell_type": "markdown",
   "metadata": {},
   "source": [
    "# C and gamma value find using gridsearch cv"
   ]
  },
  {
   "cell_type": "code",
   "execution_count": 31,
   "metadata": {},
   "outputs": [],
   "source": [
    "from sklearn.grid_search import GridSearchCV\n",
    "from sklearn import svm\n",
    "tuned_parameters = [{'C': [100,10,1,0.1],'gamma':[0.1,0.01,0.001,0.0001]}]\n"
   ]
  },
  {
   "cell_type": "code",
   "execution_count": 32,
   "metadata": {},
   "outputs": [
    {
     "name": "stdout",
     "output_type": "stream",
     "text": [
      "SVC(C=100, cache_size=200, class_weight=None, coef0=0.0,\n",
      "  decision_function_shape='ovr', degree=3, gamma=0.01, kernel='rbf',\n",
      "  max_iter=-1, probability=False, random_state=None, shrinking=True,\n",
      "  tol=0.001, verbose=False)\n",
      "0.8968\n"
     ]
    }
   ],
   "source": [
    "model = GridSearchCV(svm.SVC(), tuned_parameters, scoring = 'f1_micro', cv=3,n_jobs=-1)\n",
    "model.fit(w2v, y_train)\n",
    "print(model.best_estimator_)\n",
    "print(model.score(X_test, y_test))"
   ]
  },
  {
   "cell_type": "code",
   "execution_count": 33,
   "metadata": {},
   "outputs": [
    {
     "name": "stdout",
     "output_type": "stream",
     "text": [
      "[[8067  257]\n",
      " [ 775  901]]\n",
      "\n",
      "The accuracy of the SVM with rbf kernel is 89.680000%\n"
     ]
    }
   ],
   "source": [
    "\n",
    "labels=[1,-1]\n",
    "y_pred=model.predict(X_test)\n",
    "print(confusion_matrix(y_test, y_pred,labels))\n",
    "acc = accuracy_score(y_test, y_pred) * 100\n",
    "print('\\nThe accuracy of the SVM with rbf kernel is %f%%' % (acc))"
   ]
  },
  {
   "cell_type": "code",
   "execution_count": 35,
   "metadata": {},
   "outputs": [
    {
     "name": "stdout",
     "output_type": "stream",
     "text": [
      "The Training accuracy=90.653333\n"
     ]
    }
   ],
   "source": [
    "y_pred1=model.predict(w2v)\n",
    "acc=accuracy_score(y_train,y_pred1)*100\n",
    "print('The Training accuracy=%f'%(acc))"
   ]
  },
  {
   "cell_type": "code",
   "execution_count": 34,
   "metadata": {},
   "outputs": [
    {
     "data": {
      "image/png": "[encoded data removed]",
      "text/plain": [
       "<matplotlib.figure.Figure at 0x1c9c3d439e8>"
      ]
     },
     "metadata": {},
     "output_type": "display_data"
    }
   ],
   "source": [
    "cm = confusion_matrix(y_test, y_pred,labels) \n",
    "\n",
    "# Transform to df for easier plotting\n",
    "cm_df = pd.DataFrame(cm,\n",
    "                     index = ['1','-1'], \n",
    "                     columns = ['1','-1'])\n",
    "\n",
    "plt.figure(figsize=(5.5,4))\n",
    "sns.heatmap(cm_df, annot=True,fmt='d',cmap=plt.cm.Blues)\n",
    "plt.title('SVM RBF Kernel \\nAccuracy:{0:.3f}'.format(accuracy_score(y_test, y_pred)))\n",
    "plt.ylabel('True label')\n",
    "plt.xlabel('Predicted label')\n",
    "plt.show()"
   ]
  },
  {
   "cell_type": "code",
   "execution_count": 36,
   "metadata": {},
   "outputs": [
    {
     "data": {
      "image/png": "[encoded data removed]",
      "text/plain": [
       "<matplotlib.figure.Figure at 0x1c9840f1208>"
      ]
     },
     "metadata": {},
     "output_type": "display_data"
    }
   ],
   "source": [
    "label=['Train accuracy','Test accuracy']\n",
    "acc=[90.6533,89.7]\n",
    "index = np.arange(len(label))\n",
    "barWidth=0.2\n",
    "\n",
    "plt.bar(index, acc)\n",
    "plt.xlabel('Accuracies', fontsize=10)\n",
    "plt.ylabel('percentage Accuracy', fontsize=10)\n",
    "plt.xticks(index, label, fontsize=10, rotation=30)\n",
    "for i in range(len(label)):\n",
    "    plt.text(x=i,y=acc[i],s=acc[i],size=10)\n",
    "plt.title('train and Test Accuracies of W2v using SVM').set_fontsize(20)\n",
    "plt.show()"
   ]
  },
  {
   "cell_type": "markdown",
   "metadata": {},
   "source": [
    "# Randomised Search cv on w2v"
   ]
  },
  {
   "cell_type": "code",
   "execution_count": 26,
   "metadata": {},
   "outputs": [
    {
     "name": "stdout",
     "output_type": "stream",
     "text": [
      "SVC(C=100.07991801198365, cache_size=200, class_weight=None, coef0=0.0,\n",
      "  decision_function_shape='ovr', degree=3, gamma=0.01361577299434754,\n",
      "  kernel='rbf', max_iter=-1, probability=False, random_state=None,\n",
      "  shrinking=True, tol=0.001, verbose=False)\n",
      "0.8965\n"
     ]
    }
   ],
   "source": [
    "from sklearn.model_selection import RandomizedSearchCV\n",
    "from scipy import stats\n",
    "from sklearn import svm\n",
    "rand_list = {\"C\": stats.uniform(99,2),\"gamma\": stats.uniform(0.005,0.009)}\n",
    "model=RandomizedSearchCV(svm.SVC(), param_distributions=rand_list, scoring = 'f1_micro', cv=3,n_jobs=-1)\n",
    "model.fit(w2v, y_train)\n",
    "print(model.best_estimator_)\n",
    "print(model.score(X_test, y_test))"
   ]
  },
  {
   "cell_type": "code",
   "execution_count": 28,
   "metadata": {},
   "outputs": [
    {
     "name": "stdout",
     "output_type": "stream",
     "text": [
      "[[8048  276]\n",
      " [ 759  917]]\n",
      "\n",
      "The accuracy of SVM=89.650000%\n"
     ]
    }
   ],
   "source": [
    "labels=[1,-1]\n",
    "y_pred=model.predict(X_test)\n",
    "print(confusion_matrix(y_test, y_pred, labels))\n",
    "acc = accuracy_score(y_test, y_pred) * 100\n",
    "print('\\nThe accuracy of SVM=%f%%' % ( acc))"
   ]
  },
  {
   "cell_type": "code",
   "execution_count": 29,
   "metadata": {},
   "outputs": [
    {
     "data": {
      "image/png": "[encoded data removed]",
      "text/plain": [
       "<matplotlib.figure.Figure at 0x15e07cd2f60>"
      ]
     },
     "metadata": {},
     "output_type": "display_data"
    }
   ],
   "source": [
    "cm = confusion_matrix(y_test, y_pred,labels) \n",
    "\n",
    "# Transform to df for easier plotting\n",
    "cm_df = pd.DataFrame(cm,\n",
    "                     index = ['1','-1'], \n",
    "                     columns = ['1','-1'])\n",
    "\n",
    "plt.figure(figsize=(5.5,4))\n",
    "sns.heatmap(cm_df, annot=True,fmt='d',cmap=plt.cm.Blues)\n",
    "plt.title('SVM RBF Kernel \\nAccuracy:{0:.3f}'.format(accuracy_score(y_test, y_pred)))\n",
    "plt.ylabel('True label')\n",
    "plt.xlabel('Predicted label')\n",
    "plt.show()"
   ]
  },
  {
   "cell_type": "code",
   "execution_count": 30,
   "metadata": {},
   "outputs": [
    {
     "name": "stdout",
     "output_type": "stream",
     "text": [
      "The Training Accuracy=0.911800\n"
     ]
    }
   ],
   "source": [
    "y_pred=model.predict(w2v)\n",
    "acc=accuracy_score(y_train,y_pred)\n",
    "print('The Training Accuracy=%f' %(acc))"
   ]
  },
  {
   "cell_type": "code",
   "execution_count": 31,
   "metadata": {},
   "outputs": [
    {
     "data": {
      "image/png": "[encoded data removed]",
      "text/plain": [
       "<matplotlib.figure.Figure at 0x15e0bd6aba8>"
      ]
     },
     "metadata": {},
     "output_type": "display_data"
    }
   ],
   "source": [
    "label=['Train accuracy','Test accuracy']\n",
    "acc=[91.18,89.6]\n",
    "index = np.arange(len(label))\n",
    "barWidth=0.2\n",
    "\n",
    "plt.bar(index, acc)\n",
    "plt.xlabel('Accuracies', fontsize=10)\n",
    "plt.ylabel('percentage Accuracy', fontsize=10)\n",
    "plt.xticks(index, label, fontsize=10, rotation=30)\n",
    "for i in range(len(label)):\n",
    "    plt.text(x=i,y=acc[i],s=acc[i],size=10)\n",
    "plt.title('train and Test Accuracies of W2v using SVM').set_fontsize(20)\n",
    "plt.show()"
   ]
  },
  {
   "cell_type": "markdown",
   "metadata": {},
   "source": [
    "# Tf-IDF-W2V"
   ]
  },
  {
   "cell_type": "code",
   "execution_count": 16,
   "metadata": {},
   "outputs": [
    {
     "data": {
      "text/plain": [
       "scipy.sparse.csr.csr_matrix"
      ]
     },
     "execution_count": 16,
     "metadata": {},
     "output_type": "execute_result"
    }
   ],
   "source": [
    "tf_idf_vect = TfidfVectorizer()\n",
    "final_tf_idf = tf_idf_vect.fit_transform(final3['CleanedText'].values)\n",
    "type(final_tf_idf)"
   ]
  },
  {
   "cell_type": "code",
   "execution_count": 17,
   "metadata": {},
   "outputs": [
    {
     "data": {
      "text/plain": [
       "(40000, 24033)"
      ]
     },
     "execution_count": 17,
     "metadata": {},
     "output_type": "execute_result"
    }
   ],
   "source": [
    "final_tf_idf.shape"
   ]
  },
  {
   "cell_type": "code",
   "execution_count": 18,
   "metadata": {},
   "outputs": [],
   "source": [
    "w2v_model=gensim.models.Word2Vec(list_of_sent,min_count=5,size=300, workers=4) "
   ]
  },
  {
   "cell_type": "code",
   "execution_count": 19,
   "metadata": {},
   "outputs": [],
   "source": [
    "tfidf_feat = tf_idf_vect.get_feature_names()\n",
    "tfidf_sent_vectors = []; # the tfidf-w2v for each sentence/review is stored in this list\n",
    "row=0;\n",
    "for sent in list_of_sent: # for each review/sentence\n",
    "    sent_vec = np.zeros(300) # as word vectors are of zero length\n",
    "    weight_sum =0; # num of words with a valid vector in the sentence/review\n",
    "    for word in sent: # for each word in a review/sentence\n",
    "        try:\n",
    "            vec = w2v_model.wv[word]\n",
    "            # obtain the tf_idfidf of a word in a sentence/review\n",
    "            tfidf = final_tf_idf[row,tfidf_feat.index(word)]\n",
    "            sent_vec += (vec * tfidf)\n",
    "            weight_sum += tfidf\n",
    "        except:\n",
    "            pass\n",
    "    #print(weight_sum)\n",
    "    sent_vec /= (weight_sum)\n",
    "    tfidf_sent_vectors.append(sent_vec)\n",
    "    row += 1"
   ]
  },
  {
   "cell_type": "code",
   "execution_count": 20,
   "metadata": {},
   "outputs": [],
   "source": [
    "tfidf_w2v=np.asarray(tfidf_sent_vectors)"
   ]
  },
  {
   "cell_type": "code",
   "execution_count": 21,
   "metadata": {},
   "outputs": [
    {
     "data": {
      "text/plain": [
       "(40000, 300)"
      ]
     },
     "execution_count": 21,
     "metadata": {},
     "output_type": "execute_result"
    }
   ],
   "source": [
    "tfidf_w2v.shape"
   ]
  },
  {
   "cell_type": "code",
   "execution_count": 23,
   "metadata": {},
   "outputs": [],
   "source": [
    "from sklearn.preprocessing import Imputer\n",
    "impute=Imputer(strategy='mean')\n",
    "impute.fit(tfidf_w2v)\n",
    "tfidf_w2v1=impute.transform(tfidf_w2v)\n"
   ]
  },
  {
   "cell_type": "code",
   "execution_count": 36,
   "metadata": {},
   "outputs": [],
   "source": [
    "from sklearn.model_selection import train_test_split\n",
    "from sklearn.grid_search import GridSearchCV\n",
    "from sklearn import svm\n",
    "tuned_parameters = [{'C': [1000,100,10,1],'gamma':[0.1,0.01,0.001,0.0001]}]\n",
    "X_train, X_test, y_train, y_test = train_test_split(tfidf_w2v1, y, train_size=0.75)"
   ]
  },
  {
   "cell_type": "markdown",
   "metadata": {},
   "source": [
    "# C and gamma Value using grid Search cv"
   ]
  },
  {
   "cell_type": "code",
   "execution_count": 25,
   "metadata": {},
   "outputs": [
    {
     "name": "stdout",
     "output_type": "stream",
     "text": [
      "SVC(C=100, cache_size=200, class_weight=None, coef0=0.0,\n",
      "  decision_function_shape='ovr', degree=3, gamma=0.01, kernel='rbf',\n",
      "  max_iter=-1, probability=False, random_state=None, shrinking=True,\n",
      "  tol=0.001, verbose=False)\n",
      "0.8914\n"
     ]
    }
   ],
   "source": [
    "model = GridSearchCV(svm.SVC(), tuned_parameters, scoring = 'f1_micro', cv=3)\n",
    "model.fit(X_train, y_train)\n",
    "print(model.best_estimator_)\n",
    "print(model.score(X_test, y_test))"
   ]
  },
  {
   "cell_type": "code",
   "execution_count": 27,
   "metadata": {},
   "outputs": [
    {
     "name": "stdout",
     "output_type": "stream",
     "text": [
      "[[7912  332]\n",
      " [ 754 1002]]\n",
      "\n",
      "The accuracy of the SVM classifier is 89.140000%\n"
     ]
    }
   ],
   "source": [
    "from sklearn.metrics import confusion_matrix\n",
    "from sklearn.metrics import accuracy_score\n",
    "labels=[1,-1]\n",
    "y_pred=model.predict(X_test)\n",
    "print(confusion_matrix(y_test, y_pred,labels))\n",
    "acc = accuracy_score(y_test, y_pred) * 100\n",
    "print('\\nThe accuracy of the SVM classifier is %f%%' % ( acc))"
   ]
  },
  {
   "cell_type": "code",
   "execution_count": 29,
   "metadata": {},
   "outputs": [
    {
     "name": "stdout",
     "output_type": "stream",
     "text": [
      "The Training Accuracy=0.930067\n"
     ]
    }
   ],
   "source": [
    "y_pred=model.predict(X_train)\n",
    "acc=accuracy_score(y_train,y_pred)\n",
    "print('The Training Accuracy=%f' %(acc))"
   ]
  },
  {
   "cell_type": "code",
   "execution_count": 28,
   "metadata": {},
   "outputs": [
    {
     "data": {
      "image/png": "[encoded data removed]",
      "text/plain": [
       "<matplotlib.figure.Figure at 0x273a165f5c0>"
      ]
     },
     "metadata": {},
     "output_type": "display_data"
    }
   ],
   "source": [
    "cm = confusion_matrix(y_test, y_pred,labels) \n",
    "\n",
    "# Transform to df for easier plotting\n",
    "cm_df = pd.DataFrame(cm,\n",
    "                     index = ['1','-1'], \n",
    "                     columns = ['1','-1'])\n",
    "\n",
    "plt.figure(figsize=(5.5,4))\n",
    "sns.heatmap(cm_df, annot=True,fmt='d',cmap=plt.cm.Blues)\n",
    "plt.title('SVM RBF Kernel  \\nAccuracy:{0:.3f}'.format(accuracy_score(y_test, y_pred)))\n",
    "plt.ylabel('True label')\n",
    "plt.xlabel('Predicted label')\n",
    "plt.show()"
   ]
  },
  {
   "cell_type": "code",
   "execution_count": 30,
   "metadata": {},
   "outputs": [
    {
     "data": {
      "image/png": "[encoded data removed]",
      "text/plain": [
       "<matplotlib.figure.Figure at 0x273cfb4cac8>"
      ]
     },
     "metadata": {},
     "output_type": "display_data"
    }
   ],
   "source": [
    "label=['Train accuracy','Test accuracy']\n",
    "acc=[93,89.14]\n",
    "index = np.arange(len(label))\n",
    "barWidth=0.2\n",
    "\n",
    "plt.bar(index, acc)\n",
    "plt.xlabel('Accuracies', fontsize=10)\n",
    "plt.ylabel('percentage Accuracy', fontsize=10)\n",
    "plt.xticks(index, label, fontsize=10, rotation=30)\n",
    "for i in range(len(label)):\n",
    "    plt.text(x=i,y=acc[i],s=acc[i],size=10)\n",
    "plt.title('train and Test Accuracies of W2v using SVM').set_fontsize(20)\n",
    "plt.show()"
   ]
  },
  {
   "cell_type": "markdown",
   "metadata": {},
   "source": [
    "# Randomised Search cv for TfIdf-w2v"
   ]
  },
  {
   "cell_type": "code",
   "execution_count": 45,
   "metadata": {},
   "outputs": [
    {
     "name": "stdout",
     "output_type": "stream",
     "text": [
      "SVC(C=99.68247914572879, cache_size=200, class_weight=None, coef0=0.0,\n",
      "  decision_function_shape='ovr', degree=3, gamma=0.054135799998552274,\n",
      "  kernel='rbf', max_iter=-1, probability=False, random_state=None,\n",
      "  shrinking=True, tol=0.001, verbose=False)\n",
      "0.8716666666666667\n"
     ]
    }
   ],
   "source": [
    "from sklearn.model_selection import RandomizedSearchCV\n",
    "from scipy import stats\n",
    "rand_list = {\"C\": stats.uniform(99,2),\"gamma\": stats.uniform(0.05,0.09)}\n",
    "model=RandomizedSearchCV(svm.SVC(), param_distributions=rand_list, scoring = 'f1_micro', cv=3)\n",
    "model.fit(X_train, y_train)\n",
    "print(model.best_estimator_)\n",
    "print(model.score(X_test, y_test))"
   ]
  },
  {
   "cell_type": "code",
   "execution_count": 32,
   "metadata": {},
   "outputs": [
    {
     "data": {
      "image/png": "[encoded data removed]",
      "text/plain": [
       "<matplotlib.figure.Figure at 0x273cfc427b8>"
      ]
     },
     "metadata": {},
     "output_type": "display_data"
    }
   ],
   "source": [
    "labels=[1,-1]\n",
    "cm = confusion_matrix(y_test, y_pred,labels) \n",
    "\n",
    "# Transform to df for easier plotting\n",
    "cm_df = pd.DataFrame(cm,\n",
    "                     index = ['1','-1'], \n",
    "                     columns = ['1','-1'])\n",
    "\n",
    "plt.figure(figsize=(5.5,4))\n",
    "sns.heatmap(cm_df, annot=True,fmt='d',cmap=plt.cm.Blues)\n",
    "plt.title('SVM RBF Kernel \\nAccuracy:{0:.3f}'.format(accuracy_score(y_test, y_pred)))\n",
    "plt.ylabel('True label')\n",
    "plt.xlabel('Predicted label')\n",
    "plt.show()"
   ]
  },
  {
   "cell_type": "code",
   "execution_count": 33,
   "metadata": {},
   "outputs": [
    {
     "name": "stdout",
     "output_type": "stream",
     "text": [
      "Training accuracy of random search cv is =99.556667\n"
     ]
    }
   ],
   "source": [
    "y_pred1=model.predict(X_train)\n",
    "acc=accuracy_score(y_train,y_pred1)*100\n",
    "print('Training accuracy of random search cv is =%f' %(acc))"
   ]
  },
  {
   "cell_type": "code",
   "execution_count": 34,
   "metadata": {},
   "outputs": [
    {
     "data": {
      "image/png": "[encoded data removed]",
      "text/plain": [
       "<matplotlib.figure.Figure at 0x273e1aa77b8>"
      ]
     },
     "metadata": {},
     "output_type": "display_data"
    }
   ],
   "source": [
    "label=['Train accuracy','Test accuracy']\n",
    "acc=[99.55,87]\n",
    "index = np.arange(len(label))\n",
    "barWidth=0.2\n",
    "\n",
    "plt.bar(index, acc)\n",
    "plt.xlabel('Accuracies', fontsize=10)\n",
    "plt.ylabel('percentage Accuracy', fontsize=10)\n",
    "plt.xticks(index, label, fontsize=10, rotation=30)\n",
    "for i in range(len(label)):\n",
    "    plt.text(x=i,y=acc[i],s=acc[i],size=10)\n",
    "plt.title('train and Test Accuracies of tfidf-W2v using SVM').set_fontsize(20)\n",
    "plt.show()"
   ]
  },
  {
   "cell_type": "markdown",
   "metadata": {},
   "source": [
    "# Conclusion Of SVM using RBF Kernel:\n",
    "\n",
    "1. Optimal C and Gamma value , Accuracy and  shown below:-"
   ]
  },
  {
   "cell_type": "code",
   "execution_count": 37,
   "metadata": {},
   "outputs": [
    {
     "data": {
      "text/html": [
       "<table class=\"toyplot-data-Table\" style=\"border-collapse:collapse; border:none; color: #292724\"><tr style=\"border:none;border-bottom:1px solid #292724\"><th style=\"text-align:left;border:none;padding-right:1em;\">Optimal C</th><th style=\"text-align:left;border:none;padding-right:1em;\">Optimal gamma</th><th style=\"text-align:left;border:none;padding-right:1em;\">Parameter</th><th style=\"text-align:left;border:none;padding-right:1em;\">Test accuracy </th><th style=\"text-align:left;border:none;padding-right:1em;\">Train accuracy </th></tr><tr style=\"border:none\"><td style=\"border:none;padding-right:1em;\">17.529</td><td style=\"border:none;padding-right:1em;\">0.00498</td><td style=\"border:none;padding-right:1em;\">BOW</td><td style=\"border:none;padding-right:1em;\">91.45</td><td style=\"border:none;padding-right:1em;\">98.53</td></tr><tr style=\"border:none\"><td style=\"border:none;padding-right:1em;\">10.0</td><td style=\"border:none;padding-right:1em;\">0.1</td><td style=\"border:none;padding-right:1em;\">TF-IDF</td><td style=\"border:none;padding-right:1em;\">91.35</td><td style=\"border:none;padding-right:1em;\">96.84</td></tr><tr style=\"border:none\"><td style=\"border:none;padding-right:1em;\">100.0</td><td style=\"border:none;padding-right:1em;\">0.01</td><td style=\"border:none;padding-right:1em;\">W2V</td><td style=\"border:none;padding-right:1em;\">89.68</td><td style=\"border:none;padding-right:1em;\">90.6533</td></tr><tr style=\"border:none\"><td style=\"border:none;padding-right:1em;\">100.0</td><td style=\"border:none;padding-right:1em;\">0.01</td><td style=\"border:none;padding-right:1em;\">W2V-TF-IDF</td><td style=\"border:none;padding-right:1em;\">89.14</td><td style=\"border:none;padding-right:1em;\">93.0067</td></tr></table>"
      ],
      "text/plain": [
       "<toyplot.data.Table at 0x273e1aa7eb8>"
      ]
     },
     "execution_count": 37,
     "metadata": {},
     "output_type": "execute_result"
    }
   ],
   "source": [
    "\n",
    "import toyplot\n",
    "data = dict()\n",
    "data[\"Parameter\"] = [\"BOW\", \"TF-IDF\", \"W2V\",\"W2V-TF-IDF\"]\n",
    "data[\"Test accuracy \"] = [91.45,91.35,89.68,89.14]\n",
    "data[\"Train accuracy \"] = [98.53,96.84,90.6533,93.0067]\n",
    "data[\"Optimal C\"]=[17.529,10,100,100]\n",
    "data[\"Optimal gamma\"] = [0.00498,0.1,0.01,0.01]\n",
    "toyplot.data.Table(data)"
   ]
  },
  {
   "cell_type": "markdown",
   "metadata": {},
   "source": [
    "# Program Flow\n",
    "1. Data is first Pre-Processed i.e removing stopwords,html,Punctuation marks,Duplicate Reviews\n",
    "2. arranged data in ascending order of time.\n",
    "3. Split The Cleaned text data into train and test\n",
    "4. Text to vector conversion methods are used\n",
    "5. For Tf-idf-w2v and avg w2v NAN Value occurs ,So Imputer is used.\n",
    "6. For Each Method, find optimal value of hyperparameter i.e C and Gamma , RandomSearch  and Grid Search algorithm are implemented.\n",
    "7. Train accuracies and Test accuracies are find for all values of C and gamma.\n",
    "8. Confusion matrix are drawn for best values of Hyperparameter.\n"
   ]
  },
  {
   "cell_type": "markdown",
   "metadata": {},
   "source": [
    "# SVM using SGD Classifier with hinge loss"
   ]
  },
  {
   "cell_type": "code",
   "execution_count": 9,
   "metadata": {},
   "outputs": [],
   "source": [
    "final3=final2.tail(100000)\n",
    "y=y.tail(100000)"
   ]
  },
  {
   "cell_type": "code",
   "execution_count": 36,
   "metadata": {},
   "outputs": [],
   "source": [
    "from sklearn.model_selection import train_test_split\n",
    "X_train, X_test, y_train, y_test = train_test_split(final3['CleanedText'].values, y, test_size=0.3, shuffle=True)\n",
    "\n"
   ]
  },
  {
   "cell_type": "markdown",
   "metadata": {},
   "source": [
    "# TF-IDF for Linear SVM"
   ]
  },
  {
   "cell_type": "code",
   "execution_count": 11,
   "metadata": {},
   "outputs": [],
   "source": [
    "tf_idf_vect = TfidfVectorizer()\n",
    "final_tf_idf = tf_idf_vect.fit_transform(X_train)"
   ]
  },
  {
   "cell_type": "code",
   "execution_count": 12,
   "metadata": {},
   "outputs": [],
   "source": [
    "final_tf_idf1 = tf_idf_vect.transform(X_test)"
   ]
  },
  {
   "cell_type": "code",
   "execution_count": 13,
   "metadata": {},
   "outputs": [],
   "source": [
    "X_train=final_tf_idf\n",
    "X_test=final_tf_idf1"
   ]
  },
  {
   "cell_type": "code",
   "execution_count": 14,
   "metadata": {},
   "outputs": [
    {
     "data": {
      "text/plain": [
       "(70000, 31783)"
      ]
     },
     "execution_count": 14,
     "metadata": {},
     "output_type": "execute_result"
    }
   ],
   "source": [
    "X_train.shape"
   ]
  },
  {
   "cell_type": "code",
   "execution_count": 15,
   "metadata": {},
   "outputs": [
    {
     "data": {
      "text/plain": [
       "(30000, 31783)"
      ]
     },
     "execution_count": 15,
     "metadata": {},
     "output_type": "execute_result"
    }
   ],
   "source": [
    "X_test.shape"
   ]
  },
  {
   "cell_type": "code",
   "execution_count": 25,
   "metadata": {},
   "outputs": [],
   "source": [
    "from sklearn import linear_model\n",
    "from sklearn.grid_search import GridSearchCV\n",
    "tuned_parameters = [{'alpha':[10,1,0.5,0.1,0.05,0.01,0.005,0.001,0.0001]}]"
   ]
  },
  {
   "cell_type": "code",
   "execution_count": 26,
   "metadata": {},
   "outputs": [
    {
     "name": "stdout",
     "output_type": "stream",
     "text": [
      "SGDClassifier(alpha=0.0001, average=False, class_weight=None, epsilon=0.1,\n",
      "       eta0=0.0, fit_intercept=True, l1_ratio=0.15,\n",
      "       learning_rate='optimal', loss='hinge', max_iter=None, n_iter=None,\n",
      "       n_jobs=1, penalty='l2', power_t=0.5, random_state=None,\n",
      "       shuffle=True, tol=None, verbose=0, warm_start=False)\n"
     ]
    }
   ],
   "source": [
    "model = GridSearchCV(linear_model.SGDClassifier(), tuned_parameters, scoring ='f1_micro', cv=3)\n",
    "model.fit(X_train, y_train)\n",
    "print(model.best_estimator_)"
   ]
  },
  {
   "cell_type": "code",
   "execution_count": 27,
   "metadata": {},
   "outputs": [
    {
     "data": {
      "text/plain": [
       "[mean: 0.82609, std: 0.00000, params: {'alpha': 10},\n",
       " mean: 0.82609, std: 0.00000, params: {'alpha': 1},\n",
       " mean: 0.82609, std: 0.00000, params: {'alpha': 0.5},\n",
       " mean: 0.82609, std: 0.00000, params: {'alpha': 0.1},\n",
       " mean: 0.82609, std: 0.00000, params: {'alpha': 0.05},\n",
       " mean: 0.82609, std: 0.00000, params: {'alpha': 0.01},\n",
       " mean: 0.82609, std: 0.00000, params: {'alpha': 0.005},\n",
       " mean: 0.82866, std: 0.00015, params: {'alpha': 0.001},\n",
       " mean: 0.90691, std: 0.00167, params: {'alpha': 0.0001}]"
      ]
     },
     "execution_count": 27,
     "metadata": {},
     "output_type": "execute_result"
    }
   ],
   "source": [
    "model.grid_scores_"
   ]
  },
  {
   "cell_type": "code",
   "execution_count": 28,
   "metadata": {},
   "outputs": [],
   "source": [
    "x=len(model.grid_scores_)\n",
    "cvscore1=[]\n",
    "for i in range(x):\n",
    "    cvscore=model.grid_scores_[i]\n",
    "    cvscore1.append(cvscore[1])\n",
    "cverror=[1-x for x in cvscore1]    \n",
    "    "
   ]
  },
  {
   "cell_type": "code",
   "execution_count": 35,
   "metadata": {},
   "outputs": [
    {
     "data": {
      "image/png": "[encoded data removed]",
      "text/plain": [
       "<matplotlib.figure.Figure at 0x28aa00b61d0>"
      ]
     },
     "metadata": {},
     "output_type": "display_data"
    },
    {
     "name": "stdout",
     "output_type": "stream",
     "text": [
      "the Cross validation error error for each alpha value is :  [0.174 0.174 0.174 0.174 0.174 0.174 0.174 0.171 0.093]\n"
     ]
    }
   ],
   "source": [
    "alpha=[10,1,0.5,0.1,0.05,0.01,0.005,0.001,0.0001]\n",
    "plt.plot(alpha, cverror)\n",
    "\n",
    "for xy in zip(alpha, np.round(cverror,3)):\n",
    "    plt.annotate('(%s, %s)' % xy, xy=xy, textcoords='data')\n",
    "\n",
    "plt.xlabel('Depth')\n",
    "plt.ylabel('Cross validation error')\n",
    "plt.title('Cross validation error w.r.t alpha Value')\n",
    "plt.show()\n",
    "\n",
    "print(\"the Cross validation error error for each alpha value is : \", np.round(cverror,3))"
   ]
  },
  {
   "cell_type": "code",
   "execution_count": 32,
   "metadata": {},
   "outputs": [
    {
     "data": {
      "image/png": "[encoded data removed]",
      "text/plain": [
       "<matplotlib.figure.Figure at 0x28a9ff629e8>"
      ]
     },
     "metadata": {},
     "output_type": "display_data"
    }
   ],
   "source": [
    "from sklearn.metrics import confusion_matrix\n",
    "from sklearn.metrics import accuracy_score\n",
    "labels=[1,-1]\n",
    "y_pred=model.predict(X_test)\n",
    "cm = confusion_matrix(y_test, y_pred,labels) \n",
    "\n",
    "# Transform to df for easier plotting\n",
    "cm_df = pd.DataFrame(cm,\n",
    "                     index = ['1','-1'], \n",
    "                     columns = ['1','-1'])\n",
    "\n",
    "plt.figure(figsize=(5.5,4))\n",
    "sns.heatmap(cm_df, annot=True,fmt='d',cmap=plt.cm.Blues)\n",
    "plt.title('Decision tree  \\nAccuracy:{0:.3f}'.format(accuracy_score(y_test, y_pred)))\n",
    "plt.ylabel('True label')\n",
    "plt.xlabel('Predicted label')\n",
    "plt.show()"
   ]
  },
  {
   "cell_type": "code",
   "execution_count": 34,
   "metadata": {},
   "outputs": [
    {
     "name": "stdout",
     "output_type": "stream",
     "text": [
      "Training Accuracy=91.641429\n"
     ]
    }
   ],
   "source": [
    "y_pred1=model.predict(X_train)\n",
    "acc=accuracy_score(y_train,y_pred1)*100\n",
    "print('Training Accuracy=%f' %(acc))"
   ]
  },
  {
   "cell_type": "markdown",
   "metadata": {},
   "source": [
    "# BOW for Linear SVM"
   ]
  },
  {
   "cell_type": "code",
   "execution_count": 37,
   "metadata": {},
   "outputs": [],
   "source": [
    "count_vect = CountVectorizer() #in scikit-learn\n",
    "final_counts = count_vect.fit_transform(X_train)\n",
    "final_counts1=count_vect.transform(X_test)"
   ]
  },
  {
   "cell_type": "code",
   "execution_count": 38,
   "metadata": {},
   "outputs": [],
   "source": [
    "X_train=final_counts\n",
    "X_test=final_counts1"
   ]
  },
  {
   "cell_type": "code",
   "execution_count": 39,
   "metadata": {},
   "outputs": [],
   "source": [
    "from sklearn import linear_model\n",
    "from sklearn.grid_search import GridSearchCV\n",
    "tuned_parameters = [{'alpha':[10,1,0.5,0.1,0.05,0.01,0.005,0.001,0.0001]}]"
   ]
  },
  {
   "cell_type": "code",
   "execution_count": 40,
   "metadata": {},
   "outputs": [
    {
     "name": "stdout",
     "output_type": "stream",
     "text": [
      "SGDClassifier(alpha=0.001, average=False, class_weight=None, epsilon=0.1,\n",
      "       eta0=0.0, fit_intercept=True, l1_ratio=0.15,\n",
      "       learning_rate='optimal', loss='hinge', max_iter=None, n_iter=None,\n",
      "       n_jobs=1, penalty='l2', power_t=0.5, random_state=None,\n",
      "       shuffle=True, tol=None, verbose=0, warm_start=False)\n"
     ]
    }
   ],
   "source": [
    "model = GridSearchCV(linear_model.SGDClassifier(), tuned_parameters, scoring ='f1_micro', cv=3)\n",
    "model.fit(X_train, y_train)\n",
    "print(model.best_estimator_)"
   ]
  },
  {
   "cell_type": "code",
   "execution_count": 41,
   "metadata": {},
   "outputs": [
    {
     "data": {
      "text/plain": [
       "[mean: 0.82681, std: 0.00000, params: {'alpha': 10},\n",
       " mean: 0.82681, std: 0.00000, params: {'alpha': 1},\n",
       " mean: 0.82681, std: 0.00000, params: {'alpha': 0.5},\n",
       " mean: 0.84303, std: 0.00132, params: {'alpha': 0.1},\n",
       " mean: 0.86477, std: 0.00149, params: {'alpha': 0.05},\n",
       " mean: 0.89610, std: 0.00083, params: {'alpha': 0.01},\n",
       " mean: 0.90244, std: 0.00107, params: {'alpha': 0.005},\n",
       " mean: 0.90861, std: 0.00209, params: {'alpha': 0.001},\n",
       " mean: 0.89061, std: 0.01697, params: {'alpha': 0.0001}]"
      ]
     },
     "execution_count": 41,
     "metadata": {},
     "output_type": "execute_result"
    }
   ],
   "source": [
    "model.grid_scores_"
   ]
  },
  {
   "cell_type": "code",
   "execution_count": 42,
   "metadata": {},
   "outputs": [],
   "source": [
    "x=len(model.grid_scores_)\n",
    "cvscore1=[]\n",
    "for i in range(x):\n",
    "    cvscore=model.grid_scores_[i]\n",
    "    cvscore1.append(cvscore[1])\n",
    "cverror=[1-x for x in cvscore1]    \n",
    "    "
   ]
  },
  {
   "cell_type": "code",
   "execution_count": 45,
   "metadata": {},
   "outputs": [
    {
     "data": {
      "text/plain": [
       "[0.8268142857142857,\n",
       " 0.8268142857142857,\n",
       " 0.8268142857142857,\n",
       " 0.8430285714285715,\n",
       " 0.8647714285714285,\n",
       " 0.8961,\n",
       " 0.9024428571428571,\n",
       " 0.9086142857142857,\n",
       " 0.8906142857142857]"
      ]
     },
     "execution_count": 45,
     "metadata": {},
     "output_type": "execute_result"
    }
   ],
   "source": [
    "cvscore1"
   ]
  },
  {
   "cell_type": "code",
   "execution_count": 43,
   "metadata": {},
   "outputs": [
    {
     "data": {
      "image/png": "[encoded data removed]",
      "text/plain": [
       "<matplotlib.figure.Figure at 0x28ab71136d8>"
      ]
     },
     "metadata": {},
     "output_type": "display_data"
    },
    {
     "name": "stdout",
     "output_type": "stream",
     "text": [
      "the Cross validation error error for each alpha value is :  [0.173 0.173 0.173 0.157 0.135 0.104 0.098 0.091 0.109]\n"
     ]
    }
   ],
   "source": [
    "alpha=[10,1,0.5,0.1,0.05,0.01,0.005,0.001,0.0001]\n",
    "plt.plot(alpha, cverror)\n",
    "\n",
    "for xy in zip(alpha, np.round(cverror,3)):\n",
    "    plt.annotate('(%s, %s)' % xy, xy=xy, textcoords='data')\n",
    "\n",
    "plt.xlabel('Depth')\n",
    "plt.ylabel('Cross validation error')\n",
    "plt.title('Cross validation error w.r.t alpha Value')\n",
    "plt.show()\n",
    "\n",
    "print(\"the Cross validation error error for each alpha value is : \", np.round(cverror,3))"
   ]
  },
  {
   "cell_type": "code",
   "execution_count": 46,
   "metadata": {},
   "outputs": [
    {
     "data": {
      "image/png": "[encoded data removed]",
      "text/plain": [
       "<matplotlib.figure.Figure at 0x28ab6e32160>"
      ]
     },
     "metadata": {},
     "output_type": "display_data"
    }
   ],
   "source": [
    "from sklearn.metrics import confusion_matrix\n",
    "from sklearn.metrics import accuracy_score\n",
    "labels=[1,-1]\n",
    "y_pred=model.predict(X_test)\n",
    "cm = confusion_matrix(y_test, y_pred,labels) \n",
    "\n",
    "# Transform to df for easier plotting\n",
    "cm_df = pd.DataFrame(cm,\n",
    "                     index = ['1','-1'], \n",
    "                     columns = ['1','-1'])\n",
    "\n",
    "plt.figure(figsize=(5.5,4))\n",
    "sns.heatmap(cm_df, annot=True,fmt='d',cmap=plt.cm.Blues)\n",
    "plt.title('Decision tree  \\nAccuracy:{0:.3f}'.format(accuracy_score(y_test, y_pred)))\n",
    "plt.ylabel('True label')\n",
    "plt.xlabel('Predicted label')\n",
    "plt.show()"
   ]
  },
  {
   "cell_type": "code",
   "execution_count": 47,
   "metadata": {},
   "outputs": [
    {
     "name": "stdout",
     "output_type": "stream",
     "text": [
      "Training Accuracy=92.465714\n"
     ]
    }
   ],
   "source": [
    "y_pred1=model.predict(X_train)\n",
    "acc=accuracy_score(y_train,y_pred1)*100\n",
    "print('Training Accuracy=%f' %(acc))"
   ]
  },
  {
   "cell_type": "markdown",
   "metadata": {},
   "source": [
    "# W2V With Linear SVM"
   ]
  },
  {
   "cell_type": "code",
   "execution_count": 50,
   "metadata": {},
   "outputs": [],
   "source": [
    "i=0\n",
    "list_of_sent=[]\n",
    "for sent in final3['Text'].values:\n",
    "    filtered_sentence=[]\n",
    "    sent=cleanhtml(sent)\n",
    "    for w in sent.split():\n",
    "        for cleaned_words in cleanpunc(w).split():\n",
    "            if(cleaned_words.isalpha()):    \n",
    "                filtered_sentence.append(sno.stem(cleaned_words.lower()))\n",
    "            else:\n",
    "                continue \n",
    "    list_of_sent.append(filtered_sentence)"
   ]
  },
  {
   "cell_type": "code",
   "execution_count": 51,
   "metadata": {},
   "outputs": [
    {
     "data": {
      "text/plain": [
       "100000"
      ]
     },
     "execution_count": 51,
     "metadata": {},
     "output_type": "execute_result"
    }
   ],
   "source": [
    "len(list_of_sent)"
   ]
  },
  {
   "cell_type": "code",
   "execution_count": 52,
   "metadata": {},
   "outputs": [],
   "source": [
    "from sklearn.model_selection import train_test_split\n",
    "X_train, X_test, y_train, y_test = train_test_split(list_of_sent, y, test_size=0.3, random_state=42)\n"
   ]
  },
  {
   "cell_type": "code",
   "execution_count": 53,
   "metadata": {},
   "outputs": [],
   "source": [
    "w2v_model=gensim.models.Word2Vec(X_train,min_count=5,size=300, workers=4) "
   ]
  },
  {
   "cell_type": "code",
   "execution_count": 54,
   "metadata": {},
   "outputs": [
    {
     "name": "stdout",
     "output_type": "stream",
     "text": [
      "70000\n",
      "300\n"
     ]
    }
   ],
   "source": [
    "sent_vectors = []; # the avg-w2v for each sentence/review is stored in this list\n",
    "for sent in X_train: # for each review/sentence\n",
    "    sent_vec = np.zeros(300) # as word vectors are of zero length\n",
    "    cnt_words =0; # num of words with a valid vector in the sentence/review\n",
    "    for word in sent: # for each word in a review/sentence\n",
    "        try:\n",
    "            vec = w2v_model.wv[word]\n",
    "            sent_vec += vec\n",
    "            cnt_words += 1\n",
    "        except:\n",
    "            pass\n",
    "    sent_vec /= cnt_words\n",
    "    sent_vectors.append(sent_vec)\n",
    "print(len(sent_vectors))\n",
    "print(len(sent_vectors[0]))"
   ]
  },
  {
   "cell_type": "code",
   "execution_count": 55,
   "metadata": {},
   "outputs": [],
   "source": [
    "import numpy as np\n",
    "myarray = np.asarray(sent_vectors)\n",
    "X_train=myarray"
   ]
  },
  {
   "cell_type": "code",
   "execution_count": 56,
   "metadata": {},
   "outputs": [
    {
     "name": "stdout",
     "output_type": "stream",
     "text": [
      "30000\n",
      "300\n"
     ]
    }
   ],
   "source": [
    "sent_vectors = []; # the avg-w2v for each sentence/review is stored in this list\n",
    "for sent in X_test: # for each review/sentence\n",
    "    sent_vec = np.zeros(300) # as word vectors are of zero length\n",
    "    cnt_words =0; # num of words with a valid vector in the sentence/review\n",
    "    for word in sent: # for each word in a review/sentence\n",
    "        try:\n",
    "            vec = w2v_model.wv[word]\n",
    "            sent_vec += vec\n",
    "            cnt_words += 1\n",
    "        except:\n",
    "            pass\n",
    "    sent_vec /= cnt_words\n",
    "    sent_vectors.append(sent_vec)\n",
    "print(len(sent_vectors))\n",
    "print(len(sent_vectors[0]))"
   ]
  },
  {
   "cell_type": "code",
   "execution_count": 57,
   "metadata": {},
   "outputs": [],
   "source": [
    "import numpy as np\n",
    "myarray1= np.asarray(sent_vectors)\n",
    "X_test=myarray1"
   ]
  },
  {
   "cell_type": "code",
   "execution_count": 63,
   "metadata": {},
   "outputs": [
    {
     "data": {
      "text/plain": [
       "numpy.ndarray"
      ]
     },
     "execution_count": 63,
     "metadata": {},
     "output_type": "execute_result"
    }
   ],
   "source": [
    "from sklearn.preprocessing import Imputer\n",
    "impute=Imputer(strategy='mean')\n",
    "impute.fit(X_test)\n",
    "X_test1=impute.transform(X_test)\n",
    "type(X_test1)\n"
   ]
  },
  {
   "cell_type": "code",
   "execution_count": 64,
   "metadata": {},
   "outputs": [],
   "source": [
    "from sklearn import linear_model\n",
    "from sklearn.grid_search import GridSearchCV\n",
    "tuned_parameters = [{'alpha':[10,1,0.5,0.1,0.05,0.01,0.005,0.001,0.0001]}]"
   ]
  },
  {
   "cell_type": "code",
   "execution_count": 65,
   "metadata": {},
   "outputs": [
    {
     "name": "stdout",
     "output_type": "stream",
     "text": [
      "SGDClassifier(alpha=0.001, average=False, class_weight=None, epsilon=0.1,\n",
      "       eta0=0.0, fit_intercept=True, l1_ratio=0.15,\n",
      "       learning_rate='optimal', loss='hinge', max_iter=None, n_iter=None,\n",
      "       n_jobs=1, penalty='l2', power_t=0.5, random_state=None,\n",
      "       shuffle=True, tol=None, verbose=0, warm_start=False)\n"
     ]
    }
   ],
   "source": [
    "model = GridSearchCV(linear_model.SGDClassifier(), tuned_parameters, scoring ='f1_micro', cv=3)\n",
    "model.fit(X_train, y_train)\n",
    "print(model.best_estimator_)"
   ]
  },
  {
   "cell_type": "code",
   "execution_count": 66,
   "metadata": {},
   "outputs": [
    {
     "data": {
      "text/plain": [
       "[mean: 0.82517, std: 0.00002, params: {'alpha': 10},\n",
       " mean: 0.82517, std: 0.00002, params: {'alpha': 1},\n",
       " mean: 0.82517, std: 0.00002, params: {'alpha': 0.5},\n",
       " mean: 0.82517, std: 0.00002, params: {'alpha': 0.1},\n",
       " mean: 0.82517, std: 0.00002, params: {'alpha': 0.05},\n",
       " mean: 0.85967, std: 0.00196, params: {'alpha': 0.01},\n",
       " mean: 0.87604, std: 0.00156, params: {'alpha': 0.005},\n",
       " mean: 0.88813, std: 0.00163, params: {'alpha': 0.001},\n",
       " mean: 0.88746, std: 0.00275, params: {'alpha': 0.0001}]"
      ]
     },
     "execution_count": 66,
     "metadata": {},
     "output_type": "execute_result"
    }
   ],
   "source": [
    "model.grid_scores_"
   ]
  },
  {
   "cell_type": "code",
   "execution_count": 67,
   "metadata": {},
   "outputs": [],
   "source": [
    "x=len(model.grid_scores_)\n",
    "cvscore1=[]\n",
    "for i in range(x):\n",
    "    cvscore=model.grid_scores_[i]\n",
    "    cvscore1.append(cvscore[1])\n",
    "cverror=[1-x for x in cvscore1]    \n",
    "    "
   ]
  },
  {
   "cell_type": "code",
   "execution_count": 69,
   "metadata": {},
   "outputs": [
    {
     "data": {
      "image/png": "[encoded data removed]",
      "text/plain": [
       "<matplotlib.figure.Figure at 0x28a80036550>"
      ]
     },
     "metadata": {},
     "output_type": "display_data"
    },
    {
     "name": "stdout",
     "output_type": "stream",
     "text": [
      "the Cross validation error error for each alpha value is :  [0.175 0.175 0.175 0.175 0.175 0.14  0.124 0.112 0.113]\n"
     ]
    }
   ],
   "source": [
    "alpha=[10,1,0.5,0.1,0.05,0.01,0.005,0.001,0.0001]\n",
    "plt.plot(alpha, cverror)\n",
    "\n",
    "for xy in zip(alpha, np.round(cverror,3)):\n",
    "    plt.annotate('(%s, %s)' % xy, xy=xy, textcoords='data')\n",
    "\n",
    "plt.xlabel('alpha')\n",
    "plt.ylabel('Cross validation error')\n",
    "plt.title('Cross validation error w.r.t alpha Value')\n",
    "plt.show()\n",
    "\n",
    "print(\"the Cross validation error error for each alpha value is : \", np.round(cverror,3))"
   ]
  },
  {
   "cell_type": "code",
   "execution_count": 70,
   "metadata": {},
   "outputs": [
    {
     "data": {
      "image/png": "[encoded data removed]",
      "text/plain": [
       "<matplotlib.figure.Figure at 0x28a8000c9e8>"
      ]
     },
     "metadata": {},
     "output_type": "display_data"
    }
   ],
   "source": [
    "from sklearn.metrics import confusion_matrix\n",
    "from sklearn.metrics import accuracy_score\n",
    "labels=[1,-1]\n",
    "y_pred=model.predict(X_test1)\n",
    "cm = confusion_matrix(y_test, y_pred,labels) \n",
    "\n",
    "# Transform to df for easier plotting\n",
    "cm_df = pd.DataFrame(cm,\n",
    "                     index = ['1','-1'], \n",
    "                     columns = ['1','-1'])\n",
    "\n",
    "plt.figure(figsize=(5.5,4))\n",
    "sns.heatmap(cm_df, annot=True,fmt='d',cmap=plt.cm.Blues)\n",
    "plt.title('Decision tree  \\nAccuracy:{0:.3f}'.format(accuracy_score(y_test, y_pred)))\n",
    "plt.ylabel('True label')\n",
    "plt.xlabel('Predicted label')\n",
    "plt.show()"
   ]
  },
  {
   "cell_type": "code",
   "execution_count": 71,
   "metadata": {},
   "outputs": [
    {
     "name": "stdout",
     "output_type": "stream",
     "text": [
      "Training Accuracy=88.772857\n"
     ]
    }
   ],
   "source": [
    "y_pred1=model.predict(X_train)\n",
    "acc=accuracy_score(y_train,y_pred1)*100\n",
    "print('Training Accuracy=%f' %(acc))"
   ]
  },
  {
   "cell_type": "markdown",
   "metadata": {},
   "source": [
    "# TF-IDF W2V "
   ]
  },
  {
   "cell_type": "code",
   "execution_count": 88,
   "metadata": {},
   "outputs": [],
   "source": [
    "w2v_model=gensim.models.Word2Vec(list_of_sent,min_count=5,size=300, workers=4) "
   ]
  },
  {
   "cell_type": "code",
   "execution_count": 89,
   "metadata": {},
   "outputs": [],
   "source": [
    "tf_idf_vect = TfidfVectorizer()\n",
    "final_tf_idf = tf_idf_vect.fit_transform(final3['CleanedText'].values)"
   ]
  },
  {
   "cell_type": "code",
   "execution_count": 90,
   "metadata": {},
   "outputs": [],
   "source": [
    "tfidf_feat = tf_idf_vect.get_feature_names()\n",
    "tfidf_sent_vectors = []; # the tfidf-w2v for each sentence/review is stored in this list\n",
    "row=0;\n",
    "for sent in list_of_sent: # for each review/sentence\n",
    "    sent_vec = np.zeros(300) # as word vectors are of zero length\n",
    "    weight_sum =0; # num of words with a valid vector in the sentence/review\n",
    "    for word in sent: # for each word in a review/sentence\n",
    "        try:\n",
    "            vec = w2v_model.wv[word]\n",
    "            # obtain the tf_idfidf of a word in a sentence/review\n",
    "            tfidf = final_tf_idf[row,tfidf_feat.index(word)]\n",
    "            sent_vec += (vec * tfidf)\n",
    "            weight_sum += tfidf\n",
    "        except:\n",
    "            pass\n",
    "    #print(weight_sum)\n",
    "    sent_vec /= weight_sum\n",
    "    tfidf_sent_vectors.append(sent_vec)\n",
    "    row += 1"
   ]
  },
  {
   "cell_type": "code",
   "execution_count": 92,
   "metadata": {},
   "outputs": [
    {
     "data": {
      "text/plain": [
       "100000"
      ]
     },
     "execution_count": 92,
     "metadata": {},
     "output_type": "execute_result"
    }
   ],
   "source": [
    "len(tfidf_sent_vectors)"
   ]
  },
  {
   "cell_type": "code",
   "execution_count": 94,
   "metadata": {},
   "outputs": [],
   "source": [
    "myarray2=np.asarray(tfidf_sent_vectors)"
   ]
  },
  {
   "cell_type": "code",
   "execution_count": 96,
   "metadata": {},
   "outputs": [],
   "source": [
    "from sklearn.preprocessing import Imputer\n",
    "impute=Imputer(strategy='mean')\n",
    "impute.fit(myarray2)\n",
    "tfidf_w2v=impute.transform(myarray2)"
   ]
  },
  {
   "cell_type": "code",
   "execution_count": 101,
   "metadata": {},
   "outputs": [],
   "source": [
    "from sklearn.model_selection import train_test_split\n",
    "X_train, X_test, y_train, y_test = train_test_split(tfidf_w2v, y, train_size=0.7)"
   ]
  },
  {
   "cell_type": "code",
   "execution_count": 102,
   "metadata": {},
   "outputs": [
    {
     "name": "stdout",
     "output_type": "stream",
     "text": [
      "SGDClassifier(alpha=0.001, average=False, class_weight=None, epsilon=0.1,\n",
      "       eta0=0.0, fit_intercept=True, l1_ratio=0.15,\n",
      "       learning_rate='optimal', loss='hinge', max_iter=None, n_iter=None,\n",
      "       n_jobs=1, penalty='l2', power_t=0.5, random_state=None,\n",
      "       shuffle=True, tol=None, verbose=0, warm_start=False)\n"
     ]
    }
   ],
   "source": [
    "model = GridSearchCV(linear_model.SGDClassifier(), tuned_parameters, scoring ='f1_micro', cv=3)\n",
    "model.fit(X_train, y_train)\n",
    "print(model.best_estimator_)"
   ]
  },
  {
   "cell_type": "code",
   "execution_count": 103,
   "metadata": {},
   "outputs": [
    {
     "data": {
      "text/plain": [
       "[mean: 0.82631, std: 0.00001, params: {'alpha': 10},\n",
       " mean: 0.82631, std: 0.00001, params: {'alpha': 1},\n",
       " mean: 0.82631, std: 0.00001, params: {'alpha': 0.5},\n",
       " mean: 0.82679, std: 0.00013, params: {'alpha': 0.1},\n",
       " mean: 0.83923, std: 0.00110, params: {'alpha': 0.05},\n",
       " mean: 0.87230, std: 0.00189, params: {'alpha': 0.01},\n",
       " mean: 0.87771, std: 0.00247, params: {'alpha': 0.005},\n",
       " mean: 0.88570, std: 0.00047, params: {'alpha': 0.001},\n",
       " mean: 0.87427, std: 0.00451, params: {'alpha': 0.0001}]"
      ]
     },
     "execution_count": 103,
     "metadata": {},
     "output_type": "execute_result"
    }
   ],
   "source": [
    "model.grid_scores_"
   ]
  },
  {
   "cell_type": "code",
   "execution_count": 104,
   "metadata": {},
   "outputs": [
    {
     "data": {
      "image/png": "[encoded data removed]",
      "text/plain": [
       "<matplotlib.figure.Figure at 0x28a8002cb00>"
      ]
     },
     "metadata": {},
     "output_type": "display_data"
    }
   ],
   "source": [
    "from sklearn.metrics import confusion_matrix\n",
    "from sklearn.metrics import accuracy_score\n",
    "labels=[1,-1]\n",
    "y_pred=model.predict(X_test)\n",
    "cm = confusion_matrix(y_test, y_pred,labels) \n",
    "\n",
    "# Transform to df for easier plotting\n",
    "cm_df = pd.DataFrame(cm,\n",
    "                     index = ['1','-1'], \n",
    "                     columns = ['1','-1'])\n",
    "\n",
    "plt.figure(figsize=(5.5,4))\n",
    "sns.heatmap(cm_df, annot=True,fmt='d',cmap=plt.cm.Blues)\n",
    "plt.title('Decision tree  \\nAccuracy:{0:.3f}'.format(accuracy_score(y_test, y_pred)))\n",
    "plt.ylabel('True label')\n",
    "plt.xlabel('Predicted label')\n",
    "plt.show()"
   ]
  },
  {
   "cell_type": "code",
   "execution_count": 105,
   "metadata": {},
   "outputs": [
    {
     "name": "stdout",
     "output_type": "stream",
     "text": [
      "Training Accuracy=88.562857\n"
     ]
    }
   ],
   "source": [
    "y_pred1=model.predict(X_train)\n",
    "acc=accuracy_score(y_train,y_pred1)*100\n",
    "print('Training Accuracy=%f' %(acc))"
   ]
  },
  {
   "cell_type": "markdown",
   "metadata": {},
   "source": [
    "# Conclusion From RBF and Linear SVM"
   ]
  },
  {
   "cell_type": "code",
   "execution_count": 38,
   "metadata": {},
   "outputs": [
    {
     "data": {
      "text/html": [
       "<table class=\"toyplot-data-Table\" style=\"border-collapse:collapse; border:none; color: #292724\"><tr style=\"border:none;border-bottom:1px solid #292724\"><th style=\"text-align:left;border:none;padding-right:1em;\"> Test accuracy using rbf kernel </th><th style=\"text-align:left;border:none;padding-right:1em;\"> Train accuracy using rbf kernel </th><th style=\"text-align:left;border:none;padding-right:1em;\">Optimal C for rbf kernel</th><th style=\"text-align:left;border:none;padding-right:1em;\">Optimal alpha for Linear SVM</th><th style=\"text-align:left;border:none;padding-right:1em;\">Optimal gamma for rbf kernel</th><th style=\"text-align:left;border:none;padding-right:1em;\">Parameter</th><th style=\"text-align:left;border:none;padding-right:1em;\">Test accuracy using Linear SVM </th><th style=\"text-align:left;border:none;padding-right:1em;\">Train accuracy using Linear SVM </th></tr><tr style=\"border:none\"><td style=\"border:none;padding-right:1em;\">91.45</td><td style=\"border:none;padding-right:1em;\">98.57</td><td style=\"border:none;padding-right:1em;\">17.529</td><td style=\"border:none;padding-right:1em;\">0.01</td><td style=\"border:none;padding-right:1em;\">0.00498</td><td style=\"border:none;padding-right:1em;\">BOW</td><td style=\"border:none;padding-right:1em;\">91.0</td><td style=\"border:none;padding-right:1em;\">92.46</td></tr><tr style=\"border:none\"><td style=\"border:none;padding-right:1em;\">91.35</td><td style=\"border:none;padding-right:1em;\">96.84</td><td style=\"border:none;padding-right:1em;\">10.0</td><td style=\"border:none;padding-right:1em;\">0.0001</td><td style=\"border:none;padding-right:1em;\">0.1</td><td style=\"border:none;padding-right:1em;\">TF-IDF</td><td style=\"border:none;padding-right:1em;\">90.8</td><td style=\"border:none;padding-right:1em;\">91.64</td></tr><tr style=\"border:none\"><td style=\"border:none;padding-right:1em;\">89.68</td><td style=\"border:none;padding-right:1em;\">90.6533</td><td style=\"border:none;padding-right:1em;\">100.0</td><td style=\"border:none;padding-right:1em;\">0.001</td><td style=\"border:none;padding-right:1em;\">0.01</td><td style=\"border:none;padding-right:1em;\">W2V</td><td style=\"border:none;padding-right:1em;\">88.8</td><td style=\"border:none;padding-right:1em;\">88.77</td></tr><tr style=\"border:none\"><td style=\"border:none;padding-right:1em;\">89.14</td><td style=\"border:none;padding-right:1em;\">93.0067</td><td style=\"border:none;padding-right:1em;\">100.0</td><td style=\"border:none;padding-right:1em;\">0.001</td><td style=\"border:none;padding-right:1em;\">0.01</td><td style=\"border:none;padding-right:1em;\">W2V-TF-IDF</td><td style=\"border:none;padding-right:1em;\">88.5</td><td style=\"border:none;padding-right:1em;\">88.56</td></tr></table>"
      ],
      "text/plain": [
       "<toyplot.data.Table at 0x273cfc46b00>"
      ]
     },
     "execution_count": 38,
     "metadata": {},
     "output_type": "execute_result"
    }
   ],
   "source": [
    "import toyplot\n",
    "data = dict()\n",
    "data[\"Parameter\"] = [\"BOW\", \"TF-IDF\", \"W2V\",\"W2V-TF-IDF\"]\n",
    "data[\" Test accuracy using rbf kernel \"] = [91.45,91.35,89.68,89.14]\n",
    "data[\" Train accuracy using rbf kernel \"] = [98.57,96.84,90.6533,93.0067]\n",
    "data[\"Optimal C for rbf kernel\"]=[17.529,10,100,100]\n",
    "data[\"Optimal gamma for rbf kernel\"] = [0.00498,0.1,0.01,0.01]\n",
    "data[\"Train accuracy using Linear SVM \"] = [92.46,91.64,88.77,88.56]\n",
    "data[\"Test accuracy using Linear SVM \"] = [91,90.8,88.8,88.5]\n",
    "data[\"Optimal alpha for Linear SVM\"] = [0.01,0.0001,0.001,0.001]\n",
    "toyplot.data.Table(data)"
   ]
  },
  {
   "cell_type": "code",
   "execution_count": null,
   "metadata": {},
   "outputs": [],
   "source": []
  }
 ],
 "metadata": {
  "kernelspec": {
   "display_name": "Python 3",
   "language": "python",
   "name": "python3"
  },
  "language_info": {
   "codemirror_mode": {
    "name": "ipython",
    "version": 3
   },
   "file_extension": ".py",
   "mimetype": "text/x-python",
   "name": "python",
   "nbconvert_exporter": "python",
   "pygments_lexer": "ipython3",
   "version": "3.6.4"
  }
 },
 "nbformat": 4,
 "nbformat_minor": 2
}
