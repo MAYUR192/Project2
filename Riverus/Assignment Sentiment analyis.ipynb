{
 "cells": [
  {
   "cell_type": "code",
   "execution_count": 390,
   "metadata": {},
   "outputs": [],
   "source": [
    "import warnings\n",
    "warnings.filterwarnings(\"ignore\")"
   ]
  },
  {
   "cell_type": "code",
   "execution_count": 412,
   "metadata": {},
   "outputs": [],
   "source": [
    "import sqlite3\n",
    "import pandas as pd\n",
    "import numpy as np\n",
    "import nltk\n",
    "import string\n",
    "import matplotlib.pyplot as plt\n",
    "import seaborn as sns\n",
    "from sklearn.feature_extraction.text import TfidfTransformer\n",
    "from sklearn.feature_extraction.text import TfidfVectorizer\n",
    "from sklearn.feature_extraction.text import CountVectorizer\n",
    "from sklearn.metrics import confusion_matrix\n",
    "from sklearn import metrics\n",
    "from sklearn.metrics import roc_curve, auc\n",
    "from nltk.stem.porter import PorterStemmer\n",
    "from sklearn.metrics import confusion_matrix\n",
    "from sklearn.metrics import accuracy_score\n",
    "from sklearn.preprocessing import StandardScaler\n",
    "import gensim\n",
    "from gensim.models import Word2Vec\n",
    "from gensim.models import KeyedVectors\n",
    "from sklearn.ensemble import RandomForestClassifier"
   ]
  },
  {
   "cell_type": "markdown",
   "metadata": {},
   "source": [
    "#  Data Preparation"
   ]
  },
  {
   "cell_type": "code",
   "execution_count": 434,
   "metadata": {},
   "outputs": [],
   "source": [
    "file = open(\"1.txt\",\"r\",encoding=\"utf8\")\n",
    "label=[]\n",
    "text=[]\n",
    "for line in file:\n",
    "    text_split=line.split(\"\\t\")\n",
    "    text.append(text_split[0])\n",
    "    label.append(text_split[1])\n",
    "        "
   ]
  },
  {
   "cell_type": "code",
   "execution_count": 435,
   "metadata": {},
   "outputs": [],
   "source": [
    "file = open(\"2.txt\",\"r\",encoding=\"utf8\")\n",
    "for line in file:\n",
    "    text_split=line.split(\"\\t\")\n",
    "    text.append(text_split[1])\n",
    "    label.append(text_split[0])"
   ]
  },
  {
   "cell_type": "code",
   "execution_count": 436,
   "metadata": {},
   "outputs": [],
   "source": [
    "file = open(\"3.txt\",\"r\",encoding=\"utf8\")\n",
    "test_index1=[]\n",
    "test_index2=[]\n",
    "test_text=[]\n",
    "for line in file:\n",
    "    text_split=line.split(\",\")\n",
    "    test_index1.append(text_split[0])\n",
    "    test_index2.append(text_split[1])\n",
    "    test_text.append(text_split[2])\n",
    "test_text=test_text[1:]\n",
    "test_index2=test_index2[1:]"
   ]
  },
  {
   "cell_type": "code",
   "execution_count": null,
   "metadata": {},
   "outputs": [],
   "source": []
  },
  {
   "cell_type": "code",
   "execution_count": 437,
   "metadata": {},
   "outputs": [],
   "source": [
    "label1=[]\n",
    "for i in label:\n",
    "    label_split=i.split()\n",
    "    label1.append(int(label_split[0]))   "
   ]
  },
  {
   "cell_type": "markdown",
   "metadata": {},
   "source": [
    "# <h2> Data Analysis: Checking Whether Sentences contains HTML Tags <\\h2>"
   ]
  },
  {
   "cell_type": "code",
   "execution_count": null,
   "metadata": {},
   "outputs": [],
   "source": [
    "# find sentences containing HTML tags\n",
    "import re\n",
    "i=0;\n",
    "for sent in text:\n",
    "    if (len(re.findall('<.*?>', sent))):\n",
    "        print(i)\n",
    "        print(sent)\n",
    "        break;\n",
    "    i += 1;    "
   ]
  },
  {
   "cell_type": "markdown",
   "metadata": {},
   "source": [
    "# Text Pre-Processing User Defined Functions:\n",
    "  1. Cleaning HTML Tags\n",
    "  2. Cleaning Punctuations from Sentences like[.|,|\"|!,#] or any Special words.\n",
    "  3. Removing Stopwords, then Lemmitization of words are done in Pre-Processing"
   ]
  },
  {
   "cell_type": "code",
   "execution_count": 438,
   "metadata": {},
   "outputs": [],
   "source": [
    "import re\n",
    "# Tutorial about Python regular expressions: https://pymotw.com/2/re/\n",
    "import string\n",
    "import nltk\n",
    "#nltk.download('stopwords')\n",
    "from nltk.corpus import stopwords\n",
    "from nltk.stem import PorterStemmer\n",
    "from nltk.stem.wordnet import WordNetLemmatizer\n",
    "\n",
    "#stop = set(stopwords.words('english')) #set of stopwords\n",
    "\n",
    "\n",
    "def cleanhtml(sentence): #function to clean the word of any html-tags\n",
    "    cleanr = re.compile('<.*?>')\n",
    "    cleantext = re.sub(cleanr, ' ', sentence)\n",
    "    return cleantext\n",
    "def cleanpunc(sentence): #function to clean the word of any punctuation or special characters\n",
    "    cleaned = re.sub(r'[?|!|\\'|\"|#]',r'',sentence)\n",
    "    cleaned = re.sub(r'[.|,|)|(|\\|/|-|--]',r' ',cleaned)\n",
    "    cleaned= re.sub(r'[^\\x00-\\x7f]',r'', cleaned) \n",
    "    return  cleaned\n",
    "def pre_processed(text):\n",
    "    nltk.download('wordnet')\n",
    "    sno = WordNetLemmatizer() \n",
    "    stop={'by',\"id\",'down', 'having', 'can', \"shes\", 'yourself','to', 'theirs',\"youve\", 'both', 't', 'she', 'a', 'your', 'yours', 'themselves', 'him', 'then', 'be', 'the','very' 'his', 'are', 'you',\"youd\", 'ours', 'which', 'into', 'when', \"its\", 'so', 'who', 'herself', 'other', 'on', 'over','their', 'about', 'y', 'any', 'was', 'before','do', 'an','had', 'as', 'my','have', 'further', 'or', 'own', 'at','where', 'with', 'has', 'its', 'should', 'them', \"you'll\", 'out', 'were', 'such', 'our', 'am', 'those', 'what', 'this', 'in','more', 're', 'that', 'each', 'while', 'same','under', 'o', 'above', 'but', 'whom', 'again', 'of', 'yourselves', 'up', 'being', 'ourselves', 'myself', 'i', 'only', 'now',  'ma', 've', 'me','her', 'he', 'if', 'during', 'd','will', 's', 'once', 'hers', 'm', 'does', 'because', 'why', 'from', 'doing', 'than', 'been','did','is', 'they', 'these', 'all', 'we', 'for',\"you're\", 'll', 'too', 'itself', 'until', 'himself', 'it', 'there', 'and', 'through', 'some', 'here', \"that'll\"}\n",
    "    i=0\n",
    "    str1=' '\n",
    "    final_string=[]\n",
    "    s=''\n",
    "    for sent in text:\n",
    "        filtered_sentence=[]\n",
    "        sent=cleanhtml(sent) # remove HTMl tags\n",
    "        for w in sent.split():\n",
    "            for cleaned_words in cleanpunc(w).split():\n",
    "                if((cleaned_words.isalpha()) & (len(cleaned_words)>=2)):    \n",
    "                    if(cleaned_words.lower() not in stop):\n",
    "                        s=(sno.lemmatize(cleaned_words.lower())).encode('utf8')\n",
    "                        filtered_sentence.append(s)\n",
    "                    else:\n",
    "                        continue\n",
    "                   \n",
    "                else:\n",
    "                    continue \n",
    "        str1 = b\" \".join(filtered_sentence) #final string of cleaned words\n",
    "    #print(\"***********************************************************************\")\n",
    "    \n",
    "        final_string.append(str1)\n",
    "        i+=1\n",
    "    return final_string"
   ]
  },
  {
   "cell_type": "markdown",
   "metadata": {},
   "source": [
    "# <h1> Function for plotting confusion matrix </h1>"
   ]
  },
  {
   "cell_type": "code",
   "execution_count": 418,
   "metadata": {},
   "outputs": [],
   "source": [
    "def conf_matrix(model,X_test_1,X_train_1,y_test,y_train):\n",
    "    labels=[1,0]\n",
    "    y_pred=model.predict(X_test_1)\n",
    "    y_train_pred=model.predict(X_train_1)\n",
    "    cm = confusion_matrix(y_test, y_pred,labels) \n",
    "\n",
    "# Transform to df for easier plotting\n",
    "    cm_df = pd.DataFrame(cm,\n",
    "                     index = ['1','0'], \n",
    "                     columns = ['1','0'])\n",
    "\n",
    "    plt.figure(figsize=(5.5,4))\n",
    "    sns.heatmap(cm_df, annot=True,fmt='d',cmap=plt.cm.Blues)\n",
    "    plt.title(' \\nTest Accuracy:{0:.3f} and Train Accuracy {1:.3f}'.format(accuracy_score(y_test, y_pred)*100,accuracy_score(y_train, y_train_pred)*100))\n",
    "    plt.ylabel('True label')\n",
    "    plt.xlabel('Predicted label')\n",
    "    plt.show()"
   ]
  },
  {
   "cell_type": "markdown",
   "metadata": {},
   "source": [
    "# Reviews After Preprocessing"
   ]
  },
  {
   "cell_type": "code",
   "execution_count": 441,
   "metadata": {},
   "outputs": [
    {
     "name": "stderr",
     "output_type": "stream",
     "text": [
      "[nltk_data] Downloading package wordnet to\n",
      "[nltk_data]     C:\\Users\\Mayur\\AppData\\Roaming\\nltk_data...\n",
      "[nltk_data]   Package wordnet is already up-to-date!\n"
     ]
    },
    {
     "name": "stdout",
     "output_type": "stream",
     "text": [
      "b'great film great director'\n",
      "b'movie edge seat made somewhat afraid go car end night'\n",
      "b'music film really nice'\n",
      "b'advise anyone go see'\n",
      "b'brilliant'\n"
     ]
    }
   ],
   "source": [
    "final_string= pre_processed(text)\n",
    "for i in final_string[120:125]:\n",
    "    print(i)"
   ]
  },
  {
   "cell_type": "markdown",
   "metadata": {},
   "source": [
    "# Reviews Before Preprocessing"
   ]
  },
  {
   "cell_type": "code",
   "execution_count": 442,
   "metadata": {},
   "outputs": [
    {
     "name": "stdout",
     "output_type": "stream",
     "text": [
      "A great film by a great director.  \n",
      "The movie had you on the edge of your seat and made you somewhat afraid to go to your car at the end of the night.  \n",
      "The music in the film is really nice too.  \n",
      "I'd advise anyone to go and see it.  \n",
      "Brilliant!  \n"
     ]
    }
   ],
   "source": [
    "for i in text[120:125]:\n",
    "    print(i)"
   ]
  },
  {
   "cell_type": "code",
   "execution_count": 443,
   "metadata": {},
   "outputs": [
    {
     "data": {
      "text/plain": [
       "array([1, 1, 1, 1, 1])"
      ]
     },
     "execution_count": 443,
     "metadata": {},
     "output_type": "execute_result"
    }
   ],
   "source": [
    "label1[120:125]"
   ]
  },
  {
   "cell_type": "code",
   "execution_count": 444,
   "metadata": {},
   "outputs": [],
   "source": [
    "final=np.asarray(final_string)\n",
    "label1=np.asarray(label1)"
   ]
  },
  {
   "cell_type": "code",
   "execution_count": 445,
   "metadata": {},
   "outputs": [
    {
     "name": "stdout",
     "output_type": "stream",
     "text": [
      "The Total No of Reviews for Training:- 8038\n"
     ]
    }
   ],
   "source": [
    "print(\"The Total No of Reviews for Training:- {}\".format(final.shape[0]))"
   ]
  },
  {
   "cell_type": "code",
   "execution_count": 446,
   "metadata": {},
   "outputs": [
    {
     "name": "stdout",
     "output_type": "stream",
     "text": [
      "The Positive Sentiments in the dataset:-4479\n",
      "The Negative Sentiments in the dataset:-3559\n"
     ]
    }
   ],
   "source": [
    "unique_elements, counts_elements = np.unique(label1, return_counts=True)\n",
    "print('The Positive Sentiments in the dataset:-{}'.format(counts_elements[1]))\n",
    "print('The Negative Sentiments in the dataset:-{}'.format(counts_elements[0]))"
   ]
  },
  {
   "cell_type": "markdown",
   "metadata": {},
   "source": [
    "# Splitting of Dataset\n",
    "   1. Data from 1.txt and 2.txt are combine and pre-processed\n",
    "   2. The data is splitted between train and test set with 85% for training and 15% Test"
   ]
  },
  {
   "cell_type": "code",
   "execution_count": 447,
   "metadata": {},
   "outputs": [],
   "source": [
    "from sklearn.model_selection import train_test_split\n",
    "X_train, X_test, y_train, y_test = train_test_split(final,label1, test_size=0.15, random_state=42)"
   ]
  },
  {
   "cell_type": "markdown",
   "metadata": {},
   "source": [
    "# BAG OF WORD FOR TEXT TO VECTOR CONVERSION"
   ]
  },
  {
   "cell_type": "code",
   "execution_count": 448,
   "metadata": {},
   "outputs": [
    {
     "data": {
      "text/plain": [
       "(6832, 3387)"
      ]
     },
     "execution_count": 448,
     "metadata": {},
     "output_type": "execute_result"
    }
   ],
   "source": [
    "count_vect = CountVectorizer() #in scikit-learn\n",
    "X_train_1 = count_vect.fit_transform(X_train)\n",
    "X_train_1.shape"
   ]
  },
  {
   "cell_type": "code",
   "execution_count": 449,
   "metadata": {},
   "outputs": [],
   "source": [
    "Standard=StandardScaler(with_mean=False).fit(X_train_1)\n",
    "Standard_data=Standard.transform(X_train_1)\n",
    "X_train_1=Standard_data"
   ]
  },
  {
   "cell_type": "markdown",
   "metadata": {},
   "source": [
    "# Model on BOW\n",
    "  1. Logistic Regression Model with Grid Cross Validation is used\n",
    "  2. For Cross validation 5 fold Cross validation is used\n",
    "  3. L2 Regulariser with Regularisation Parameter Lambda is tuned Here. (In sklearn lambda=1/C)\n",
    "  4. Regulariser avoids Overfitting of data.\n",
    "  5. The Model train on 85% of actual data and 15% data used for testing. to check whether model is overfitting or not."
   ]
  },
  {
   "cell_type": "code",
   "execution_count": 450,
   "metadata": {},
   "outputs": [
    {
     "name": "stdout",
     "output_type": "stream",
     "text": [
      "LogisticRegression(C=0.1, class_weight=None, dual=False, fit_intercept=True,\n",
      "          intercept_scaling=1, max_iter=100, multi_class='warn',\n",
      "          n_jobs=None, penalty='l2', random_state=None, solver='warn',\n",
      "          tol=0.0001, verbose=0, warm_start=False)\n"
     ]
    }
   ],
   "source": [
    "from sklearn.model_selection import train_test_split\n",
    "from sklearn.model_selection import GridSearchCV\n",
    "from sklearn.linear_model import LogisticRegression\n",
    "tuned_parameters = [{'C': [10**-4,10**-3,10**-2,10**-1, 10**0, 10**2]}]\n",
    "model = GridSearchCV(LogisticRegression(), tuned_parameters, scoring = 'accuracy', cv=5)\n",
    "model.fit(X_train_1,y_train)\n",
    "print(model.best_estimator_)\n",
    "model=model.best_estimator_"
   ]
  },
  {
   "cell_type": "markdown",
   "metadata": {},
   "source": [
    "# Results for test data(15% of Actual)"
   ]
  },
  {
   "cell_type": "code",
   "execution_count": 451,
   "metadata": {},
   "outputs": [
    {
     "data": {
      "image/png": "[encoded data removed]",
      "text/plain": [
       "<Figure size 396x288 with 2 Axes>"
      ]
     },
     "metadata": {
      "needs_background": "light"
     },
     "output_type": "display_data"
    }
   ],
   "source": [
    "X_test_1= count_vect.transform(X_test)\n",
    "X_test_1=Standard.transform(X_test_1)\n",
    "conf_matrix(model,X_test_1,X_train_1,y_test,y_train)"
   ]
  },
  {
   "cell_type": "markdown",
   "metadata": {},
   "source": [
    "# <h4> Result For Data obtained from 3.txt file </h4>"
   ]
  },
  {
   "cell_type": "code",
   "execution_count": 452,
   "metadata": {},
   "outputs": [
    {
     "name": "stderr",
     "output_type": "stream",
     "text": [
      "[nltk_data] Downloading package wordnet to\n",
      "[nltk_data]     C:\\Users\\Mayur\\AppData\\Roaming\\nltk_data...\n",
      "[nltk_data]   Package wordnet is already up-to-date!\n"
     ]
    }
   ],
   "source": [
    "final_string_test=pre_processed(test_text)\n",
    "X_test_2=np.asarray(final_string_test)\n",
    "X_test_2= count_vect.transform(X_test_2)\n",
    "X_test_2=Standard.transform(X_test_2)\n",
    "prediction=model.predict(X_test_2)\n",
    "df=pd.DataFrame()\n",
    "df[\"index of text\"]=test_index2\n",
    "df[\"prediction\"]=prediction\n",
    "df['Review']=test_text\n",
    "df.to_csv('BOW_LR.csv')"
   ]
  },
  {
   "cell_type": "markdown",
   "metadata": {},
   "source": [
    "# TF-IDF FOR TEXT TO VECTOR CONVERSION"
   ]
  },
  {
   "cell_type": "code",
   "execution_count": 453,
   "metadata": {},
   "outputs": [],
   "source": [
    "tf_idf_vect = TfidfVectorizer()\n",
    "X_train_1= tf_idf_vect.fit_transform(X_train)"
   ]
  },
  {
   "cell_type": "code",
   "execution_count": 454,
   "metadata": {},
   "outputs": [],
   "source": [
    "Standard=StandardScaler(with_mean=False).fit(X_train_1)\n",
    "Standard_data=Standard.transform(X_train_1)\n",
    "X_train_1=Standard_data"
   ]
  },
  {
   "cell_type": "markdown",
   "metadata": {},
   "source": [
    "# TF-IDF-Logistic Regression"
   ]
  },
  {
   "cell_type": "code",
   "execution_count": 455,
   "metadata": {},
   "outputs": [
    {
     "name": "stdout",
     "output_type": "stream",
     "text": [
      "LogisticRegression(C=0.01, class_weight=None, dual=False, fit_intercept=True,\n",
      "          intercept_scaling=1, max_iter=100, multi_class='warn',\n",
      "          n_jobs=None, penalty='l2', random_state=None, solver='warn',\n",
      "          tol=0.0001, verbose=0, warm_start=False)\n"
     ]
    }
   ],
   "source": [
    "from sklearn.model_selection import train_test_split\n",
    "from sklearn.model_selection import GridSearchCV\n",
    "from sklearn.linear_model import LogisticRegression\n",
    "tuned_parameters = [{'C': [10**x for x in range(-8,3)]}]\n",
    "model = GridSearchCV(LogisticRegression(), tuned_parameters, scoring = 'accuracy', cv=5)\n",
    "model.fit(X_train_1,y_train)\n",
    "print(model.best_estimator_)\n",
    "model=model.best_estimator_"
   ]
  },
  {
   "cell_type": "code",
   "execution_count": 456,
   "metadata": {},
   "outputs": [
    {
     "data": {
      "image/png": "[encoded data removed]",
      "text/plain": [
       "<Figure size 396x288 with 2 Axes>"
      ]
     },
     "metadata": {
      "needs_background": "light"
     },
     "output_type": "display_data"
    }
   ],
   "source": [
    "X_test_1= tf_idf_vect.transform(X_test)\n",
    "X_test_1=Standard.transform(X_test_1)\n",
    "conf_matrix(model,X_test_1,X_train_1,y_test,y_train)"
   ]
  },
  {
   "cell_type": "markdown",
   "metadata": {},
   "source": [
    "<h4> Result For Data obtained from 3.txt file </h4>"
   ]
  },
  {
   "cell_type": "code",
   "execution_count": 457,
   "metadata": {},
   "outputs": [
    {
     "name": "stderr",
     "output_type": "stream",
     "text": [
      "[nltk_data] Downloading package wordnet to\n",
      "[nltk_data]     C:\\Users\\Mayur\\AppData\\Roaming\\nltk_data...\n",
      "[nltk_data]   Package wordnet is already up-to-date!\n"
     ]
    }
   ],
   "source": [
    "final_string_test=pre_processed(test_text)\n",
    "X_test_2=np.asarray(final_string_test)\n",
    "X_test_2= tf_idf_vect.transform(X_test_2)\n",
    "X_test_2=Standard.transform(X_test_2)\n",
    "prediction=model.predict(X_test_2)\n",
    "df=pd.DataFrame()\n",
    "df[\"index of text\"]=test_index2\n",
    "df[\"prediction\"]=prediction\n",
    "df['Review']=test_text\n",
    "df.to_csv('TFIDF_LR.csv')"
   ]
  },
  {
   "cell_type": "markdown",
   "metadata": {},
   "source": [
    "# TFIDF-Random Forest"
   ]
  },
  {
   "cell_type": "code",
   "execution_count": 458,
   "metadata": {},
   "outputs": [
    {
     "name": "stdout",
     "output_type": "stream",
     "text": [
      "RandomForestClassifier(bootstrap=True, class_weight=None, criterion='gini',\n",
      "            max_depth=15, max_features='auto', max_leaf_nodes=None,\n",
      "            min_impurity_decrease=0.0, min_impurity_split=None,\n",
      "            min_samples_leaf=1, min_samples_split=2,\n",
      "            min_weight_fraction_leaf=0.0, n_estimators=400, n_jobs=None,\n",
      "            oob_score=False, random_state=42, verbose=0, warm_start=False)\n"
     ]
    }
   ],
   "source": [
    "rfc=RandomForestClassifier(random_state=42)\n",
    "param_grid = { \n",
    "    'n_estimators': [400,500,700],\n",
    "    'max_depth' : [5,10,15],\n",
    "}\n",
    "model = GridSearchCV(estimator=rfc, param_grid=param_grid, cv= 5)\n",
    "model.fit(X_train_1, y_train)\n",
    "print(model.best_estimator_)\n",
    "model=model.best_estimator_"
   ]
  },
  {
   "cell_type": "code",
   "execution_count": 459,
   "metadata": {},
   "outputs": [
    {
     "data": {
      "image/png": "[encoded data removed]",
      "text/plain": [
       "<Figure size 396x288 with 2 Axes>"
      ]
     },
     "metadata": {
      "needs_background": "light"
     },
     "output_type": "display_data"
    }
   ],
   "source": [
    "X_test_1= tf_idf_vect.transform(X_test)\n",
    "X_test_1=Standard.transform(X_test_1)\n",
    "conf_matrix(model,X_test_1,X_train_1,y_test,y_train)"
   ]
  },
  {
   "cell_type": "code",
   "execution_count": 460,
   "metadata": {},
   "outputs": [
    {
     "name": "stderr",
     "output_type": "stream",
     "text": [
      "[nltk_data] Downloading package wordnet to\n",
      "[nltk_data]     C:\\Users\\Mayur\\AppData\\Roaming\\nltk_data...\n",
      "[nltk_data]   Package wordnet is already up-to-date!\n"
     ]
    }
   ],
   "source": [
    "final_string_test=pre_processed(test_text)\n",
    "X_test_2=np.asarray(final_string_test)\n",
    "X_test_2= tf_idf_vect.transform(X_test_2)\n",
    "X_test_2=Standard.transform(X_test_2)\n",
    "prediction=model.predict(X_test_2)\n",
    "df=pd.DataFrame()\n",
    "df[\"index of text\"]=test_index2\n",
    "df[\"prediction\"]=prediction\n",
    "df['Review']=test_text\n",
    "df.to_csv('TFIDF_RF.csv')"
   ]
  },
  {
   "cell_type": "markdown",
   "metadata": {},
   "source": [
    "# Word to Vector Method"
   ]
  },
  {
   "cell_type": "code",
   "execution_count": 329,
   "metadata": {},
   "outputs": [],
   "source": [
    "def pre_processed_w2v(text):\n",
    "    list_of_sent=[]\n",
    "    sno = WordNetLemmatizer() \n",
    "    for sent in text:\n",
    "        filtered_sentence=[]\n",
    "        sent=cleanhtml(sent)\n",
    "        for w in sent.split():\n",
    "            for cleaned_words in cleanpunc(w).split():\n",
    "                if(cleaned_words.isalpha()):    \n",
    "                    filtered_sentence.append(sno.lemmatize(cleaned_words.lower()))\n",
    "                else:\n",
    "                    continue \n",
    "        list_of_sent.append(filtered_sentence)\n",
    "    return list_of_sent"
   ]
  },
  {
   "cell_type": "code",
   "execution_count": 330,
   "metadata": {},
   "outputs": [],
   "source": [
    "def vec_sent(X): \n",
    "    sent_vectors = []; # the avg-w2v for each sentence/review is stored in this list\n",
    "    for sent in X: # for each review/sentence\n",
    "        sent_vec = np.zeros(300) # as word vectors are of zero length\n",
    "        cnt_words =0; # num of words with a valid vector in the sentence/review\n",
    "        for word in sent: # for each word in a review/sentence\n",
    "            try:\n",
    "                vec = w2v_model.wv[word]\n",
    "                sent_vec += vec\n",
    "                cnt_words += 1\n",
    "            except:\n",
    "                pass\n",
    "        sent_vec /= cnt_words\n",
    "        sent_vectors.append(sent_vec)\n",
    "    return sent_vectors "
   ]
  },
  {
   "cell_type": "code",
   "execution_count": 348,
   "metadata": {},
   "outputs": [],
   "source": [
    "list_of_sent=pre_processed_w2v(text)\n",
    "X_train, X_test, y_train, y_test = train_test_split(list_of_sent,label1, test_size=0.15, random_state=42)\n",
    "w2v_model=gensim.models.Word2Vec(X_train,min_count=2,size=300, workers=4) \n",
    "X_train_1=vec_sent(X_train)"
   ]
  },
  {
   "cell_type": "code",
   "execution_count": 351,
   "metadata": {},
   "outputs": [
    {
     "data": {
      "text/plain": [
       "array([[5672,    0],\n",
       "       [5672,    1],\n",
       "       [5672,    2],\n",
       "       ...,\n",
       "       [6246,  297],\n",
       "       [6246,  298],\n",
       "       [6246,  299]], dtype=int64)"
      ]
     },
     "execution_count": 351,
     "metadata": {},
     "output_type": "execute_result"
    }
   ],
   "source": [
    "np.argwhere(np.isnan(np.asarray(X_train_1)))"
   ]
  },
  {
   "cell_type": "code",
   "execution_count": 352,
   "metadata": {},
   "outputs": [],
   "source": [
    "from sklearn.preprocessing import Imputer\n",
    "impute=Imputer(strategy='mean')\n",
    "impute.fit(X_train_1)\n",
    "X_train_1=impute.transform(X_train_1)"
   ]
  },
  {
   "cell_type": "code",
   "execution_count": 353,
   "metadata": {},
   "outputs": [],
   "source": [
    "Scaler=StandardScaler()\n",
    "Scaler.fit(X_train_1)\n",
    "X_train_1=Scaler.transform(X_train_1)"
   ]
  },
  {
   "cell_type": "code",
   "execution_count": 354,
   "metadata": {},
   "outputs": [
    {
     "name": "stdout",
     "output_type": "stream",
     "text": [
      "LogisticRegression(C=1000, class_weight=None, dual=False, fit_intercept=True,\n",
      "          intercept_scaling=1, max_iter=100, multi_class='warn',\n",
      "          n_jobs=None, penalty='l2', random_state=None, solver='warn',\n",
      "          tol=0.0001, verbose=0, warm_start=False)\n"
     ]
    }
   ],
   "source": [
    "tuned_parameters = [{'C': [10**-3,10**-2,10**-1,1,10,100,1000]}]\n",
    "model = GridSearchCV(LogisticRegression(), tuned_parameters, scoring = 'accuracy', cv=5)\n",
    "model.fit(X_train_1, y_train)\n",
    "print(model.best_estimator_)\n",
    "model=model.best_estimator_"
   ]
  },
  {
   "cell_type": "code",
   "execution_count": 355,
   "metadata": {},
   "outputs": [
    {
     "data": {
      "image/png": "[encoded data removed]",
      "text/plain": [
       "<Figure size 396x288 with 2 Axes>"
      ]
     },
     "metadata": {
      "needs_background": "light"
     },
     "output_type": "display_data"
    }
   ],
   "source": [
    "X_test_1=vec_sent(X_test)\n",
    "X_test_1=impute.transform(X_test_1)\n",
    "X_test_1=Scaler.transform(X_test_1)\n",
    "conf_matrix(model,X_test_1,X_train_1,y_test,y_train)"
   ]
  },
  {
   "cell_type": "markdown",
   "metadata": {},
   "source": [
    "<h4> Result For Data obtained from 3.txt file </h4>"
   ]
  },
  {
   "cell_type": "code",
   "execution_count": 360,
   "metadata": {},
   "outputs": [],
   "source": [
    "final_string_test=pre_processed_w2v(test_text)\n",
    "X_test_2= vec_sent(np.asarray(final_string_test))\n",
    "X_test_2=impute.transform(X_test_2)\n",
    "X_test_2=Scaler.transform(X_test_2)\n",
    "prediction=model.predict(X_test_2)\n",
    "df=pd.DataFrame()\n",
    "df[\"index of text\"]=test_index2\n",
    "df[\"prediction\"]=prediction\n",
    "df['Review']=test_text\n",
    "df.to_csv('W2V_LR.csv')"
   ]
  },
  {
   "cell_type": "markdown",
   "metadata": {},
   "source": [
    "# Random Forest Model On W2V "
   ]
  },
  {
   "cell_type": "code",
   "execution_count": 362,
   "metadata": {},
   "outputs": [],
   "source": [
    "list_of_sent=pre_processed_w2v(text)\n",
    "X_train, X_test, y_train, y_test = train_test_split(list_of_sent,label1, test_size=0.15, random_state=42)\n",
    "w2v_model=gensim.models.Word2Vec(X_train,min_count=2,size=300, workers=4) \n",
    "X_train_1=vec_sent(X_train)\n",
    "# Imputer\n",
    "impute=Imputer(strategy='mean')\n",
    "impute.fit(X_train_1)\n",
    "X_train_1=impute.transform(X_train_1)\n",
    "# Standardization\n",
    "Scaler=StandardScaler()\n",
    "Scaler.fit(X_train_1)\n",
    "X_train_1=Scaler.transform(X_train_1)"
   ]
  },
  {
   "cell_type": "code",
   "execution_count": 363,
   "metadata": {},
   "outputs": [
    {
     "name": "stdout",
     "output_type": "stream",
     "text": [
      "RandomForestClassifier(bootstrap=True, class_weight=None, criterion='gini',\n",
      "            max_depth=8, max_features='auto', max_leaf_nodes=None,\n",
      "            min_impurity_decrease=0.0, min_impurity_split=None,\n",
      "            min_samples_leaf=1, min_samples_split=2,\n",
      "            min_weight_fraction_leaf=0.0, n_estimators=500, n_jobs=None,\n",
      "            oob_score=False, random_state=42, verbose=0, warm_start=False)\n"
     ]
    }
   ],
   "source": [
    "rfc=RandomForestClassifier(random_state=42)\n",
    "param_grid = { \n",
    "    'n_estimators': [20,30,50,100,200,400,500],\n",
    "    'max_depth' : [7,8,9,10],\n",
    "}\n",
    "model = GridSearchCV(estimator=rfc, param_grid=param_grid, cv= 5)\n",
    "model.fit(X_train_1, y_train)\n",
    "print(model.best_estimator_)\n",
    "model=model.best_estimator_"
   ]
  },
  {
   "cell_type": "code",
   "execution_count": 364,
   "metadata": {},
   "outputs": [
    {
     "data": {
      "image/png": "[encoded data removed]",
      "text/plain": [
       "<Figure size 396x288 with 2 Axes>"
      ]
     },
     "metadata": {
      "needs_background": "light"
     },
     "output_type": "display_data"
    }
   ],
   "source": [
    "X_test_1=vec_sent(X_test)\n",
    "X_test_1=impute.transform(X_test_1)\n",
    "X_test_1=Scaler.transform(X_test_1)\n",
    "conf_matrix(model,X_test_1,X_train_1,y_test,y_train)"
   ]
  },
  {
   "cell_type": "code",
   "execution_count": 365,
   "metadata": {},
   "outputs": [],
   "source": [
    "final_string_test=pre_processed_w2v(test_text)\n",
    "X_test_2= vec_sent(np.asarray(final_string_test))\n",
    "X_test_2=impute.transform(X_test_2)\n",
    "X_test_2=Scaler.transform(X_test_2)\n",
    "prediction=model.predict(X_test_2)\n",
    "df=pd.DataFrame()\n",
    "df[\"index of text\"]=test_index2\n",
    "df[\"prediction\"]=prediction\n",
    "df['Review']=test_text\n",
    "df.to_csv('W2V_RF.csv')"
   ]
  },
  {
   "cell_type": "markdown",
   "metadata": {},
   "source": [
    "# SVM on W2V"
   ]
  },
  {
   "cell_type": "code",
   "execution_count": 379,
   "metadata": {},
   "outputs": [],
   "source": [
    "list_of_sent=pre_processed_w2v(text)\n",
    "X_train, X_test, y_train, y_test = train_test_split(list_of_sent,label1, test_size=0.15, random_state=42)\n",
    "X_train, X_CV, y_train, y_CV = train_test_split(X_train,y_train, test_size=0.15, random_state=42)\n",
    "w2v_model=gensim.models.Word2Vec(X_train,min_count=2,size=300, workers=4) \n",
    "X_train_1=vec_sent(X_train)\n",
    "X_cv_1=vec_sent(X_CV)\n",
    "# Imputer\n",
    "impute=Imputer(strategy='mean')\n",
    "impute.fit(X_train_1)\n",
    "X_train_1=impute.transform(X_train_1)\n",
    "X_cv_1=impute.transform(X_cv_1)\n",
    "# Standardization\n",
    "Scaler=StandardScaler()\n",
    "Scaler.fit(X_train_1)\n",
    "X_train_1=Scaler.transform(X_train_1)\n",
    "X_cv_1=Scaler.transform(X_cv_1)"
   ]
  },
  {
   "cell_type": "code",
   "execution_count": 380,
   "metadata": {},
   "outputs": [],
   "source": [
    "X_test_1=vec_sent(X_test)\n",
    "X_test_1=impute.transform(X_test_1)\n",
    "X_test_1=Scaler.transform(X_test_1)"
   ]
  },
  {
   "cell_type": "code",
   "execution_count": 381,
   "metadata": {},
   "outputs": [
    {
     "name": "stdout",
     "output_type": "stream",
     "text": [
      "for C = 1e-07\n",
      "Log Loss : 0.33954987302545386\n",
      "for C = 1e-06\n",
      "Log Loss : 0.297525016476218\n",
      "for C = 1e-05\n",
      "Log Loss : 0.2978415542296643\n",
      "for C = 0.0001\n",
      "Log Loss : 0.33216979354797277\n",
      "for C = 0.001\n",
      "Log Loss : 0.29764506397535284\n",
      "for C = 0.01\n",
      "Log Loss : 0.33496782246190365\n",
      "for C = 0.1\n",
      "Log Loss : 0.39225451974276715\n",
      "for C = 1\n",
      "Log Loss : 0.46245165062175614\n",
      "for C = 10\n",
      "Log Loss : 0.5633254899427166\n",
      "for C = 100\n",
      "Log Loss : 0.6427356974165799\n"
     ]
    },
    {
     "data": {
      "image/png": "[encoded data removed]",
      "text/plain": [
       "<Figure size 432x288 with 1 Axes>"
      ]
     },
     "metadata": {
      "needs_background": "light"
     },
     "output_type": "display_data"
    },
    {
     "name": "stdout",
     "output_type": "stream",
     "text": [
      "For values of best alpha =  1e-06 The train log loss is: 0.27841051117639576\n",
      "For values of best alpha =  1e-06 The cross validation log loss is: 0.297525016476218\n",
      "For values of best alpha =  1e-06 The test log loss is: 0.2853680300483015\n"
     ]
    }
   ],
   "source": [
    "from sklearn.linear_model import SGDClassifier\n",
    "from sklearn.calibration import CalibratedClassifierCV\n",
    "from sklearn.metrics import log_loss\n",
    "alpha = [10 ** x for x in range(-7, 3)]\n",
    "cv_log_error_array = []\n",
    "for i in alpha:\n",
    "    print(\"for C =\", i)\n",
    "    clf = SGDClassifier( alpha=i, penalty='l2', loss='hinge', random_state=42)\n",
    "    clf.fit(X_train_1,y_train)\n",
    "    sig_clf = CalibratedClassifierCV(clf, method=\"sigmoid\")\n",
    "    sig_clf.fit(X_train_1,y_train)\n",
    "    sig_clf_probs = sig_clf.predict_proba(X_cv_1)\n",
    "    cv_log_error_array.append(log_loss(y_CV, sig_clf_probs, labels=clf.classes_, eps=1e-15))\n",
    "    print(\"Log Loss :\",log_loss(y_CV, sig_clf_probs)) \n",
    "    \n",
    "fig, ax = plt.subplots()\n",
    "ax.plot(alpha, cv_log_error_array,c='g')\n",
    "for i, txt in enumerate(np.round(cv_log_error_array,3)):\n",
    "    ax.annotate((alpha[i],str(txt)), (alpha[i],cv_log_error_array[i]))\n",
    "plt.grid()\n",
    "plt.title(\"Cross Validation Error for each alpha\")\n",
    "plt.xlabel(\"Alpha i's\")\n",
    "plt.ylabel(\"Error measure\")\n",
    "plt.show()\n",
    "best_alpha = np.argmin(cv_log_error_array)\n",
    "# clf = SVC(C=i,kernel='linear',probability=True, class_weight='balanced')\n",
    "clf = SGDClassifier(alpha=alpha[best_alpha], penalty='l2', loss='hinge', random_state=42)\n",
    "clf.fit(X_train_1,y_train)\n",
    "sig_clf = CalibratedClassifierCV(clf, method=\"sigmoid\")\n",
    "sig_clf.fit(X_train_1,y_train)\n",
    "\n",
    "predict_y = sig_clf.predict_proba(X_train_1)\n",
    "print('For values of best alpha = ', alpha[best_alpha], \"The train log loss is:\",log_loss(y_train, predict_y, labels=clf.classes_, eps=1e-15))\n",
    "predict_y = sig_clf.predict_proba(X_cv_1)\n",
    "print('For values of best alpha = ', alpha[best_alpha], \"The cross validation log loss is:\",log_loss(y_CV, predict_y, labels=clf.classes_, eps=1e-15))\n",
    "predict_y = sig_clf.predict_proba(X_test_1)\n",
    "print('For values of best alpha = ', alpha[best_alpha], \"The test log loss is:\",log_loss(y_test, predict_y, labels=clf.classes_, eps=1e-15))"
   ]
  },
  {
   "cell_type": "markdown",
   "metadata": {},
   "source": [
    "<h4> Result For Data obtained from 3.txt file </h4>"
   ]
  },
  {
   "cell_type": "code",
   "execution_count": 383,
   "metadata": {},
   "outputs": [],
   "source": [
    "final_string_test=pre_processed_w2v(test_text)\n",
    "X_test_2= vec_sent(np.asarray(final_string_test))\n",
    "X_test_2=impute.transform(X_test_2)\n",
    "X_test_2=Scaler.transform(X_test_2)\n",
    "prediction=sig_clf.predict(X_test_2)\n",
    "df=pd.DataFrame()\n",
    "df[\"index of text\"]=test_index2\n",
    "df[\"prediction\"]=prediction\n",
    "df['Review']=test_text\n",
    "df.to_csv('W2V_SVM.csv')"
   ]
  },
  {
   "cell_type": "code",
   "execution_count": null,
   "metadata": {},
   "outputs": [],
   "source": []
  }
 ],
 "metadata": {
  "kernelspec": {
   "display_name": "Python 3",
   "language": "python",
   "name": "python3"
  },
  "language_info": {
   "codemirror_mode": {
    "name": "ipython",
    "version": 3
   },
   "file_extension": ".py",
   "mimetype": "text/x-python",
   "name": "python",
   "nbconvert_exporter": "python",
   "pygments_lexer": "ipython3",
   "version": "3.6.8"
  }
 },
 "nbformat": 4,
 "nbformat_minor": 2
}
